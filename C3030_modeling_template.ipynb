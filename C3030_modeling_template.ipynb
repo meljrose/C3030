{
 "cells": [
  {
   "cell_type": "markdown",
   "metadata": {},
   "source": [
    "# Modeling"
   ]
  },
  {
   "cell_type": "markdown",
   "metadata": {},
   "source": [
    "2017-07-13 MJ Rose with scripts from J. Callingham"
   ]
  },
  {
   "cell_type": "code",
   "execution_count": 66,
   "metadata": {
    "ExecuteTime": {
     "end_time": "2017-07-25T09:46:48.599234",
     "start_time": "2017-07-25T09:46:48.268334"
    },
    "collapsed": false
   },
   "outputs": [],
   "source": [
    "%matplotlib inline\n",
    "from matplotlib import pyplot as plt\n",
    "from IPython.display import Image, display\n",
    "import numpy as np\n",
    "import os, glob, subprocess, time, psutil, sys, shutil, fnmatch\n",
    "import pandas as pd\n",
    "import pymultinest,os, threading, subprocess,time, math\n",
    "import scipy.optimize as opt\n",
    "import scipy.stats as stats\n",
    "import scipy.special as special # For access to the incomplete gamma function.\n",
    "import emcee, corner, inspect\n",
    "from collections import namedtuple\n",
    "from collections import OrderedDict\n",
    "import copy\n",
    "\n",
    "\n",
    "\n",
    "if not os.path.exists(\"chains\"): os.mkdir(\"chains\") # This is important.\n",
    "# This makes a directory called \"chains\". This is where the walker information\n",
    "# is being stored by Multinest. All Pymultinest does is then read them in.\n",
    "\n",
    "# Joe's SED plotting \n",
    "import seds_plot_func\n",
    "from gpscssmodels import *\n",
    "\n",
    "# my own\n",
    "from reduction_funcs import *\n",
    "\n",
    "# read in data\n",
    "sedfile = 'sed_df.pkl'\n",
    "sed_loc = os.getcwd()+\"/\"+sedfile\n",
    "sed_df = pd.read_pickle(sed_loc)\n",
    "\n",
    "# set save path\n",
    "image_dir = \"/Users/mmcintosh/Dropbox/ASTRON2017/C3030/model_plots/\"\n",
    "if not os.path.exists(image_dir):\n",
    "\tos.makedirs(image_dir)\n",
    "    \n",
    "    \n",
    "# default source to model\n",
    "interactive = False\n",
    "source = 59"
   ]
  },
  {
   "cell_type": "markdown",
   "metadata": {},
   "source": [
    "# prep the data"
   ]
  },
  {
   "cell_type": "code",
   "execution_count": 67,
   "metadata": {
    "ExecuteTime": {
     "end_time": "2017-07-25T09:46:49.777967",
     "start_time": "2017-07-25T09:46:49.741595"
    },
    "collapsed": false
   },
   "outputs": [
    {
     "name": "stdout",
     "output_type": "stream",
     "text": [
      "pks1740-649\n"
     ]
    }
   ],
   "source": [
    "\n",
    "freq_arr = sed_df.loc[source][\"freq\"]*1000 # in MHz\n",
    "flux_arr = sed_df.loc[source][\"flux\"]\n",
    "flux_err_arr = sed_df.loc[source][\"flux_err\"]\n",
    "name = sed_df.loc[source][\"name\"]\n",
    "print(name)\n",
    "\n",
    "x = freq_arr\n",
    "y = flux_arr\n",
    "yerr = flux_err_arr\n",
    "freq_cont = np.linspace(np.min(freq_arr),np.max(freq_arr),1000)"
   ]
  },
  {
   "cell_type": "code",
   "execution_count": 68,
   "metadata": {
    "ExecuteTime": {
     "end_time": "2017-07-25T09:46:51.318254",
     "start_time": "2017-07-25T09:46:50.985485"
    },
    "collapsed": false
   },
   "outputs": [],
   "source": [
    "# custom function \n",
    "def get_argnames(func):\n",
    "    return(func.__code__.co_varnames[:func.__code__.co_argcount][1:])\n",
    "\n",
    "\n",
    "def help_unpack(theta):\n",
    "    if isinstance(theta,np.ndarray):\n",
    "        return(copy.copy(theta))\n",
    "    else:\n",
    "        # its probably a generator func from multinest\n",
    "        temp = [theta[i] for i in np.arange(ndim)]\n",
    "        return(temp)\n",
    "\n",
    "def init_repeated_params(arg, param):\n",
    "    ''' if you have something like Snorm, Snorm2, Snorm3\n",
    "    then this function places them at 2x, 4x, 6x ... out \n",
    "    from the original Snorm '''\n",
    "    temp = re.search('\\d', arg)\n",
    "    if temp is not None:\n",
    "        occurance = int(temp.group())\n",
    "        if occurance >= 2:\n",
    "            param = param *2*(occurance -1)\n",
    "    return(param)\n",
    "\n",
    "\n",
    "def make_prior_dictionary(func, x,y):\n",
    "    argnames = get_argnames(func)\n",
    "    # set up prior information\n",
    "    Prior = namedtuple('Prior', ['guess', 'min', 'max'])\n",
    "    keys = []\n",
    "    for arg in argnames:\n",
    "        if \"norm\" in arg:\n",
    "            param = Prior(init_repeated_params(arg, np.max(y)), 0.0, 1e+3)\n",
    "        elif \"alpha\" in arg:\n",
    "            param = Prior(0.7, 0.0, 10.0)\n",
    "        elif \"freq\" in arg:\n",
    "            param = Prior(init_repeated_params(arg, x[np.argmax(y)]), 0.0, 1e+5)\n",
    "        elif \"p\" in arg:\n",
    "            param = Prior(-0.3, -10.0, 10.0)\n",
    "        elif \"beta\" in arg:\n",
    "            param = Prior(3, -10.0, 1.0)\n",
    "        elif \"gamma\" in arg:\n",
    "            param = Prior(1, 0.0, 10.0)\n",
    "        elif 'q' in arg:\n",
    "            param = Prior(1, 0.0, 10.0)\n",
    "        else:\n",
    "            param = Prior(1, 0.0, 1e+5)\n",
    "        keys.append(param)\n",
    "    dictionary = OrderedDict(zip(argnames, keys))\n",
    "    return(dictionary)\n",
    "\n",
    "def check_if_in_prior(theta, prior_dict, set_to_nearest=False, set_to_random=False): \n",
    "    ''' if parameters are within the prior boundaries, returns them. Otherwise, it returns False.\n",
    "    set_to_nearest replaces the out of bounds value with the nearest boundary'''\n",
    "    params = help_unpack(theta)\n",
    "    for i, (name, prior) in enumerate(prior_dict.items()): \n",
    "        if not (prior.min <= params[i] < prior.max):\n",
    "            #if set_to_nearest: \n",
    "                # if not within prior bounds, set the param equal to the closest boundary\n",
    "                #params[i] = min([prior.min, prior.max], key=lambda x:abs(x-params[i]))\n",
    "            if set_to_random:\n",
    "                # if not within prior bounds, set it to a random value in between max & min\n",
    "                params[i] = np.random.uniform(prior.min,prior.max,1)\n",
    "            else:\n",
    "                return(False)\n",
    "    return(params)\n",
    "\n",
    "# for both emcee and multinest\n",
    "def lnlike(theta, ndim, nparams):\n",
    "    #(theta,x,y,yerr,func):\n",
    "    params = help_unpack(theta)\n",
    "    inv_sigma = 1.0/(yerr**2)\n",
    "    loglike = -0.5*(np.nansum((y-func(x,*params))**2*inv_sigma - np.log(inv_sigma))) \n",
    "    \n",
    "    # the model will return -0.0 if it gets a divide by zero error, \n",
    "    # which happens if the parameters are too big\n",
    "    if loglike == -0.0:\n",
    "        loglike = -np.inf\n",
    "    return(loglike)\n",
    "\n",
    "def emcee_lnprior(theta, prior_dict): \n",
    "    params = check_if_in_prior(theta, prior_dict)\n",
    "    if not isinstance(params, list):\n",
    "        return(-np.inf)\n",
    "    else:\n",
    "        # flat prior\n",
    "        return(0.00)\n",
    "   \n",
    "def multinest_lnprior(cube, ndim, n_params):\n",
    "    '''This transforms a unit cube into the dimensions of your prior\n",
    "    space to search. Make sure you do this right!'''\n",
    "    for i in np.arange(ndim):\n",
    "        cube[i] = cube[i] * emcee_fit[i]*sig\n",
    "    \n",
    "        \n",
    "def emcee_lnprob(theta, ndim, n_params, prior_dict):\n",
    "    lp = emcee_lnprior(theta, prior_dict)\n",
    "    if not np.isfinite(lp):\n",
    "        return -np.inf\n",
    "    prob = lp + lnlike(theta, ndim, n_params)\n",
    "#     if np.random.rand() < 0.001:\n",
    "#         print(prob, theta)\n",
    "    return(prob)\n",
    "\n",
    "def redchisq(ydata,ymod,sd,parafreq_arrm):\n",
    "    chisq=np.sum(((ydata-ymod)/sd)**2)\n",
    "    freq_arr=ydata.size-parafreq_arrm-1\n",
    "    return [chisq, chisq/freq_arr]\n",
    "\n",
    "def populate_walkers(ndim, scale, nwalkers, prior_dict, guess=None, set_to_random=False):\n",
    "    # initializes random positions, running it through the prior\n",
    "    # do I need to pass a random seed? \n",
    "    # if set_to_random = false, then it adds noise to 0.0 for out of bound guesses\n",
    "    pos = []\n",
    "    counter = 0 \n",
    "    while len(pos) < nwalkers:\n",
    "        counter +=1\n",
    "        # generate random scatter\n",
    "        test_theta = [(prior.max-prior.min)*scale*np.random.uniform(-1,1) for name, prior in prior_dict.items()]\n",
    "        #print(test_theta)\n",
    "        # add it to an initial guess if you have one\n",
    "        if guess is not None:\n",
    "            new_guess = check_if_in_prior(guess, prior_dict, set_to_random=set_to_random)\n",
    "            if isinstance(new_guess, np.ndarray):\n",
    "                #print('guess',guess[-1])\n",
    "                test_theta += new_guess\n",
    "                #print('theta',test_theta[-1])\n",
    "        # if this is within the prior, keep it\n",
    "        test_theta = check_if_in_prior(test_theta, prior_dict)\n",
    "        if isinstance(test_theta, np.ndarray):\n",
    "            pos.append(test_theta)\n",
    "        if counter > 1e+5:\n",
    "            print('check your scale, populate_walkers has reached 1e+5 iterations')\n",
    "            return(None)\n",
    "    return(pos)\n",
    "\n",
    "\n",
    "def make_plot_labels(func):\n",
    "    input_list = func.__code__.co_varnames[1:]\n",
    "    labels = []\n",
    "    for i in input_list:\n",
    "        if 'freq' in i:\n",
    "            i=i.replace('freq',\"\\\\nu\") \n",
    "        temp = i.split('_')\n",
    "        if len(temp) > 1:\n",
    "            labels.append(temp[0]+'_{{{0}}}'.format(temp[1]))\n",
    "        else:\n",
    "            if i in ['alpha','beta']:\n",
    "                i = \"\\\\\"+i\n",
    "            match = re.match(\"([a-z]+)([0-9]+)\", i, re.I)\n",
    "            if match:\n",
    "                items = match.groups()\n",
    "                labels.append('\\\\'+items[0]+'_{{{0}}}'.format(items[1]))\n",
    "            else:\n",
    "                labels.append(i)\n",
    "    labels = [\"$\"+i+\"$\" for i in labels]\n",
    "    return(labels)\n"
   ]
  },
  {
   "cell_type": "code",
   "execution_count": 69,
   "metadata": {
    "ExecuteTime": {
     "end_time": "2017-07-25T09:46:51.849864",
     "start_time": "2017-07-25T09:46:51.841058"
    },
    "collapsed": false
   },
   "outputs": [],
   "source": [
    "# model_list = ([singhomobremss,singhomobremsscurve,singhomobremssbreak,singhomobremssbreakexp,\n",
    "#                singinhomobremss,singinhomobremsscurve,singinhomobremssbreak, singinhomobremssbreakexp,\n",
    "#                doubhomobremss,doubhomobremsscurve, doubhomobremssbreakexp,\n",
    "#                singSSA,singSSAbreakexp,\n",
    "#                doubSSA,doubSSAbreakexp,\n",
    "#                tripSSA,quadSSA,\n",
    "#                powlaw,powlawbreak,powlawbreak_nophys,powlawexp,\n",
    "#                internalbremss,\n",
    "#                curve,curvepowlaw,duffcurve,logduffcurve])\n"
   ]
  },
  {
   "cell_type": "markdown",
   "metadata": {},
   "source": [
    "# Model"
   ]
  },
  {
   "cell_type": "code",
   "execution_count": 71,
   "metadata": {
    "ExecuteTime": {
     "end_time": "2017-07-25T09:48:00.311928",
     "start_time": "2017-07-25T09:47:56.453954"
    },
    "collapsed": false,
    "scrolled": false
   },
   "outputs": [
    {
     "name": "stdout",
     "output_type": "stream",
     "text": [
      "fitting models: ['singSSA']\n",
      "fitting with singSSA\n",
      "first guess: [4.3260000000000005, 3, 4850.0]\n",
      "Optimization terminated successfully.\n",
      "         Current function value: 2.730614\n",
      "         Iterations: 65\n",
      "         Function evaluations: 121\n"
     ]
    },
    {
     "data": {
      "image/png": "[encoded data removed]",
      "text/plain": [
       "<matplotlib.figure.Figure at 0x12a552518>"
      ]
     },
     "metadata": {},
     "output_type": "display_data"
    },
    {
     "data": {
      "image/png": "[encoded data removed]",
      "text/plain": [
       "<matplotlib.figure.Figure at 0x12a552518>"
      ]
     },
     "metadata": {},
     "output_type": "display_data"
    }
   ],
   "source": [
    "interactive = False\n",
    "model_list = [singSSA]#[singSSA, doubSSA,singinhomobremss,singinhomobremssbreak,singinhomobremssbreakexp,doubhomobremss, doubSSAbreakexp]\n",
    "model_names = [func.__name__ for func in model_list]\n",
    "print('fitting models: {0}'.format(model_names))\n",
    "models = pd.DataFrame(index = model_names, columns=['leastsquares', 'emcee', 'multinest'])\n",
    "for func in model_list:\n",
    "    print('fitting with {0}'.format(func.__name__))\n",
    "    ndim = (func.__code__.co_argcount - 1)\n",
    "    n_params = ndim #oddly, this needs to be specified\n",
    "    prior_dict = make_prior_dictionary(func, x,y)\n",
    "    # your guess\n",
    "    guess = [value.guess for key, value in prior_dict.items()]\n",
    "    print('first guess: {0}'.format(guess))\n",
    "    # set least squares fit to be the initial parameter guess for fmin\n",
    "    popt, pcov = opt.curve_fit(func, freq_arr, flux_arr, p0 = guess, sigma = flux_err_arr)\n",
    "\n",
    "    redchisq_list = redchisq(flux_arr,func(freq_arr,*popt),flux_err_arr,len(inspect.getargspec(func)[0])-1)\n",
    "\n",
    "    leastsquares = pd.DataFrame(data=[[0]], columns=['initial_guess'], index=[0],dtype=object)\n",
    "    leastsquares['popt'] = [popt]\n",
    "    leastsquares['pcov'] = [pcov]\n",
    "    leastsquares['redchisq'] = [redchisq_list]\n",
    "    leastsquares['initial_guess'] = [guess]\n",
    "    models.set_value(func.__name__,'leastsquares', leastsquares)\n",
    "\n",
    "\n",
    "\n",
    "    # flip our likelihood function so that when we minimize nll, we are max'ing our likelihood?\n",
    "    nll = lambda *args: -lnlike(*args)\n",
    "\n",
    "    # minimize function with downhill simplex algorithm\n",
    "    # returns array of paramaters that minimizes the input function, value of function at that min, number of iterations, number of function calls\n",
    "    # warningflag 1 (max func evals reached) or 2 (max iter reached), solution at each iteration\n",
    "    result = opt.fmin(nll, popt, args=(ndim,n_params), full_output='true')\n",
    "\n",
    "    \n",
    "    ndim, nwalkers, nsteps = len(inspect.getargspec(func)[0])-1, 50, 1000 \n",
    "    rand_seed = 45\n",
    "    np.random.seed(rand_seed) \n",
    "    # Initialising the walkers in a Gaussian ball around maximum likelihood result\n",
    "#     pos = [result[0]+ 1e-4*np.random.randn(ndim) for i in range(nwalkers)]\n",
    "    #pos = [result[0]+ np.abs(10*np.random.randn(ndim)) for i in range(nwalkers)]\n",
    "    scale = 1e-1 # noise scale, should be less than 1 \n",
    "    pos = populate_walkers(ndim, scale, nwalkers, prior_dict, guess=result[0], set_to_random=True)\n",
    "    # initializing walkers randomly\n",
    "    #pos = np.random.rand(nwalkers, ndim)\n",
    "\n",
    "#     print('*lnprior1*', list(map(lambda p: emcee_lnprior(p), pos)))\n",
    "#     print('*lnlike*', list(map(lambda p: lnlike(p, ndim, n_params), pos)))\n",
    "#     print('*lnprob*', list(map(lambda p: emcee_lnprob(p, min_arr,max_arr), pos)))\n",
    "    \n",
    "\n",
    "    # for the prior\n",
    "    sampler = emcee.EnsembleSampler(nwalkers, ndim, emcee_lnprob, args=(ndim, n_params, prior_dict))\n",
    "    sampler.run_mcmc(pos, nsteps) # This is the workhorse step.\n",
    "\n",
    "    fig = plt.figure(2,figsize=(10, 10))\n",
    "    fig.clf()\n",
    "    for j in range(ndim):\n",
    "        ax = fig.add_subplot(ndim,1,j+1)\n",
    "        ax.plot(np.array([sampler.chain[:,i,j] for i in range(nsteps)]),\"k\", alpha = 0.3)\n",
    "        ax.set_ylabel((make_plot_labels(func))[j], fontsize = 15)\n",
    "    plt.xlabel('Steps', fontsize = 15)\n",
    "    display(fig)\n",
    "\n",
    "    #############\n",
    "    break       #\n",
    "    #############\n",
    "    if interactive:\n",
    "        burnin = int(input('burnin?'))\n",
    "    else:\n",
    "        burnin = 200\n",
    "    fig.clf()\n",
    "\n",
    "\n",
    "    # To me it looks like the burn in period is well and truly over by n steps. So I will exclude those. \n",
    "    print( 'The burnin applied was {0}. Make sure the walkers have converged after that many steps.'.format(burnin))\n",
    "    samples = sampler.chain[:,burnin:,:].reshape((-1,ndim))\n",
    "    # Plotting the histograms of the fit.\n",
    "    trifig = corner.corner(samples, labels = make_plot_labels(func))\n",
    "    #trifig.savefig(image_dir+'/{0}_{1}'.format(name,func.__name__))\n",
    "    plt.close()\n",
    "\n",
    "    # Finally to get the final uncertainties you do\n",
    "    uncertainties_mcmc = list(map(lambda v: (v[1], v[2]-v[1], v[1]-v[0]), zip(*np.percentile(samples,[16,50,84], axis = 0)))) # Uncertainites based on the 16th, 50th and 84th percentile.\n",
    "    emcee_fit = np.asarray([u[0] for u in uncertainties_mcmc])\n",
    "\n",
    "    flux_arr_store = np.zeros((200,1000))\n",
    "    lower_flux_arr, upper_flux_arr = np.zeros(1000), np.zeros(1000)\n",
    "\n",
    "    j=0\n",
    "    for sample in samples[np.random.randint(len(samples), size=200)]:\n",
    "        for i in range(1000):\n",
    "            flux_arr_store[j,i] = func(freq_cont[i], *sample)\n",
    "            lower_flux_arr[i], upper_flux_arr[i] = np.percentile(flux_arr_store[:,i],[16,84], axis = 0)\n",
    "        j = j+1\n",
    "\n",
    "    mc = pd.DataFrame(data=[[0]], columns=['nwalkers'], index=[0], dtype=object)\n",
    "    mc['nwalkers'] = nwalkers\n",
    "    mc['nsteps'] = nsteps\n",
    "    mc['burnin'] = burnin\n",
    "    mc['rand_seed'] = rand_seed\n",
    "    mc['uncertainties'] = [uncertainties_mcmc]\n",
    "    mc['lowerfluxarr'] = [lower_flux_arr]\n",
    "    mc['upperfluxarr'] = [upper_flux_arr]\n",
    "    mc['fit'] = [emcee_fit]\n",
    "\n",
    "    models.set_value(func.__name__,'emcee', mc)\n",
    "\n",
    "\n",
    "\n",
    "    # multinest\n",
    "    # number of dimensions our problem has\n",
    "    ndim = (func.__code__.co_argcount - 1)\n",
    "    n_params = ndim #oddly, this needs to be specified\n",
    "    print('emcee fit: {0}'.format(emcee_fit))\n",
    "\n",
    "    # sigma away from emcee's guess\n",
    "    sig = 3\n",
    "    pymultinest.run(lnlike,multinest_lnprior,n_params, resume = False, verbose = True,sampling_efficiency = 0.3)\n",
    "\n",
    "    # lets analyse the results\n",
    "    a = pymultinest.Analyzer(n_params = n_params) #retrieves the data that has been written to hard drive\n",
    "    s = a.get_stats()\n",
    "    values = s['marginals'] # gets the marginalized posterior probability distributions \n",
    "    mn_fit = [values[i]['median'] for i in np.arange(len(values))]\n",
    "    multinest = pd.DataFrame(data=[[0]], columns=['marginals'], index=[0], dtype=object)\n",
    "    multinest['fit'] = [mn_fit]\n",
    "    for key in s:\n",
    "        if isinstance(s[key], list):\n",
    "            pass\n",
    "        else:\n",
    "            multinest[key] = s[key]\n",
    "\n",
    "    marginals = pd.DataFrame.from_dict(s['marginals'], dtype=None)\n",
    "    modes = pd.DataFrame.from_dict(s['modes'], dtype=None)\n",
    "    multinest.set_value(0,'marginals', marginals)\n",
    "    multinest.set_value(0,'modes', modes)\n",
    "\n",
    "    models.set_value(func.__name__,'multinest', multinest)\n",
    "\n",
    "    print('summary for {0}'.format(func.__name__))\n",
    "    print(\" \"*20+'{0}'.format(func.__code__.co_varnames[:func.__code__.co_argcount][1:]))\n",
    "    print('leastsquares fit:{0}'.format(popt))\n",
    "    print('emcee fit: {0}'.format(emcee_fit))\n",
    "    print('multinest fit:{0}'.format(mn_fit))\n",
    "    print('diff bw emcee and multinest:')\n",
    "    print(np.subtract(emcee_fit,mn_fit))\n",
    "\n"
   ]
  },
  {
   "cell_type": "markdown",
   "metadata": {
    "ExecuteTime": {
     "end_time": "2017-07-21T15:18:22.677468",
     "start_time": "2017-07-21T15:18:22.669557"
    },
    "collapsed": false
   },
   "source": [
    "## Debugging"
   ]
  },
  {
   "cell_type": "code",
   "execution_count": 64,
   "metadata": {
    "ExecuteTime": {
     "end_time": "2017-07-21T16:16:36.412054",
     "start_time": "2017-07-21T16:16:33.483089"
    },
    "collapsed": false,
    "scrolled": false
   },
   "outputs": [
    {
     "name": "stdout",
     "output_type": "stream",
     "text": [
      "OrderedDict([('S_norm1', Prior(guess=4.3260000000000005, min=0.0, max=1000.0)), ('S_norm2', Prior(guess=8.652000000000001, min=0.0, max=1000.0)), ('beta1', Prior(guess=3, min=-10.0, max=1.0)), ('beta2', Prior(guess=3, min=-10.0, max=1.0)), ('peak_freq1', Prior(guess=4850.0, min=0.0, max=100000.0)), ('peak_freq2', Prior(guess=9700.0, min=0.0, max=100000.0))]) [  3.23174667e-02  -2.42418650e+01  -3.09085170e-01   9.28588939e+00\n",
      "   6.28022512e-01   7.97561481e+03]\n",
      "S_norm1\n"
     ]
    },
    {
     "data": {
      "image/png": "[encoded data removed]",
      "text/plain": [
       "<matplotlib.figure.Figure at 0x119575908>"
      ]
     },
     "metadata": {},
     "output_type": "display_data"
    },
    {
     "name": "stdout",
     "output_type": "stream",
     "text": [
      "S_norm2\n"
     ]
    },
    {
     "data": {
      "image/png": "[encoded data removed]",
      "text/plain": [
       "<matplotlib.figure.Figure at 0x11b5563c8>"
      ]
     },
     "metadata": {},
     "output_type": "display_data"
    },
    {
     "name": "stdout",
     "output_type": "stream",
     "text": [
      "beta1\n"
     ]
    },
    {
     "data": {
      "image/png": "[encoded data removed]",
      "text/plain": [
       "<matplotlib.figure.Figure at 0x119d29080>"
      ]
     },
     "metadata": {},
     "output_type": "display_data"
    },
    {
     "name": "stdout",
     "output_type": "stream",
     "text": [
      "beta2\n"
     ]
    },
    {
     "data": {
      "image/png": "[encoded data removed]",
      "text/plain": [
       "<matplotlib.figure.Figure at 0x12302e0f0>"
      ]
     },
     "metadata": {},
     "output_type": "display_data"
    },
    {
     "name": "stdout",
     "output_type": "stream",
     "text": [
      "peak_freq1\n"
     ]
    },
    {
     "data": {
      "image/png": "[encoded data removed]",
      "text/plain": [
       "<matplotlib.figure.Figure at 0x115044128>"
      ]
     },
     "metadata": {},
     "output_type": "display_data"
    },
    {
     "name": "stdout",
     "output_type": "stream",
     "text": [
      "peak_freq2\n"
     ]
    },
    {
     "data": {
      "image/png": "[encoded data removed]",
      "text/plain": [
       "<matplotlib.figure.Figure at 0x119552c88>"
      ]
     },
     "metadata": {},
     "output_type": "display_data"
    }
   ],
   "source": [
    "print(prior_dict,result[0])\n",
    "argnames = get_argnames(func)\n",
    "pos = populate_walkers(ndim, 1e-2, 1000, prior_dict, guess=result[0], set_to_random=True)\n",
    "for i, arg in enumerate(argnames):\n",
    "    print(arg)\n",
    "    plt.hist([p[i] for p in pos])\n",
    "    plt.show()"
   ]
  },
  {
   "cell_type": "code",
   "execution_count": 54,
   "metadata": {
    "ExecuteTime": {
     "end_time": "2017-07-21T16:07:14.430142",
     "start_time": "2017-07-21T16:07:14.423024"
    },
    "collapsed": false
   },
   "outputs": [
    {
     "data": {
      "text/plain": [
       "OrderedDict([('S_norm1', Prior(guess=4.3260000000000005, min=0.0, max=1000.0)),\n",
       "             ('S_norm2', Prior(guess=8.652000000000001, min=0.0, max=1000.0)),\n",
       "             ('beta1', Prior(guess=3, min=-10.0, max=1.0)),\n",
       "             ('beta2', Prior(guess=3, min=-10.0, max=1.0)),\n",
       "             ('peak_freq1', Prior(guess=4850.0, min=0.0, max=100000.0)),\n",
       "             ('peak_freq2', Prior(guess=9700.0, min=0.0, max=100000.0))])"
      ]
     },
     "execution_count": 54,
     "metadata": {},
     "output_type": "execute_result"
    }
   ],
   "source": [
    "prior_dict"
   ]
  },
  {
   "cell_type": "code",
   "execution_count": 60,
   "metadata": {
    "ExecuteTime": {
     "end_time": "2017-07-21T16:12:22.857146",
     "start_time": "2017-07-21T16:12:22.849812"
    },
    "collapsed": false
   },
   "outputs": [
    {
     "data": {
      "text/plain": [
       "array([  3.23174667e-02,   9.16056206e+02,  -3.09085170e-01,\n",
       "        -3.97762361e+00,   6.28022512e-01,   7.97561481e+03])"
      ]
     },
     "execution_count": 60,
     "metadata": {},
     "output_type": "execute_result"
    }
   ],
   "source": [
    "check_if_in_prior(result[0], prior_dict, set_to_random=True)"
   ]
  },
  {
   "cell_type": "code",
   "execution_count": 348,
   "metadata": {
    "ExecuteTime": {
     "end_time": "2017-07-21T15:32:38.530034",
     "start_time": "2017-07-21T15:32:38.520037"
    },
    "collapsed": false
   },
   "outputs": [
    {
     "name": "stdout",
     "output_type": "stream",
     "text": [
      "<class 'list'> [-7.913644871737844, 0.0001958764293552995, 3.8725271809835604]\n"
     ]
    }
   ],
   "source": [
    "scale = 1e-4\n",
    "test_theta = []\n",
    "for i, (name, prior) in enumerate(prior_dict.items()): \n",
    "    test_theta.append((prior.max-prior.min)*scale*np.random.uniform(-1,1,1))\n",
    "print(type(test_theta), test_theta)"
   ]
  },
  {
   "cell_type": "code",
   "execution_count": 357,
   "metadata": {
    "ExecuteTime": {
     "end_time": "2017-07-21T15:34:25.313791",
     "start_time": "2017-07-21T15:34:25.306526"
    },
    "collapsed": false
   },
   "outputs": [
    {
     "data": {
      "text/plain": [
       "[3.5980095635335063, -0.00021216695098895034, 2.9764449770729073]"
      ]
     },
     "execution_count": 357,
     "metadata": {},
     "output_type": "execute_result"
    }
   ],
   "source": [
    "test_theta = [(prior.max-prior.min)*scale*np.random.uniform(-1,1) for name, prior in prior_dict.items()]\n",
    "test_theta"
   ]
  },
  {
   "cell_type": "code",
   "execution_count": 107,
   "metadata": {
    "ExecuteTime": {
     "end_time": "2017-07-20T16:26:39.165857",
     "start_time": "2017-07-20T16:26:39.148619"
    },
    "collapsed": false
   },
   "outputs": [
    {
     "name": "stdout",
     "output_type": "stream",
     "text": [
      "multinest evidence for singSSA: -11.26 +/- 0.13\n",
      "multinest evidence for doubSSA: 21.42 +/- 0.17\n",
      "multinest evidence for singinhomobremss: 5.55 +/- 0.15\n",
      "multinest evidence for singinhomobremssbreak: 26.34 +/- 0.15\n",
      "multinest evidence for singinhomobremssbreakexp: 23.74 +/- 0.15\n",
      "multinest evidence for doubhomobremss: 30.71 +/- 0.15\n",
      "multinest evidence for doubSSAbreakexp: 14.67 +/- 0.21\n"
     ]
    }
   ],
   "source": [
    "# print out evidence\n",
    "for idx in models.index:\n",
    "    mn_evidence = models.loc[idx].multinest['nested sampling global log-evidence'].values[0]\n",
    "    mn_evidence_err = models.loc[idx].multinest['nested sampling global log-evidence error'].values[0]\n",
    "    print('multinest evidence for {0}: {1:.2f} +/- {2:.2f}'.format(idx,mn_evidence,mn_evidence_err))"
   ]
  },
  {
   "cell_type": "code",
   "execution_count": null,
   "metadata": {
    "collapsed": true
   },
   "outputs": [],
   "source": []
  },
  {
   "cell_type": "code",
   "execution_count": null,
   "metadata": {
    "collapsed": true
   },
   "outputs": [],
   "source": []
  },
  {
   "cell_type": "code",
   "execution_count": null,
   "metadata": {
    "ExecuteTime": {
     "end_time": "2017-07-13T18:26:15.357896",
     "start_time": "2017-07-13T18:25:08.516410"
    },
    "collapsed": false,
    "scrolled": false
   },
   "outputs": [],
   "source": [
    "# SED plotting\n",
    "# residuals don't work yet\n",
    "\n",
    "print('least squares')\n",
    "# least squares fit plot\n",
    "fit_list = [models.loc[model.__name__].leastsquares.popt[0] for model in model_list]\n",
    "\n",
    "plot = seds_plot_func.sed(model_list,fit_list,freq_arr,\n",
    "           flux_arr,flux_err_arr, name, \n",
    "           freq_labels = True, savefig = False, resid=True)\n",
    "\n",
    "plot.savefig(image_dir+'/{0}_{1}.png'.format(name,'leastsquares'), bbox_inches='tight')\n",
    "plt.close()\n",
    "\n",
    "\n",
    "print('emcee')\n",
    "# emcee fit plot\n",
    "fit_list = [models.loc[model.__name__].emcee.fit[0] for model in model_list]\n",
    "\n",
    "plot = seds_plot_func.sed(model_list,fit_list,freq_arr,\n",
    "               flux_arr,flux_err_arr, name, \n",
    "               freq_labels = True, savefig = False, resid=True)\n",
    "\n",
    "plot.savefig(image_dir+'/{0}_{1}.png'.format(name,'emcee'), bbox_inches='tight')\n",
    "plt.close()\n",
    "\n",
    "\n",
    "print('multinest')\n",
    "# multinest fit plotting\n",
    "fit_list = [models.loc[model.__name__].multinest.fit[0] for model in model_list]\n",
    "\n",
    "plot = seds_plot_func.sed(model_list,fit_list,freq_arr,\n",
    "                   flux_arr,flux_err_arr, name, \n",
    "                   freq_labels = True, savefig = False, resid=True)\n",
    "plot.savefig(image_dir+'/{0}_{1}.png'.format(name,'multinest'), bbox_inches='tight')\n",
    "plt.close()\n"
   ]
  },
  {
   "cell_type": "code",
   "execution_count": null,
   "metadata": {
    "ExecuteTime": {
     "end_time": "2017-07-18T13:37:32.113216",
     "start_time": "2017-07-18T13:37:32.094656"
    },
    "collapsed": false
   },
   "outputs": [],
   "source": [
    "# latex stuff\n",
    "for index in np.arange(len(16)):\n",
    "    \n",
    "if parameter not in model:\n",
    "    toprint = '$\\cdots$'\n",
    "else:\n",
    "    toprint = '{1:.2f}'.format(value)\n",
    "    #find_param_uncertainty(value)\n",
    "    toprint += '$\\pm$ {0:.2f} &'.format(value)"
   ]
  },
  {
   "cell_type": "code",
   "execution_count": null,
   "metadata": {
    "ExecuteTime": {
     "end_time": "2017-07-13T18:23:35.695252",
     "start_time": "2017-07-13T18:23:16.786046"
    },
    "collapsed": false
   },
   "outputs": [],
   "source": [
    "# work on latex table\n",
    "\n",
    "r'\\begin{sidewaystable}\n",
    "\t\\renewcommand{\\arraystretch}{2}\n",
    "\t\\scriptsize\n",
    "\t\\centering\n",
    "\t\\caption{\\label{longtable} Best fit parameters and their associated uncertainties for the different absorption models. }\n",
    "\t\t\\begin{tabular}{lcccccccccccc}\n",
    "\t\t\\hline\n",
    "\t\t\\hline\n",
    "Models & $a_{1}$ (Jy) &  $a_{2}$ (Jy) & $\\alpha_{1}$ & $\\alpha_{2}$ & $\\beta_{1}$ & $\\beta_{2}$  & $\\nu_{\\mathrm{p},1}$ (GHz)  & $\\nu_{\\mathrm{p},2}$ (GHz)  & $p$  & $\\nu_{\\mathrm{br}}$ (GHz) & $\\chi^{2}_{\\mathrm{red}}$ & $\\ln(Z)$ \\\\\n",
    "\t\t\t\t\\hline\t\t\n",
    "\t{0}  & {1:.2f} $\\pm$ {2:.2f} &  {3} &  {4} $\\pm$ {5}    & {6}  &  {7} & {8} & {9} $\\pm$ {10}   &  {11} & {12} & {13}  & {14} & {15} $\\pm${16} \\\\\n",
    "\t Double Homogeneous FFA & 3.6 $\\pm$ 0.2 &  5.8 $\\pm$ 0.2 & $-1.27^{+0.05}_{-0.04}$  &  $-1.28$ $\\pm$ 0.03 & $\\cdots$\t& $\\cdots$  & 0.293 $\\pm$ 0.007  & 0.93 $\\pm$ 0.05  & $\\cdots$ & $\\cdots$ & 5.52 & $-422.4$ $\\pm$ 0.2 \\\\\n",
    "\t Inhomogeneous FFA  & 12.0 $\\pm$  0.3 &   $\\cdots$ &  $-1.221$ $\\pm$ 0.008 & $\\cdots$  &$\\cdots$ &$\\cdots$ & 0.75 $\\pm$ 0.02 & $\\cdots$ & 0.24 $\\pm$ 0.04 & $\\cdots$ & 5.72& $-419.0$ $\\pm$ 0.6\\\\\n",
    "\t Internal FFA & 8.8 $\\pm$ 0.1 &  $\\cdots$ & $-1.240$ $\\pm$ 0.008  &  $\\cdots$ & $\\cdots$& $\\cdots$ & 0.90 $\\pm$ 0.02 & $\\cdots$ & $\\cdots$ & $\\cdots$ & 7.13 & $-567.4$ $\\pm$ 0.2\\\\\n",
    "\t   Single SSA & 13.4 $\\pm$ 0.2  & $\\cdots$ & $\\cdots$ &$\\cdots$ & 3.27 $\\pm$ 0.01 \t& $\\cdots$ & 0.575 $\\pm$ 0.008  & $\\cdots$   & $\\cdots$ & $\\cdots$ & 13.83& $-609.5$ $\\pm$ 0.1 \\\\\n",
    "\tDouble SSA & 12.2 $\\pm$ 0.3 & 2.5 $\\pm$ 0.2 & $\\cdots$ & $\\cdots$ & 3.48 $\\pm$ 0.06 &  3.56$^{+0.08}_{-0.07}$ & 0.459 $\\pm$ 0.009  &  1.56 $\\pm$ 0.7 & $\\cdots$& $\\cdots$ &5.36 & $-408.5$ $\\pm$ 0.3\\\\\n",
    "\t Single SSA + exp. break & 12.4 $\\pm$  0.2 \t& $\\cdots$ &$\\cdots$ &  $\\cdots$ & 2.61 $\\pm$ 0.03 & $\\cdots$  & 0.75 $\\pm$ 0.02  & $\\cdots$ & 13.7 $\\pm$ 0.7 & $\\cdots$ & 2.39 & $-336.6$ $\\pm$ 0.2\\\\\n",
    "\t Double SSA + exp. break & 8.3$^{+0.6}_{-0.7}$ & 6.1$^{+0.7}_{-0.6}$  & $\\cdots$  &  $\\cdots$ & 3.3$^{+0.3}_{-0.2}$ &  2.55$^{+0.06}_{-0.08}$ & 0.34$^{+0.07}_{-0.08}$   &  0.73$^{+0.04}_{-0.05}$ & $\\cdots$ & 12 $\\pm$ 2 & 1.09 & $-305.8$ $\\pm$ 0.3 \\\\\n",
    "\t Inhomogeneous FFA + exp. break & 12.9 $\\pm$  0.3\t& $\\cdots$ & $-0.93$ $\\pm$ 0.02  & $\\cdots$ &$\\cdots$ & $\\cdots$& 0.55 $\\pm$ 0.02  & $\\cdots$ & 0.37$^{+0.07}_{-0.06}$ & 19 $\\pm$ 1 & 0.80 & $-304.1$ $\\pm$ 0.1\\\\\n",
    "\t\t\\hline\n",
    "\t\t\\end{tabular}\n",
    "\\end{sidewaystable}'"
   ]
  },
  {
   "cell_type": "code",
   "execution_count": null,
   "metadata": {
    "ExecuteTime": {
     "end_time": "2017-07-13T19:08:09.559449",
     "start_time": "2017-07-13T19:08:09.555459"
    },
    "collapsed": true
   },
   "outputs": [],
   "source": [
    "# save data frame\n",
    "model_path = sed_loc.split('sed_df')\n",
    "model_path = model_path[0] + name + model_path[-1]\n",
    "models.to_pickle(model_path)"
   ]
  }
 ],
 "metadata": {
  "hide_input": false,
  "kernelspec": {
   "display_name": "Python 3",
   "language": "python",
   "name": "python3"
  },
  "language_info": {
   "codemirror_mode": {
    "name": "ipython",
    "version": 3
   },
   "file_extension": ".py",
   "mimetype": "text/x-python",
   "name": "python",
   "nbconvert_exporter": "python",
   "pygments_lexer": "ipython3",
   "version": "3.4.5"
  },
  "latex_envs": {
   "bibliofile": "biblio.bib",
   "cite_by": "apalike",
   "current_citInitial": 1,
   "eqLabelWithNumbers": true,
   "eqNumInitial": 0
  },
  "toc": {
   "colors": {
    "hover_highlight": "#DAA520",
    "running_highlight": "#FF0000",
    "selected_highlight": "#FFD700"
   },
   "moveMenuLeft": true,
   "nav_menu": {
    "height": "84px",
    "width": "252px"
   },
   "navigate_menu": true,
   "number_sections": true,
   "sideBar": true,
   "threshold": 4,
   "toc_cell": false,
   "toc_section_display": "block",
   "toc_window_display": false,
   "widenNotebook": false
  }
 },
 "nbformat": 4,
 "nbformat_minor": 2
}
