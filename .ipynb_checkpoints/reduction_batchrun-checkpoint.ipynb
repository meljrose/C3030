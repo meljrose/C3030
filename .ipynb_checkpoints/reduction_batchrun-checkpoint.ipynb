{
 "cells": [
  {
   "cell_type": "markdown",
   "metadata": {
    "ExecuteTime": {
     "end_time": "2017-07-17T16:58:16.396010",
     "start_time": "2017-07-17T16:58:16.388624"
    }
   },
   "source": [
    "# Batch Run reduction script"
   ]
  },
  {
   "cell_type": "markdown",
   "metadata": {},
   "source": [
    "2017-07-17 M.J.Rose\n",
    "\n",
    "Heavily borrowed from https://github.com/tritemio/nbrun"
   ]
  },
  {
   "cell_type": "markdown",
   "metadata": {
    "ExecuteTime": {
     "end_time": "2017-07-17T18:58:45.626973",
     "start_time": "2017-07-17T18:58:45.608615"
    }
   },
   "source": [
    "# Master Notebook\n",
    "\n",
    "<p class=lead>This notebook executes a [template notebook](mirpy_reduction_template.ipynb) passing different arguments.\n",
    "<p>\n",
    "\n",
    "The module `nbrun.py` needs to be importable (i.e. placed in the current folder or in the python path):"
   ]
  },
  {
   "cell_type": "code",
   "execution_count": 1,
   "metadata": {
    "ExecuteTime": {
     "end_time": "2017-07-27T15:15:22.751077",
     "start_time": "2017-07-27T15:15:16.790786"
    },
    "collapsed": false
   },
   "outputs": [],
   "source": [
    "from reduction_funcs import *\n",
    "from nbrun import run_notebook"
   ]
  },
  {
   "cell_type": "markdown",
   "metadata": {},
   "source": [
    "This notebook expects your data and blocks to be organized like so: \n",
    "* directory named after the date of observation\n",
    "    * directory named 'blocks' which stores text files (.mos in image below) that list the observed sources in order of observation (including your periodic band/flux cal observations)\n",
    "    * directory of raw data named 'raw'\n",
    "![caption](notebook_images/data_tree.png \"How this script expects your files to be organized\")\n",
    "\n",
    "Everything else is generated with this script"
   ]
  },
  {
   "cell_type": "code",
   "execution_count": 14,
   "metadata": {
    "ExecuteTime": {
     "end_time": "2017-07-27T16:07:28.494044",
     "start_time": "2017-07-27T16:07:28.310092"
    },
    "collapsed": false
   },
   "outputs": [
    {
     "name": "stdout",
     "output_type": "stream",
     "text": [
      "version information\n",
      "posix.uname_result(sysname='Darwin', nodename='Missys-MacBook-Air.local', release='16.6.0', version='Darwin Kernel Version 16.6.0: Fri Apr 14 16:21:16 PDT 2017; root:xnu-3789.60.24~6/RELEASE_X86_64', machine='x86_64')\n",
      "3.4.5 |Anaconda 2.3.0 (x86_64)| (default, Jul  2 2016, 17:47:57) \n",
      "[GCC 4.2.1 Compatible Apple LLVM 4.2 (clang-425.0.28)]\n",
      "glob unknown\n",
      "sys unknown\n",
      "psutil 2.2.1\n",
      "os unknown\n",
      "subprocess unknown\n",
      "shutil unknown\n",
      "fnmatch unknown\n",
      "path 0.0.0\n",
      "re 2.2.1\n",
      "time unknown\n",
      "scripts saved in: /Users/mmcintosh/Dropbox/ASTRON2017/C3030/scripts/reduction_nbs\n",
      "images saved in: /Users/mmcintosh/Dropbox/ASTRON2017/C3030/reduction_plots/\n"
     ]
    }
   ],
   "source": [
    "# template name\n",
    "nb_name = 'mirpy_reduction_template.ipynb'\n",
    "# where you keep the scripts\n",
    "notebook_dir = '/Users/mmcintosh/Dropbox/ASTRON2017/C3030/scripts/reduction_nbs'\n",
    "# where you want to save key pngs for quick reference\n",
    "image_dir = \"/Users/mmcintosh/Dropbox/ASTRON2017/C3030/reduction_plots/\"\n",
    "\n",
    "\n",
    "for path in [notebook_dir, image_dir]:\n",
    "    if not os.path.exists(path):\n",
    "        os.makedirs(path)\n",
    "\n",
    "# print out version information\n",
    "print('version information')\n",
    "print(os.uname())\n",
    "print(sys.version)\n",
    "modules = list(set(sys.modules) & set(globals()))\n",
    "for module_name in modules:\n",
    "    module = sys.modules[module_name]\n",
    "    print (module_name, getattr(module, '__version__', 'unknown'))\n",
    "    \n",
    "    \n",
    "# image directories  \n",
    "print('scripts saved in: {0}'.format(notebook_dir))\n",
    "print('images saved in: {0}'.format(image_dir))"
   ]
  },
  {
   "cell_type": "markdown",
   "metadata": {},
   "source": [
    "# reduce a single source"
   ]
  },
  {
   "cell_type": "code",
   "execution_count": 15,
   "metadata": {
    "ExecuteTime": {
     "end_time": "2017-07-27T16:07:33.955350",
     "start_time": "2017-07-27T16:07:33.572367"
    },
    "collapsed": false
   },
   "outputs": [
    {
     "name": "stdout",
     "output_type": "stream",
     "text": [
      "['/Volumes/mjrose/C3030/2015-04-11', '/Volumes/mjrose/C3030/2015-04-12', '/Volumes/mjrose/C3030/2016-04-05', '/Volumes/mjrose/C3030/2016-04-09']\n"
     ]
    }
   ],
   "source": [
    "datadirs = glob.glob('/Volumes/mjrose/C3030/*')\n",
    "print(datadirs)"
   ]
  },
  {
   "cell_type": "code",
   "execution_count": 16,
   "metadata": {
    "ExecuteTime": {
     "end_time": "2017-07-27T16:07:35.046892",
     "start_time": "2017-07-27T16:07:35.028063"
    },
    "collapsed": false
   },
   "outputs": [
    {
     "name": "stdout",
     "output_type": "stream",
     "text": [
      "raw data sourced from: /Volumes/mjrose/C3030/2015-04-11/raw\n",
      "reduced data saved in: /Volumes/mjrose/C3030/2015-04-11/L/reduced_L\n"
     ]
    }
   ],
   "source": [
    "datadir = datadirs[0]\n",
    "# and one band\n",
    "band = 'L'\n",
    "\n",
    "\n",
    "# where your raw data is saved\n",
    "raw_data_dir = datadir + '/raw'\n",
    "# where you want to save the visibilities, other pngs, logs\n",
    "processed_data_dir = datadir +'/{0}/reduced_{0}'.format(band)\n",
    "#if not os.path.exists(processed_data_dir):\n",
    "#\tos.makedirs(processed_data_dir)\n",
    "print('raw data sourced from: {0}'.format(raw_data_dir))\n",
    "print('reduced data saved in: {0}'.format(processed_data_dir))\n",
    "\n",
    "\n",
    "if band == 'L':\n",
    "\tsuffix = '.2100'\n",
    "\trawfiles = 'L'\n",
    "\tifsel = 1 \n",
    "elif band == 'C':\n",
    "\tsuffix = '.5500'\n",
    "\trawfiles ='CX'\n",
    "\tifsel = 1\n",
    "elif band == 'X':\n",
    "\tsuffix = '.9000'\n",
    "\trawfiles ='CX'\n",
    "\tifsel = 2\n",
    "    \n",
    "    "
   ]
  },
  {
   "cell_type": "code",
   "execution_count": 17,
   "metadata": {
    "ExecuteTime": {
     "end_time": "2017-07-27T16:07:37.262632",
     "start_time": "2017-07-27T16:07:36.899473"
    },
    "collapsed": false
   },
   "outputs": [
    {
     "name": "stdout",
     "output_type": "stream",
     "text": [
      "0 / 218\n",
      "source = 1934-638.2100\n",
      "phasecal = 1934-638.2100\n"
     ]
    }
   ],
   "source": [
    "# dataframe for the source being processed to find its best flux calibrator\n",
    "df_path = processed_data_dir+'/calibration_order.csv'\n",
    "\n",
    "if not os.path.exists(df_path):\n",
    "\n",
    "    # read in list of souces from mosaic order\n",
    "    blocks = np.arange(1,11,1)\n",
    "    temp_arr = []\n",
    "    \n",
    "    block_dir = raw_data_dir.split('/raw')[0]+\"/blocks\"\n",
    "    # get list of blocks\n",
    "    block_files = glob.glob(block_dir+\"/*\")\n",
    "    block_files = sorted_nicely(block_files)\n",
    "    \n",
    "    # remove the bandflux calibrator file\n",
    "    bfcal_path = [a for a in block_files if 'bandfluxcal' in a][0]\n",
    "    block_files = [a for a in block_files if 'bandfluxcal' not in a]\n",
    "\n",
    "    if len(block_files) > 1:\n",
    "\n",
    "        for block in block_files: \n",
    "            temp_txt = np.loadtxt(block, dtype=bytes)\n",
    "            temp_arr.append([t[-1].decode('UTF-8')[1:].lower() for t in temp_txt])\n",
    "\n",
    "        # get the unique blocks if any are repeated\n",
    "        unique_blocks = np.sort(np.unique(temp_arr, return_index=True)[1])\n",
    "        sources = np.concatenate([temp_arr[index] for index in unique_blocks])\n",
    "\n",
    "    else:\n",
    "        temp_txt = np.loadtxt(block_files[0], dtype=bytes)\n",
    "        temp_arr.append([t[-1].decode('UTF-8')[1:].lower() for t in temp_txt])\n",
    "        sources = temp_arr[0]\n",
    "        \n",
    "\n",
    "    sources = [s+suffix for s in sources]\n",
    "    # specify the seperate bandflux cal\n",
    "    \n",
    "    bandflux_cal = str(np.genfromtxt(bfcal_path, dtype=str))+suffix\n",
    "    sources = np.append(bandflux_cal,sources)\n",
    "    print('working with these sources: {0}'.format(sources))\n",
    "\n",
    "    # some are repeated but they are in the order we need for phase calibration\n",
    "\n",
    "    # init a dataframe to keep track of phasecals\n",
    "    df_init = pd.DataFrame({'name' : sources, 'percent_flagged': '', 'flux' : '', 'phasecal':''})\n",
    "    df_init.to_csv(df_path)\n",
    "    \n",
    "    \n",
    "phasecal_df = pd.DataFrame.from_csv(df_path)\n",
    "phasecal_df = phasecal_df.fillna('')\n",
    "check_if_data_unpacked(phasecal_df,processed_data_dir,df_path)    \n",
    "sources = phasecal_df[\"name\"].values.tolist()\n"
   ]
  },
  {
   "cell_type": "code",
   "execution_count": 37,
   "metadata": {
    "ExecuteTime": {
     "end_time": "2017-07-27T16:41:26.255236",
     "start_time": "2017-07-27T16:41:25.595717"
    },
    "collapsed": false
   },
   "outputs": [
    {
     "name": "stdout",
     "output_type": "stream",
     "text": [
      "2 / 218\n",
      "source = pks1740-649.2100\n",
      "phasecal = pks1934-638.2100\n"
     ]
    }
   ],
   "source": [
    "# guess where you should start iterating next; assign phasecal\n",
    "phasecal_df = pd.DataFrame.from_csv(df_path)\n",
    "phasecal_df = phasecal_df.fillna('')\n",
    "# guess where to start\n",
    "h=0\n",
    "# if you never got flux from your last reduction, go redo that one if redo = True\n",
    "while True:         \n",
    "    h = check_ifreduced(processed_data_dir, sources, h, phasecal_df, suffix)\n",
    "    if h is None:\n",
    "        print(\"all reduced\")\n",
    "        break\n",
    "    p = find_phasecal(phasecal_df,h)\n",
    "    if isinstance(p, bool) and p:\n",
    "        break\n",
    "    elif isinstance(p, bool) and not p:\n",
    "        # then no flux for h\n",
    "        h -=1\n",
    "    else:\n",
    "        h = p\n",
    "\n",
    "\n",
    "\n",
    "print(h,'/',len(sources))\n",
    "source = sources[h]\n",
    "print('source = '+source) \n",
    "print('phasecal = '+phasecal_df.loc[h][\"phasecal\"])"
   ]
  },
  {
   "cell_type": "code",
   "execution_count": 38,
   "metadata": {
    "ExecuteTime": {
     "end_time": "2017-07-27T16:42:31.902073",
     "start_time": "2017-07-27T16:41:28.661336"
    },
    "collapsed": false
   },
   "outputs": [
    {
     "data": {
      "text/html": [
       "<a href='reduction_nbs/mirpy_reduction_template-out_pks1740-649.2100.ipynb' target='_blank'>reduction_nbs/mirpy_reduction_template-out_pks1740-649.2100.ipynb</a><br>"
      ],
      "text/plain": [
       "/Users/mmcintosh/Dropbox/ASTRON2017/C3030/scripts/reduction_nbs/mirpy_reduction_template-out_pks1740-649.2100.ipynb"
      ]
     },
     "metadata": {},
     "output_type": "display_data"
    }
   ],
   "source": [
    "# for this source, run the .ipynb\n",
    "manual_flagging = False\n",
    "# if you need to change the reference antenna, which I needed for '2016'\n",
    "#refant = 4\n",
    "refant = 3\n",
    "\n",
    "nb_kwargs = {'source': source, 'manual_flagging':manual_flagging, 'refant':refant, 'processed_data_dir':processed_data_dir, 'image_dir':image_dir}\n",
    "nb_suffix='-out_{0}'.format(source)\n",
    "\n",
    "run_notebook(nb_name, nb_suffix=nb_suffix, nb_kwargs=nb_kwargs, hide_input=False,insert_pos=3, out_path='reduction_nbs/')"
   ]
  },
  {
   "cell_type": "markdown",
   "metadata": {},
   "source": [
    "# looping over all sources"
   ]
  },
  {
   "cell_type": "code",
   "execution_count": null,
   "metadata": {
    "collapsed": true
   },
   "outputs": [],
   "source": [
    "# where your raw data is saved\n",
    "raw_data_dir = datadir + '/raw'\n",
    "# where you want to save the visibilities, other pngs, logs\n",
    "processed_data_dir = datadir +'/{0}/reduced_{0}_quick'.format(band)\n",
    "#if not os.path.exists(processed_data_dir):\n",
    "#\tos.makedirs(processed_data_dir)\n",
    "print('raw data sourced from: {0}'.format(raw_data_dir))\n",
    "print('reduced data saved in: {0}'.format(processed_data_dir))\n",
    "\n",
    "\n",
    "if band == 'L':\n",
    "\tsuffix = '.2100'\n",
    "\trawfiles = 'L'\n",
    "\tifsel = 1 \n",
    "elif band == 'C':\n",
    "\tsuffix = '.5500'\n",
    "\trawfiles ='CX'\n",
    "\tifsel = 1\n",
    "elif band == 'X':\n",
    "\tsuffix = '.9000'\n",
    "\trawfiles ='CX'\n",
    "\tifsel = 2\n",
    "    \n",
    "# dataframe for the source being processed to find its best flux calibrator\n",
    "df_path = processed_data_dir+'/calibration_order.csv'\n",
    "\n",
    "if not os.path.exists(df_path):\n",
    "\n",
    "    # read in list of souces from mosaic order\n",
    "    blocks = np.arange(1,11,1)\n",
    "    temp_arr = []\n",
    "    \n",
    "    block_dir = raw_data_dir.split('/raw')[0]+\"/blocks\"\n",
    "    # get list of blocks\n",
    "    block_files = glob.glob(block_dir+\"/*\")\n",
    "    block_files = sorted_nicely(block_files)\n",
    "    \n",
    "    # remove the bandflux calibrator file\n",
    "    bfcal_path = [a for a in block_files if 'bandfluxcal' in a][0]\n",
    "    block_files = [a for a in block_files if 'bandfluxcal' not in a]\n",
    "\n",
    "    if len(block_files) > 1:\n",
    "\n",
    "        for block in block_files: \n",
    "            temp_txt = np.loadtxt(block, dtype=bytes)\n",
    "            temp_arr.append([t[-1].decode('UTF-8')[1:].lower() for t in temp_txt])\n",
    "\n",
    "        # get the unique blocks if any are repeated\n",
    "        unique_blocks = np.sort(np.unique(temp_arr, return_index=True)[1])\n",
    "        sources = np.concatenate([temp_arr[index] for index in unique_blocks])\n",
    "\n",
    "    else:\n",
    "        temp_txt = np.loadtxt(block_files[0], dtype=bytes)\n",
    "        temp_arr.append([t[-1].decode('UTF-8')[1:].lower() for t in temp_txt])\n",
    "        sources = temp_arr[0]\n",
    "        \n",
    "\n",
    "    sources = [s+suffix for s in sources]\n",
    "    # specify the seperate bandflux cal\n",
    "    \n",
    "    bandflux_cal = str(np.genfromtxt(bfcal_path, dtype=str))+suffix\n",
    "    sources = np.append(bandflux_cal,sources)\n",
    "    print('working with these sources: {0}'.format(sources))\n",
    "\n",
    "    # some are repeated but they are in the order we need for phase calibration\n",
    "\n",
    "    # init a dataframe to keep track of phasecals\n",
    "    df_init = pd.DataFrame({'name' : sources, 'percent_flagged': '', 'flux' : '', 'phasecal':''})\n",
    "    df_init.to_csv(df_path)\n",
    "    \n",
    "    \n",
    "phasecal_df = pd.DataFrame.from_csv(df_path)\n",
    "phasecal_df = phasecal_df.fillna('')\n",
    "check_if_data_unpacked(phasecal_df,processed_data_dir,df_path)    \n",
    "sources = phasecal_df[\"name\"].values.tolist()"
   ]
  },
  {
   "cell_type": "code",
   "execution_count": 39,
   "metadata": {
    "ExecuteTime": {
     "end_time": "2017-07-27T17:04:39.303590",
     "start_time": "2017-07-27T16:54:39.419280"
    },
    "collapsed": false
   },
   "outputs": [
    {
     "name": "stdout",
     "output_type": "stream",
     "text": [
      "3 / 218\n",
      "source = pmnj1726-6427.2100\n",
      "phasecal = pks1740-649.2100\n"
     ]
    },
    {
     "data": {
      "text/html": [
       "<a href='reduction_nbs/mirpy_reduction_template-out_pmnj1726-6427.2100.ipynb' target='_blank'>reduction_nbs/mirpy_reduction_template-out_pmnj1726-6427.2100.ipynb</a><br>"
      ],
      "text/plain": [
       "/Users/mmcintosh/Dropbox/ASTRON2017/C3030/scripts/reduction_nbs/mirpy_reduction_template-out_pmnj1726-6427.2100.ipynb"
      ]
     },
     "metadata": {},
     "output_type": "display_data"
    },
    {
     "name": "stdout",
     "output_type": "stream",
     "text": [
      "4 / 218\n",
      "source = pks1814-637.2100\n",
      "phasecal = pmnj1726-6427.2100\n"
     ]
    },
    {
     "data": {
      "text/html": [
       "<a href='reduction_nbs/mirpy_reduction_template-out_pks1814-637.2100.ipynb' target='_blank'>reduction_nbs/mirpy_reduction_template-out_pks1814-637.2100.ipynb</a><br>"
      ],
      "text/plain": [
       "/Users/mmcintosh/Dropbox/ASTRON2017/C3030/scripts/reduction_nbs/mirpy_reduction_template-out_pks1814-637.2100.ipynb"
      ]
     },
     "metadata": {},
     "output_type": "display_data"
    },
    {
     "name": "stdout",
     "output_type": "stream",
     "text": [
      "5 / 218\n",
      "source = mwacsj2153.5.2100\n",
      "phasecal = pks1814-637.2100\n"
     ]
    },
    {
     "data": {
      "text/html": [
       "<a href='reduction_nbs/mirpy_reduction_template-out_mwacsj2153.5.2100.ipynb' target='_blank'>reduction_nbs/mirpy_reduction_template-out_mwacsj2153.5.2100.ipynb</a><br>"
      ],
      "text/plain": [
       "/Users/mmcintosh/Dropbox/ASTRON2017/C3030/scripts/reduction_nbs/mirpy_reduction_template-out_mwacsj2153.5.2100.ipynb"
      ]
     },
     "metadata": {},
     "output_type": "display_data"
    },
    {
     "name": "stdout",
     "output_type": "stream",
     "text": [
      "6 / 218\n",
      "source = pks2149-28.2100\n",
      "phasecal = pks1814-637.2100\n"
     ]
    },
    {
     "data": {
      "text/html": [
       "<a href='reduction_nbs/mirpy_reduction_template-out_pks2149-28.2100.ipynb' target='_blank'>reduction_nbs/mirpy_reduction_template-out_pks2149-28.2100.ipynb</a><br>"
      ],
      "text/plain": [
       "/Users/mmcintosh/Dropbox/ASTRON2017/C3030/scripts/reduction_nbs/mirpy_reduction_template-out_pks2149-28.2100.ipynb"
      ]
     },
     "metadata": {},
     "output_type": "display_data"
    },
    {
     "name": "stdout",
     "output_type": "stream",
     "text": [
      "7 / 218\n",
      "source = pks2135-209.2100\n",
      "phasecal = pks2149-28.2100\n"
     ]
    },
    {
     "data": {
      "text/html": [
       "<a href='reduction_nbs/mirpy_reduction_template-out_pks2135-209.2100.ipynb' target='_blank'>reduction_nbs/mirpy_reduction_template-out_pks2135-209.2100.ipynb</a><br>"
      ],
      "text/plain": [
       "/Users/mmcintosh/Dropbox/ASTRON2017/C3030/scripts/reduction_nbs/mirpy_reduction_template-out_pks2135-209.2100.ipynb"
      ]
     },
     "metadata": {},
     "output_type": "display_data"
    },
    {
     "name": "stdout",
     "output_type": "stream",
     "text": [
      "8 / 218\n",
      "source = mwacsj2157.5.2100\n",
      "phasecal = pks2135-209.2100\n"
     ]
    },
    {
     "data": {
      "text/html": [
       "<a href='reduction_nbs/mirpy_reduction_template-out_mwacsj2157.5.2100.ipynb' target='_blank'>reduction_nbs/mirpy_reduction_template-out_mwacsj2157.5.2100.ipynb</a><br>"
      ],
      "text/plain": [
       "/Users/mmcintosh/Dropbox/ASTRON2017/C3030/scripts/reduction_nbs/mirpy_reduction_template-out_mwacsj2157.5.2100.ipynb"
      ]
     },
     "metadata": {},
     "output_type": "display_data"
    },
    {
     "name": "stdout",
     "output_type": "stream",
     "text": [
      "9 / 218\n",
      "source = pks2254-367.2100\n",
      "phasecal = mwacsj2157.5.2100\n"
     ]
    },
    {
     "data": {
      "text/html": [
       "<a href='reduction_nbs/mirpy_reduction_template-out_pks2254-367.2100.ipynb' target='_blank'>reduction_nbs/mirpy_reduction_template-out_pks2254-367.2100.ipynb</a><br>"
      ],
      "text/plain": [
       "/Users/mmcintosh/Dropbox/ASTRON2017/C3030/scripts/reduction_nbs/mirpy_reduction_template-out_pks2254-367.2100.ipynb"
      ]
     },
     "metadata": {},
     "output_type": "display_data"
    },
    {
     "name": "stdout",
     "output_type": "stream",
     "text": [
      "10 / 218\n",
      "source = 2311-452.2100\n",
      "phasecal = pks2254-367.2100\n"
     ]
    },
    {
     "data": {
      "text/html": [
       "<a href='reduction_nbs/mirpy_reduction_template-out_2311-452.2100.ipynb' target='_blank'>reduction_nbs/mirpy_reduction_template-out_2311-452.2100.ipynb</a><br>"
      ],
      "text/plain": [
       "/Users/mmcintosh/Dropbox/ASTRON2017/C3030/scripts/reduction_nbs/mirpy_reduction_template-out_2311-452.2100.ipynb"
      ]
     },
     "metadata": {},
     "output_type": "display_data"
    },
    {
     "name": "stdout",
     "output_type": "stream",
     "text": [
      "11 / 218\n",
      "source = pks2333-528.2100\n",
      "phasecal = 2311-452.2100\n",
      "Error executing the notebook \"mirpy_reduction_template.ipynb\".\n",
      "\n",
      "See notebook \"reduction_nbs/mirpy_reduction_template-out_pks2333-528.2100.ipynb\" for the traceback.\n"
     ]
    },
    {
     "data": {
      "text/html": [
       "<a href='reduction_nbs/mirpy_reduction_template-out_pks2333-528.2100.ipynb' target='_blank'>reduction_nbs/mirpy_reduction_template-out_pks2333-528.2100.ipynb</a><br>"
      ],
      "text/plain": [
       "/Users/mmcintosh/Dropbox/ASTRON2017/C3030/scripts/reduction_nbs/mirpy_reduction_template-out_pks2333-528.2100.ipynb"
      ]
     },
     "metadata": {},
     "output_type": "display_data"
    },
    {
     "ename": "KeyboardInterrupt",
     "evalue": "",
     "output_type": "error",
     "traceback": [
      "\u001b[0;31m---------------------------------------------------------------------------\u001b[0m",
      "\u001b[0;31mKeyboardInterrupt\u001b[0m                         Traceback (most recent call last)",
      "\u001b[0;32m<ipython-input-39-364d149a4402>\u001b[0m in \u001b[0;36m<module>\u001b[0;34m()\u001b[0m\n\u001b[1;32m     36\u001b[0m     \u001b[0mnb_suffix\u001b[0m\u001b[0;34m=\u001b[0m\u001b[0;34m'-out_{0}'\u001b[0m\u001b[0;34m.\u001b[0m\u001b[0mformat\u001b[0m\u001b[0;34m(\u001b[0m\u001b[0msource\u001b[0m\u001b[0;34m)\u001b[0m\u001b[0;34m\u001b[0m\u001b[0m\n\u001b[1;32m     37\u001b[0m \u001b[0;34m\u001b[0m\u001b[0m\n\u001b[0;32m---> 38\u001b[0;31m     \u001b[0mrun_notebook\u001b[0m\u001b[0;34m(\u001b[0m\u001b[0mnb_name\u001b[0m\u001b[0;34m,\u001b[0m \u001b[0mnb_suffix\u001b[0m\u001b[0;34m=\u001b[0m\u001b[0mnb_suffix\u001b[0m\u001b[0;34m,\u001b[0m \u001b[0mnb_kwargs\u001b[0m\u001b[0;34m=\u001b[0m\u001b[0mnb_kwargs\u001b[0m\u001b[0;34m,\u001b[0m \u001b[0mhide_input\u001b[0m\u001b[0;34m=\u001b[0m\u001b[0;32mFalse\u001b[0m\u001b[0;34m,\u001b[0m\u001b[0minsert_pos\u001b[0m\u001b[0;34m=\u001b[0m\u001b[0;36m3\u001b[0m\u001b[0;34m,\u001b[0m \u001b[0mout_path\u001b[0m\u001b[0;34m=\u001b[0m\u001b[0;34m'reduction_nbs/'\u001b[0m\u001b[0;34m)\u001b[0m\u001b[0;34m\u001b[0m\u001b[0m\n\u001b[0m",
      "\u001b[0;32m/Users/mmcintosh/Dropbox/ASTRON2017/C3030/scripts/nbrun.py\u001b[0m in \u001b[0;36mrun_notebook\u001b[0;34m(notebook_path, out_path, nb_suffix, nb_kwargs, hide_input, insert_pos, timeout, execute_kwargs)\u001b[0m\n\u001b[1;32m    115\u001b[0m     \u001b[0;32mtry\u001b[0m\u001b[0;34m:\u001b[0m\u001b[0;34m\u001b[0m\u001b[0m\n\u001b[1;32m    116\u001b[0m         \u001b[0;31m# Execute the notebook\u001b[0m\u001b[0;34m\u001b[0m\u001b[0;34m\u001b[0m\u001b[0m\n\u001b[0;32m--> 117\u001b[0;31m         \u001b[0mep\u001b[0m\u001b[0;34m.\u001b[0m\u001b[0mpreprocess\u001b[0m\u001b[0;34m(\u001b[0m\u001b[0mnb\u001b[0m\u001b[0;34m,\u001b[0m \u001b[0;34m{\u001b[0m\u001b[0;34m'metadata'\u001b[0m\u001b[0;34m:\u001b[0m \u001b[0;34m{\u001b[0m\u001b[0;34m'path'\u001b[0m\u001b[0;34m:\u001b[0m \u001b[0;34m'./'\u001b[0m\u001b[0;34m}\u001b[0m\u001b[0;34m}\u001b[0m\u001b[0;34m)\u001b[0m\u001b[0;34m\u001b[0m\u001b[0m\n\u001b[0m\u001b[1;32m    118\u001b[0m     \u001b[0;32mexcept\u001b[0m\u001b[0;34m:\u001b[0m\u001b[0;34m\u001b[0m\u001b[0m\n\u001b[1;32m    119\u001b[0m         \u001b[0;31m# Execution failed, print a message then raise.\u001b[0m\u001b[0;34m\u001b[0m\u001b[0;34m\u001b[0m\u001b[0m\n",
      "\u001b[0;32m/Users/mmcintosh/anaconda/lib/python3.4/site-packages/nbconvert/preprocessors/execute.py\u001b[0m in \u001b[0;36mpreprocess\u001b[0;34m(self, nb, resources)\u001b[0m\n\u001b[1;32m    143\u001b[0m \u001b[0;34m\u001b[0m\u001b[0m\n\u001b[1;32m    144\u001b[0m         \u001b[0;32mtry\u001b[0m\u001b[0;34m:\u001b[0m\u001b[0;34m\u001b[0m\u001b[0m\n\u001b[0;32m--> 145\u001b[0;31m             \u001b[0mnb\u001b[0m\u001b[0;34m,\u001b[0m \u001b[0mresources\u001b[0m \u001b[0;34m=\u001b[0m \u001b[0msuper\u001b[0m\u001b[0;34m(\u001b[0m\u001b[0mExecutePreprocessor\u001b[0m\u001b[0;34m,\u001b[0m \u001b[0mself\u001b[0m\u001b[0;34m)\u001b[0m\u001b[0;34m.\u001b[0m\u001b[0mpreprocess\u001b[0m\u001b[0;34m(\u001b[0m\u001b[0mnb\u001b[0m\u001b[0;34m,\u001b[0m \u001b[0mresources\u001b[0m\u001b[0;34m)\u001b[0m\u001b[0;34m\u001b[0m\u001b[0m\n\u001b[0m\u001b[1;32m    146\u001b[0m         \u001b[0;32mfinally\u001b[0m\u001b[0;34m:\u001b[0m\u001b[0;34m\u001b[0m\u001b[0m\n\u001b[1;32m    147\u001b[0m             \u001b[0mself\u001b[0m\u001b[0;34m.\u001b[0m\u001b[0mkc\u001b[0m\u001b[0;34m.\u001b[0m\u001b[0mstop_channels\u001b[0m\u001b[0;34m(\u001b[0m\u001b[0;34m)\u001b[0m\u001b[0;34m\u001b[0m\u001b[0m\n",
      "\u001b[0;32m/Users/mmcintosh/anaconda/lib/python3.4/site-packages/nbconvert/preprocessors/base.py\u001b[0m in \u001b[0;36mpreprocess\u001b[0;34m(self, nb, resources)\u001b[0m\n\u001b[1;32m     68\u001b[0m         \"\"\"\n\u001b[1;32m     69\u001b[0m         \u001b[0;32mfor\u001b[0m \u001b[0mindex\u001b[0m\u001b[0;34m,\u001b[0m \u001b[0mcell\u001b[0m \u001b[0;32min\u001b[0m \u001b[0menumerate\u001b[0m\u001b[0;34m(\u001b[0m\u001b[0mnb\u001b[0m\u001b[0;34m.\u001b[0m\u001b[0mcells\u001b[0m\u001b[0;34m)\u001b[0m\u001b[0;34m:\u001b[0m\u001b[0;34m\u001b[0m\u001b[0m\n\u001b[0;32m---> 70\u001b[0;31m             \u001b[0mnb\u001b[0m\u001b[0;34m.\u001b[0m\u001b[0mcells\u001b[0m\u001b[0;34m[\u001b[0m\u001b[0mindex\u001b[0m\u001b[0;34m]\u001b[0m\u001b[0;34m,\u001b[0m \u001b[0mresources\u001b[0m \u001b[0;34m=\u001b[0m \u001b[0mself\u001b[0m\u001b[0;34m.\u001b[0m\u001b[0mpreprocess_cell\u001b[0m\u001b[0;34m(\u001b[0m\u001b[0mcell\u001b[0m\u001b[0;34m,\u001b[0m \u001b[0mresources\u001b[0m\u001b[0;34m,\u001b[0m \u001b[0mindex\u001b[0m\u001b[0;34m)\u001b[0m\u001b[0;34m\u001b[0m\u001b[0m\n\u001b[0m\u001b[1;32m     71\u001b[0m         \u001b[0;32mreturn\u001b[0m \u001b[0mnb\u001b[0m\u001b[0;34m,\u001b[0m \u001b[0mresources\u001b[0m\u001b[0;34m\u001b[0m\u001b[0m\n\u001b[1;32m     72\u001b[0m \u001b[0;34m\u001b[0m\u001b[0m\n",
      "\u001b[0;32m/Users/mmcintosh/anaconda/lib/python3.4/site-packages/nbconvert/preprocessors/execute.py\u001b[0m in \u001b[0;36mpreprocess_cell\u001b[0;34m(self, cell, resources, cell_index)\u001b[0m\n\u001b[1;32m    159\u001b[0m             \u001b[0;32mreturn\u001b[0m \u001b[0mcell\u001b[0m\u001b[0;34m,\u001b[0m \u001b[0mresources\u001b[0m\u001b[0;34m\u001b[0m\u001b[0m\n\u001b[1;32m    160\u001b[0m \u001b[0;34m\u001b[0m\u001b[0m\n\u001b[0;32m--> 161\u001b[0;31m         \u001b[0moutputs\u001b[0m \u001b[0;34m=\u001b[0m \u001b[0mself\u001b[0m\u001b[0;34m.\u001b[0m\u001b[0mrun_cell\u001b[0m\u001b[0;34m(\u001b[0m\u001b[0mcell\u001b[0m\u001b[0;34m)\u001b[0m\u001b[0;34m\u001b[0m\u001b[0m\n\u001b[0m\u001b[1;32m    162\u001b[0m         \u001b[0mcell\u001b[0m\u001b[0;34m.\u001b[0m\u001b[0moutputs\u001b[0m \u001b[0;34m=\u001b[0m \u001b[0moutputs\u001b[0m\u001b[0;34m\u001b[0m\u001b[0m\n\u001b[1;32m    163\u001b[0m \u001b[0;34m\u001b[0m\u001b[0m\n",
      "\u001b[0;32m/Users/mmcintosh/anaconda/lib/python3.4/site-packages/nbconvert/preprocessors/execute.py\u001b[0m in \u001b[0;36mrun_cell\u001b[0;34m(self, cell)\u001b[0m\n\u001b[1;32m    187\u001b[0m                 \u001b[0;32mif\u001b[0m \u001b[0mtimeout\u001b[0m \u001b[0;34m<\u001b[0m \u001b[0;36m0\u001b[0m\u001b[0;34m:\u001b[0m\u001b[0;34m\u001b[0m\u001b[0m\n\u001b[1;32m    188\u001b[0m                     \u001b[0mtimeout\u001b[0m \u001b[0;34m=\u001b[0m \u001b[0;32mNone\u001b[0m\u001b[0;34m\u001b[0m\u001b[0m\n\u001b[0;32m--> 189\u001b[0;31m                 \u001b[0mmsg\u001b[0m \u001b[0;34m=\u001b[0m \u001b[0mself\u001b[0m\u001b[0;34m.\u001b[0m\u001b[0mkc\u001b[0m\u001b[0;34m.\u001b[0m\u001b[0mshell_channel\u001b[0m\u001b[0;34m.\u001b[0m\u001b[0mget_msg\u001b[0m\u001b[0;34m(\u001b[0m\u001b[0mtimeout\u001b[0m\u001b[0;34m=\u001b[0m\u001b[0mtimeout\u001b[0m\u001b[0;34m)\u001b[0m\u001b[0;34m\u001b[0m\u001b[0m\n\u001b[0m\u001b[1;32m    190\u001b[0m             \u001b[0;32mexcept\u001b[0m \u001b[0mEmpty\u001b[0m\u001b[0;34m:\u001b[0m\u001b[0;34m\u001b[0m\u001b[0m\n\u001b[1;32m    191\u001b[0m                 self.log.error(\"\"\"Timeout waiting for execute reply (%is).\n",
      "\u001b[0;32m/Users/mmcintosh/anaconda/lib/python3.4/site-packages/jupyter_client/blocking/channels.py\u001b[0m in \u001b[0;36mget_msg\u001b[0;34m(self, block, timeout)\u001b[0m\n\u001b[1;32m     48\u001b[0m             \u001b[0;32mif\u001b[0m \u001b[0mtimeout\u001b[0m \u001b[0;32mis\u001b[0m \u001b[0;32mnot\u001b[0m \u001b[0;32mNone\u001b[0m\u001b[0;34m:\u001b[0m\u001b[0;34m\u001b[0m\u001b[0m\n\u001b[1;32m     49\u001b[0m                 \u001b[0mtimeout\u001b[0m \u001b[0;34m*=\u001b[0m \u001b[0;36m1000\u001b[0m  \u001b[0;31m# seconds to ms\u001b[0m\u001b[0;34m\u001b[0m\u001b[0m\n\u001b[0;32m---> 50\u001b[0;31m             \u001b[0mready\u001b[0m \u001b[0;34m=\u001b[0m \u001b[0mself\u001b[0m\u001b[0;34m.\u001b[0m\u001b[0msocket\u001b[0m\u001b[0;34m.\u001b[0m\u001b[0mpoll\u001b[0m\u001b[0;34m(\u001b[0m\u001b[0mtimeout\u001b[0m\u001b[0;34m)\u001b[0m\u001b[0;34m\u001b[0m\u001b[0m\n\u001b[0m\u001b[1;32m     51\u001b[0m         \u001b[0;32melse\u001b[0m\u001b[0;34m:\u001b[0m\u001b[0;34m\u001b[0m\u001b[0m\n\u001b[1;32m     52\u001b[0m             \u001b[0mready\u001b[0m \u001b[0;34m=\u001b[0m \u001b[0mself\u001b[0m\u001b[0;34m.\u001b[0m\u001b[0msocket\u001b[0m\u001b[0;34m.\u001b[0m\u001b[0mpoll\u001b[0m\u001b[0;34m(\u001b[0m\u001b[0mtimeout\u001b[0m\u001b[0;34m=\u001b[0m\u001b[0;36m0\u001b[0m\u001b[0;34m)\u001b[0m\u001b[0;34m\u001b[0m\u001b[0m\n",
      "\u001b[0;32m/Users/mmcintosh/anaconda/lib/python3.4/site-packages/zmq/sugar/socket.py\u001b[0m in \u001b[0;36mpoll\u001b[0;34m(self, timeout, flags)\u001b[0m\n\u001b[1;32m    499\u001b[0m         \u001b[0mp\u001b[0m \u001b[0;34m=\u001b[0m \u001b[0mself\u001b[0m\u001b[0;34m.\u001b[0m\u001b[0m_poller_class\u001b[0m\u001b[0;34m(\u001b[0m\u001b[0;34m)\u001b[0m\u001b[0;34m\u001b[0m\u001b[0m\n\u001b[1;32m    500\u001b[0m         \u001b[0mp\u001b[0m\u001b[0;34m.\u001b[0m\u001b[0mregister\u001b[0m\u001b[0;34m(\u001b[0m\u001b[0mself\u001b[0m\u001b[0;34m,\u001b[0m \u001b[0mflags\u001b[0m\u001b[0;34m)\u001b[0m\u001b[0;34m\u001b[0m\u001b[0m\n\u001b[0;32m--> 501\u001b[0;31m         \u001b[0mevts\u001b[0m \u001b[0;34m=\u001b[0m \u001b[0mdict\u001b[0m\u001b[0;34m(\u001b[0m\u001b[0mp\u001b[0m\u001b[0;34m.\u001b[0m\u001b[0mpoll\u001b[0m\u001b[0;34m(\u001b[0m\u001b[0mtimeout\u001b[0m\u001b[0;34m)\u001b[0m\u001b[0;34m)\u001b[0m\u001b[0;34m\u001b[0m\u001b[0m\n\u001b[0m\u001b[1;32m    502\u001b[0m         \u001b[0;31m# return 0 if no events, otherwise return event bitfield\u001b[0m\u001b[0;34m\u001b[0m\u001b[0;34m\u001b[0m\u001b[0m\n\u001b[1;32m    503\u001b[0m         \u001b[0;32mreturn\u001b[0m \u001b[0mevts\u001b[0m\u001b[0;34m.\u001b[0m\u001b[0mget\u001b[0m\u001b[0;34m(\u001b[0m\u001b[0mself\u001b[0m\u001b[0;34m,\u001b[0m \u001b[0;36m0\u001b[0m\u001b[0;34m)\u001b[0m\u001b[0;34m\u001b[0m\u001b[0m\n",
      "\u001b[0;32m/Users/mmcintosh/anaconda/lib/python3.4/site-packages/zmq/sugar/poll.py\u001b[0m in \u001b[0;36mpoll\u001b[0;34m(self, timeout)\u001b[0m\n\u001b[1;32m     99\u001b[0m         \u001b[0;32melif\u001b[0m \u001b[0misinstance\u001b[0m\u001b[0;34m(\u001b[0m\u001b[0mtimeout\u001b[0m\u001b[0;34m,\u001b[0m \u001b[0mfloat\u001b[0m\u001b[0;34m)\u001b[0m\u001b[0;34m:\u001b[0m\u001b[0;34m\u001b[0m\u001b[0m\n\u001b[1;32m    100\u001b[0m             \u001b[0mtimeout\u001b[0m \u001b[0;34m=\u001b[0m \u001b[0mint\u001b[0m\u001b[0;34m(\u001b[0m\u001b[0mtimeout\u001b[0m\u001b[0;34m)\u001b[0m\u001b[0;34m\u001b[0m\u001b[0m\n\u001b[0;32m--> 101\u001b[0;31m         \u001b[0;32mreturn\u001b[0m \u001b[0mzmq_poll\u001b[0m\u001b[0;34m(\u001b[0m\u001b[0mself\u001b[0m\u001b[0;34m.\u001b[0m\u001b[0msockets\u001b[0m\u001b[0;34m,\u001b[0m \u001b[0mtimeout\u001b[0m\u001b[0;34m=\u001b[0m\u001b[0mtimeout\u001b[0m\u001b[0;34m)\u001b[0m\u001b[0;34m\u001b[0m\u001b[0m\n\u001b[0m\u001b[1;32m    102\u001b[0m \u001b[0;34m\u001b[0m\u001b[0m\n\u001b[1;32m    103\u001b[0m \u001b[0;34m\u001b[0m\u001b[0m\n",
      "\u001b[0;32mzmq/backend/cython/_poll.pyx\u001b[0m in \u001b[0;36mzmq.backend.cython._poll.zmq_poll (zmq/backend/cython/_poll.c:1625)\u001b[0;34m()\u001b[0m\n",
      "\u001b[0;32m/Users/mmcintosh/anaconda/lib/python3.4/site-packages/zmq/backend/cython/checkrc.pxd\u001b[0m in \u001b[0;36mzmq.backend.cython.checkrc._check_rc (zmq/backend/cython/_poll.c:1958)\u001b[0;34m()\u001b[0m\n\u001b[1;32m     10\u001b[0m     \"\"\"\n\u001b[1;32m     11\u001b[0m     \u001b[0mcdef\u001b[0m \u001b[0mint\u001b[0m \u001b[0merrno\u001b[0m \u001b[0;34m=\u001b[0m \u001b[0mzmq_errno\u001b[0m\u001b[0;34m(\u001b[0m\u001b[0;34m)\u001b[0m\u001b[0;34m\u001b[0m\u001b[0m\n\u001b[0;32m---> 12\u001b[0;31m     \u001b[0mPyErr_CheckSignals\u001b[0m\u001b[0;34m(\u001b[0m\u001b[0;34m)\u001b[0m\u001b[0;34m\u001b[0m\u001b[0m\n\u001b[0m\u001b[1;32m     13\u001b[0m     \u001b[0;32mif\u001b[0m \u001b[0mrc\u001b[0m \u001b[0;34m<\u001b[0m \u001b[0;36m0\u001b[0m\u001b[0;34m:\u001b[0m\u001b[0;34m\u001b[0m\u001b[0m\n\u001b[1;32m     14\u001b[0m         \u001b[0;32mif\u001b[0m \u001b[0merrno\u001b[0m \u001b[0;34m==\u001b[0m \u001b[0mEINTR\u001b[0m\u001b[0;34m:\u001b[0m\u001b[0;34m\u001b[0m\u001b[0m\n",
      "\u001b[0;31mKeyboardInterrupt\u001b[0m: "
     ]
    }
   ],
   "source": [
    "for source in sources: \n",
    "    # guess where you should start iterating next; assign phasecal\n",
    "    phasecal_df = pd.DataFrame.from_csv(df_path)\n",
    "    phasecal_df = phasecal_df.fillna('')\n",
    "    # guess where to start\n",
    "    h=0\n",
    "    # if you never got flux from your last reduction, go redo that one if redo = True\n",
    "    while True:         \n",
    "        h = check_ifreduced(processed_data_dir, sources, h, phasecal_df, suffix)\n",
    "        if h is None:\n",
    "            print(\"all reduced\")\n",
    "            break\n",
    "        p = find_phasecal(phasecal_df,h)\n",
    "        if isinstance(p, bool) and p:\n",
    "            break\n",
    "        elif isinstance(p, bool) and not p:\n",
    "            # then no flux for h\n",
    "            h -=1\n",
    "        else:\n",
    "            h = p\n",
    "\n",
    "\n",
    "\n",
    "    print(h,'/',len(sources))\n",
    "    source = sources[h]\n",
    "    print('source = '+source) \n",
    "    print('phasecal = '+phasecal_df.loc[h][\"phasecal\"])\n",
    "\n",
    "    # for this source, run the .ipynb\n",
    "    manual_flagging = False\n",
    "    # if you need to change the reference antenna, which I needed for '2016'\n",
    "    #refant = 4\n",
    "    refant = 3\n",
    "\n",
    "    nb_kwargs = {'source': source, 'manual_flagging':manual_flagging, 'refant':refant, 'processed_data_dir':processed_data_dir, 'image_dir':image_dir}\n",
    "    nb_suffix='-out_{0}'.format(source)\n",
    "    \n",
    "    run_notebook(nb_name, nb_suffix=nb_suffix, nb_kwargs=nb_kwargs, hide_input=False,insert_pos=3, out_path='reduction_nbs/')\n"
   ]
  },
  {
   "cell_type": "markdown",
   "metadata": {},
   "source": [
    "# list of specific sources"
   ]
  },
  {
   "cell_type": "code",
   "execution_count": null,
   "metadata": {
    "ExecuteTime": {
     "end_time": "2017-07-27T13:41:50.899851",
     "start_time": "2017-07-27T13:41:50.887823"
    },
    "collapsed": false
   },
   "outputs": [],
   "source": [
    "# set a data dir, band, and source list\n",
    "datadir = '/Volumes/mjrose/C3030/2016-04-05'\n",
    "# and one band\n",
    "band = 'C'\n",
    "sources = ['j084205+1835.5500']\n",
    "band = 'X'\n",
    "sources = ['j053354-2344.9000']\n",
    "\n",
    "    \n",
    "datadir = '/Volumes/mjrose/C3030/2016-04-09'\n",
    "band = 'X'\n",
    "sources = ['1934-638.9000', 'j002549-2602.9000']\n",
    "band = 'C'\n",
    "sources = ['j002549-2602']\n",
    "\n",
    "\n",
    "datadir = '/Volumes/mjrose/C3030/2015-04-12'\n",
    "band = 'X'\n",
    "sources = ['mwacsj2153.5.9000','pks1934-638',  'pks2149-28.9000', \n",
    "                 '0023-263.9000','pks0208+040.9000',  '1323-611.9000', '3c283.9000', 'pks1306-09',  'pks1120-274.9000',  'pks0941-080.9000']\n",
    "#last 5 or so didn’t image–\n",
    "\n",
    "band = 'C'\n",
    "sources = ['0023-263.5500',  '0741-063.5500', '0823-500.5500', 'pks1934-638.5500','pks0208+040.5500', \n",
    "                 '1323-611.5500','3c283.5500', 'pks1120-274.5500', 'pks1306-09.5500','pks0941-080.5500','0743-673.5500']\n",
    "#last 5 or so didn’t image–\n",
    "\n",
    "# set a data dir, band, and source list\n",
    "datadir = '/Volumes/mjrose/C3030/2015-04-11'\n",
    "band = 'L'\n",
    "sources = ['pks0105-122.2100', 'mwacsj0408.0.2100', 'pks0252-71.2100','1245-197.2100', '1015-314.2100', 'pks1120-274.2100', \n",
    "                 'pmnj1726-6427.2100', '0823-500.2100', '0743-673.2100', '1549-790.2100', 'pks0208+040.2100', 'pks1306-09.2100', 'pks0941-080.2100']"
   ]
  },
  {
   "cell_type": "code",
   "execution_count": null,
   "metadata": {
    "collapsed": true
   },
   "outputs": [],
   "source": [
    "# where your raw data is saved\n",
    "raw_data_dir = datadir + '/raw'\n",
    "# where you want to save the visibilities, other pngs, logs\n",
    "processed_data_dir = datadir +'/{0}/reduced_{0}'.format(band)\n",
    "#if not os.path.exists(processed_data_dir):\n",
    "#\tos.makedirs(processed_data_dir)\n",
    "print('raw data sourced from: {0}'.format(raw_data_dir))\n",
    "print('reduced data saved in: {0}'.format(processed_data_dir))\n",
    "\n",
    "\n",
    "if band == 'L':\n",
    "\tsuffix = '.2100'\n",
    "\trawfiles = 'L'\n",
    "\tifsel = 1 \n",
    "elif band == 'C':\n",
    "\tsuffix = '.5500'\n",
    "\trawfiles ='CX'\n",
    "\tifsel = 1\n",
    "elif band == 'X':\n",
    "\tsuffix = '.9000'\n",
    "\trawfiles ='CX'\n",
    "\tifsel = 2\n",
    "    \n",
    "# dataframe for the source being processed to find its best flux calibrator\n",
    "df_path = processed_data_dir+'/calibration_order.csv'\n",
    "\n",
    "if not os.path.exists(df_path):\n",
    "\n",
    "    # read in list of souces from mosaic order\n",
    "    blocks = np.arange(1,11,1)\n",
    "    temp_arr = []\n",
    "    \n",
    "    block_dir = raw_data_dir.split('/raw')[0]+\"/blocks\"\n",
    "    # get list of blocks\n",
    "    block_files = glob.glob(block_dir+\"/*\")\n",
    "    block_files = sorted_nicely(block_files)\n",
    "    \n",
    "    # remove the bandflux calibrator file\n",
    "    bfcal_path = [a for a in block_files if 'bandfluxcal' in a][0]\n",
    "    block_files = [a for a in block_files if 'bandfluxcal' not in a]\n",
    "\n",
    "    if len(block_files) > 1:\n",
    "\n",
    "        for block in block_files: \n",
    "            temp_txt = np.loadtxt(block, dtype=bytes)\n",
    "            temp_arr.append([t[-1].decode('UTF-8')[1:].lower() for t in temp_txt])\n",
    "\n",
    "        # get the unique blocks if any are repeated\n",
    "        unique_blocks = np.sort(np.unique(temp_arr, return_index=True)[1])\n",
    "        sources = np.concatenate([temp_arr[index] for index in unique_blocks])\n",
    "\n",
    "    else:\n",
    "        temp_txt = np.loadtxt(block_files[0], dtype=bytes)\n",
    "        temp_arr.append([t[-1].decode('UTF-8')[1:].lower() for t in temp_txt])\n",
    "        sources = temp_arr[0]\n",
    "        \n",
    "\n",
    "    sources = [s+suffix for s in sources]\n",
    "    # specify the seperate bandflux cal\n",
    "    \n",
    "    bandflux_cal = str(np.genfromtxt(bfcal_path, dtype=str))+suffix\n",
    "    sources = np.append(bandflux_cal,sources)\n",
    "    print('working with these sources: {0}'.format(sources))\n",
    "\n",
    "    # some are repeated but they are in the order we need for phase calibration\n",
    "\n",
    "    # init a dataframe to keep track of phasecals\n",
    "    df_init = pd.DataFrame({'name' : sources, 'percent_flagged': '', 'flux' : '', 'phasecal':''})\n",
    "    df_init.to_csv(df_path)\n",
    "    \n",
    "    \n",
    "phasecal_df = pd.DataFrame.from_csv(df_path)\n",
    "phasecal_df = phasecal_df.fillna('')\n",
    "check_if_data_unpacked(phasecal_df,processed_data_dir,df_path)    \n",
    "sources = phasecal_df[\"name\"].values.tolist()"
   ]
  },
  {
   "cell_type": "code",
   "execution_count": null,
   "metadata": {
    "collapsed": true
   },
   "outputs": [],
   "source": [
    "for source in sources: \n",
    "    # guess where you should start iterating next; assign phasecal\n",
    "    phasecal_df = pd.DataFrame.from_csv(df_path)\n",
    "    phasecal_df = phasecal_df.fillna('')\n",
    "    # guess where to start\n",
    "    h=0\n",
    "    # if you never got flux from your last reduction, go redo that one if redo = True\n",
    "    while True:         \n",
    "        h = check_ifreduced(processed_data_dir, sources, h, phasecal_df, suffix)\n",
    "        if h is None:\n",
    "            print(\"all reduced\")\n",
    "            break\n",
    "        p = find_phasecal(phasecal_df,h)\n",
    "        if isinstance(p, bool) and p:\n",
    "            break\n",
    "        elif isinstance(p, bool) and not p:\n",
    "            # then no flux for h\n",
    "            h -=1\n",
    "        else:\n",
    "            h = p\n",
    "\n",
    "\n",
    "\n",
    "    print(h,'/',len(sources))\n",
    "    source = sources[h]\n",
    "    print('source = '+source) \n",
    "    print('phasecal = '+phasecal_df.loc[h][\"phasecal\"])\n",
    "\n",
    "    # for this source, run the .ipynb\n",
    "    manual_flagging = False\n",
    "    # if you need to change the reference antenna, which I needed for '2016'\n",
    "    #refant = 4\n",
    "    refant = 3\n",
    "\n",
    "    nb_kwargs = {'source': source, 'manual_flagging':manual_flagging, 'refant':refant, 'processed_data_dir':processed_data_dir, 'image_dir':image_dir}\n",
    "    nb_suffix='-out_{0}'.format(source)\n",
    "    \n",
    "    run_notebook(nb_name, nb_suffix=nb_suffix, nb_kwargs=nb_kwargs, hide_input=False,insert_pos=3, out_path='reduction_nbs/')\n",
    "\n"
   ]
  },
  {
   "cell_type": "markdown",
   "metadata": {},
   "source": [
    "# Evernote"
   ]
  },
  {
   "cell_type": "code",
   "execution_count": null,
   "metadata": {
    "ExecuteTime": {
     "end_time": "2017-07-19T18:23:07.365474",
     "start_time": "2017-07-19T18:23:05.215067"
    },
    "collapsed": false
   },
   "outputs": [],
   "source": [
    "# add the html to evernote; a project for another day\n",
    "'''import subprocess\n",
    "# save as HTML\n",
    "## double check this renders the last cells\n",
    "notebook_dir = os.getcwd()\n",
    "filename = '/'.join([notebook_dir,nb_name.split('.ipynb')[0]+ nb_suffix+'.ipynb'])\n",
    "fn = filename.replace(\".ipynb\", \".html\")\n",
    "rename_cmd = fn + ' ' + filename\n",
    "print(rename_cmd)\n",
    "\n",
    "# converts ipynb to html\n",
    "cmd = 'jupyter nbconvert --to html_embed --template toc2 {0}'.format(filename)\n",
    "subprocess.call(cmd, shell=True)\n",
    "\n",
    "# uses javascript to convert html to enml, evernote's format\n",
    "# I didn't have javascript, so\n",
    "# I needed to 'brew install node' for this bit\n",
    "# then 'npm install html2enml\n",
    "# cmd = 'html2enml {0}'.format(fn)\n",
    "# subprocess.call(cmd, shell=True)\n",
    "\n",
    "#settings.configure()\n",
    "HtmlFile = open(fn, 'r', encoding='utf-8')\n",
    "html_code = HtmlFile.read()\n",
    "#html_code = HttpResponse(html_code, content_type=\"html\")\n",
    "\n",
    "\n",
    "# save to evernote \n",
    "\n",
    "import evernote.edam.type.ttypes as Types\n",
    "import evernote.edam.notestore.ttypes as NoteStore\n",
    "from evernote.api.client import EvernoteClient\n",
    "\n",
    "auth_token = \"???\"\n",
    "client = EvernoteClient(token=auth_token, sandbox=False)\n",
    "userStore = client.get_user_store()\n",
    "user = userStore.getUser()\n",
    "userId = user.id\n",
    "shardId = user.shardId\n",
    "\n",
    "\n",
    "# write a new note\n",
    "noteStore = client.get_note_store()\n",
    "note = Types.Note()\n",
    "notebooks = noteStore.listNotebooks()\n",
    "notebook_guid = [n.guid for n in notebooks if \"C3030 Reduction\" in n.name]\n",
    "note.notebookGuid = notebook_guid[0]\n",
    "note.title = \"I'm a test note!\"\n",
    "note.tagNames = ['test', 'fun', 'procrastinating']\n",
    "note.content = '<?xml version=\"1.0\" encoding=\"UTF-8\"?><!DOCTYPE en-note SYSTEM \"http://xml.evernote.com/pub/enml2.dtd\">'\n",
    "note.content += '<en-note> {0} <br/></en-note>'.format(temp)\n",
    "\n",
    "note = noteStore.createNote(note)\n",
    "noteGuid = note.guid\n",
    "\n",
    "# find note you want to link the new note you created to \n",
    "note_filter = NoteStore.NoteFilter()\n",
    "note_filter.words = 'intitle:\"Overview reduction notes\"'\n",
    "notes_metadata_result_spec = NoteStore.NotesMetadataResultSpec()\n",
    "notes_metadata_list = note_store.findNotesMetadata(note_filter, 0, 1, notes_metadata_result_spec)\n",
    "note_guid = notes_metadata_list.notes[0].guid\n",
    "\n",
    "overview_note = note_store.getNote(note_guid, True, False, False, False)\n",
    "# don't erase what is already there \n",
    "previous_content = overview_note.content.split('</en-note>')[0]\n",
    "overview_note.content = previous_content\n",
    "# new content\n",
    "overview_note.content += '\\n<div><a style=\"color:#69aa35;\" href=\"evernote:///view/{0}/{1}/{2}/{2}/\">{3}</a><br/></div>'.format(userId,shardId,noteGuid, 'source')\n",
    "# end it\n",
    "overview_note.content += '</en-note>\\n'\n",
    "# push\n",
    "overview_note = noteStore.updateNote(overview_note)'''"
   ]
  }
 ],
 "metadata": {
  "hide_input": false,
  "kernelspec": {
   "display_name": "Python 3",
   "language": "python",
   "name": "python3"
  },
  "language_info": {
   "codemirror_mode": {
    "name": "ipython",
    "version": 3
   },
   "file_extension": ".py",
   "mimetype": "text/x-python",
   "name": "python",
   "nbconvert_exporter": "python",
   "pygments_lexer": "ipython3",
   "version": "3.4.5"
  },
  "latex_envs": {
   "bibliofile": "biblio.bib",
   "cite_by": "apalike",
   "current_citInitial": 1,
   "eqLabelWithNumbers": true,
   "eqNumInitial": 0
  },
  "toc": {
   "colors": {
    "hover_highlight": "#DAA520",
    "running_highlight": "#FF0000",
    "selected_highlight": "#FFD700"
   },
   "moveMenuLeft": true,
   "nav_menu": {
    "height": "66px",
    "width": "252px"
   },
   "navigate_menu": true,
   "number_sections": true,
   "sideBar": true,
   "threshold": 4,
   "toc_cell": false,
   "toc_section_display": "block",
   "toc_window_display": false,
   "widenNotebook": false
  }
 },
 "nbformat": 4,
 "nbformat_minor": 2
}
