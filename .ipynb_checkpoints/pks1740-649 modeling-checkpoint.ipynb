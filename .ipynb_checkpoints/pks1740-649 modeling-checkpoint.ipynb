{
 "cells": [
  {
   "cell_type": "markdown",
   "metadata": {},
   "source": [
    "Fitting models to pks1740-649\n",
    "MJ Rose, J Callingham\n",
    "2017-07-10"
   ]
  },
  {
   "cell_type": "code",
   "execution_count": 4,
   "metadata": {
    "ExecuteTime": {
     "end_time": "2017-07-10T17:11:45.473291",
     "start_time": "2017-07-10T17:11:45.429798"
    },
    "collapsed": false
   },
   "outputs": [],
   "source": [
    "%matplotlib inline\n",
    "from matplotlib import pyplot as plt\n",
    "from IPython.display import Image, display\n",
    "from IPython.display import Javascript\n",
    "import numpy as np\n",
    "import os, glob, subprocess, time, psutil, sys, shutil, fnmatch\n",
    "import pandas as pd\n",
    "\n",
    "import numpy as np\n",
    "import matplotlib.pyplot as plt\n",
    "import math\n",
    "import scipy.optimize as opt\n",
    "import scipy.stats as stats\n",
    "from astropy.io import fits\n",
    "import sys\n",
    "import scipy.special as special # For access to the incomplete gamma function.\n",
    "import emcee\n",
    "import triangle \n",
    "import inspect\n",
    "# Joe's SED plotting \n",
    "import seds_plot_func\n",
    "import gpscssmodels\n",
    "\n",
    "# my own\n",
    "from reduction_funcs import *\n",
    "\n",
    "from pylab import rcParams"
   ]
  },
  {
   "cell_type": "code",
   "execution_count": 91,
   "metadata": {
    "ExecuteTime": {
     "end_time": "2017-07-10T17:50:24.564063",
     "start_time": "2017-07-10T17:50:24.543291"
    },
    "collapsed": false
   },
   "outputs": [],
   "source": [
    "# get data \n",
    "df_path = 'sed_df.csv'\n",
    "\n",
    "def fluxconv(string):\n",
    "    return(np.asarray(list(map(float,filter(None, temp[1:-1].split(' '))))))\n",
    "\n",
    "sed_df = pd.read_csv(df_path, converters={'flux':strtoarr, 'freq':strtoarr}, escapechar='\\n',index_col=0)\n",
    "#temp = [i for i,s in enumerate(sed_df.name) if '1740-649' in s]\n",
    "#sed_df.loc[temp]"
   ]
  },
  {
   "cell_type": "code",
   "execution_count": 92,
   "metadata": {
    "ExecuteTime": {
     "end_time": "2017-07-10T17:50:52.786479",
     "start_time": "2017-07-10T17:50:52.776649"
    },
    "collapsed": false
   },
   "outputs": [
    {
     "data": {
      "text/plain": [
       "array([ 1.626191 ,  1.667595 ,  1.691199 ,  1.711766 ,  1.733733 ,\n",
       "        1.762782 ,  1.791735 ,  1.817511 ,  1.859625 ,  1.909337 ,\n",
       "        1.933881 ,  1.990283 ,  2.050748 ,  2.118499 ,  2.243602 ,\n",
       "        2.334861 ,  1.652553 ,  1.677724 ,  1.704588 ,  1.731197 ,\n",
       "        1.752071 ,  1.784894 ,  1.813329 ,  1.843184 ,  1.897501 ,\n",
       "        1.927594 ,  1.983765 ,  2.049153 ,  2.093113 ,  2.225148 ,\n",
       "        2.303381 ,  1.326722 ,  1.313379 ,  1.293076 ,  1.275483 ,\n",
       "        1.264804 ,  1.250005 ,  1.239586 ,  1.237711 ,  1.21996  ,\n",
       "        1.207052 ,  1.201082 ,  1.18949  ,  1.173036 ,  1.169145 ,\n",
       "        1.150744 ,  1.146856 ,  1.132865 ,  1.124625 ,  1.329997 ,\n",
       "        1.317379 ,  1.296889 ,  1.278492 ,  1.276662 ,  1.254563 ,\n",
       "        1.245247 ,  1.241494 ,  1.224871 ,  1.206413 ,  1.201498 ,\n",
       "        1.195893 ,  1.174231 ,  1.1714   ,  1.15466  ,  1.145604 ,\n",
       "        1.140451 ,  1.130145 ,  1.109772 ,  0.9731219,  0.9646046,\n",
       "        0.9567547,  0.9585725,  0.9466899,  0.9412761,  0.9311033,\n",
       "        0.9349426,  0.9231637,  0.9188872,  0.9160445,  0.8997805,\n",
       "        0.8996399,  0.8874292,  0.8819071,  0.8748828,  0.8728155,\n",
       "        0.8680834,  0.9768547,  0.9710808,  0.9628972,  0.9575276,\n",
       "        0.9498626,  0.9424854,  0.9309614,  0.9347243,  0.9270914,\n",
       "        0.9088281,  0.9110115,  0.9012638,  0.8887037,  0.8904901,\n",
       "        0.8887525,  0.8785908,  0.8753691,  0.8726878,  3.1768   ,\n",
       "        3.55     ,  2.863    ,  1.235    ,  0.829    ,  2.9050403,\n",
       "        2.9687471,  3.0137563,  3.0915842,  3.035024 ,  3.0343275,\n",
       "        3.0608919,  3.0440202,  3.1252463,  3.144881 ,  3.218947 ,\n",
       "        3.1965137,  3.2233725,  3.1684678,  3.1736035,  3.2109282,\n",
       "        3.0880213,  3.114114 ,  3.1447654,  3.1628637])"
      ]
     },
     "execution_count": 92,
     "metadata": {},
     "output_type": "execute_result"
    }
   ],
   "source": [
    "sed_df.loc[i][\"freq\"]"
   ]
  },
  {
   "cell_type": "code",
   "execution_count": 87,
   "metadata": {
    "ExecuteTime": {
     "end_time": "2017-07-10T17:48:44.171864",
     "start_time": "2017-07-10T17:48:44.153394"
    },
    "collapsed": false
   },
   "outputs": [
    {
     "name": "stdout",
     "output_type": "stream",
     "text": [
      "pks1740-649\n"
     ]
    },
    {
     "ename": "TypeError",
     "evalue": "only integer arrays with one element can be converted to an index",
     "output_type": "error",
     "traceback": [
      "\u001b[0;31m---------------------------------------------------------------------------\u001b[0m",
      "\u001b[0;31mTypeError\u001b[0m                                 Traceback (most recent call last)",
      "\u001b[0;32m<ipython-input-87-fbbe99b4a22a>\u001b[0m in \u001b[0;36m<module>\u001b[0;34m()\u001b[0m\n\u001b[1;32m      9\u001b[0m seds_plot_func.sed(gpscssmodels.powlaw,[1,1],freq_arr,\n\u001b[1;32m     10\u001b[0m                    \u001b[0mflux_arr\u001b[0m\u001b[0;34m,\u001b[0m\u001b[0mflux_err_arr\u001b[0m\u001b[0;34m,\u001b[0m \u001b[0mname\u001b[0m\u001b[0;34m,\u001b[0m\u001b[0;34m\u001b[0m\u001b[0m\n\u001b[0;32m---> 11\u001b[0;31m                    freq_labels = False, savefig = False, resid=True)\n\u001b[0m",
      "\u001b[0;32m/Users/mmcintosh/Dropbox/ASTRON2017/C3030/reduction_scripts/seds_plot_func.py\u001b[0m in \u001b[0;36msed\u001b[0;34m(models, paras, freq, flux, flux_err, name, grid, freq_labels, log, bayes, resid, savefig)\u001b[0m\n\u001b[1;32m     39\u001b[0m     \u001b[0mfreq\u001b[0m \u001b[0;34m=\u001b[0m \u001b[0mfreq\u001b[0m\u001b[0;34m[\u001b[0m\u001b[0mind\u001b[0m\u001b[0;34m]\u001b[0m\u001b[0;34m\u001b[0m\u001b[0m\n\u001b[1;32m     40\u001b[0m     \u001b[0mflux\u001b[0m \u001b[0;34m=\u001b[0m \u001b[0mflux\u001b[0m\u001b[0;34m[\u001b[0m\u001b[0mind\u001b[0m\u001b[0;34m]\u001b[0m\u001b[0;34m\u001b[0m\u001b[0m\n\u001b[0;32m---> 41\u001b[0;31m     \u001b[0mflux_err\u001b[0m \u001b[0;34m=\u001b[0m \u001b[0mflux_err\u001b[0m\u001b[0;34m[\u001b[0m\u001b[0mind\u001b[0m\u001b[0;34m]\u001b[0m\u001b[0;34m\u001b[0m\u001b[0m\n\u001b[0m\u001b[1;32m     42\u001b[0m \u001b[0;34m\u001b[0m\u001b[0m\n\u001b[1;32m     43\u001b[0m     \u001b[0;32mif\u001b[0m \u001b[0mresid\u001b[0m \u001b[0;34m==\u001b[0m \u001b[0;32mTrue\u001b[0m\u001b[0;34m:\u001b[0m\u001b[0;34m\u001b[0m\u001b[0m\n",
      "\u001b[0;31mTypeError\u001b[0m: only integer arrays with one element can be converted to an index"
     ]
    }
   ],
   "source": [
    "i = 59\n",
    "freq_arr = sed_df.loc[i][\"freq\"]*1000 # in MHz\n",
    "flux_arr = sed_df.loc[i][\"flux\"]\n",
    "flux_err_arr = sed_df.loc[i][\"flux_err\"]\n",
    "name = sed_df.loc[i][\"name\"]\n",
    "print(name)\n",
    "\n",
    "# residuals = True\n",
    "seds_plot_func.sed(gpscssmodels.powlaw,[1,1],freq_arr,\n",
    "                   flux_arr,flux_err_arr, name, \n",
    "                   freq_labels = False, savefig = False, resid=True)\n"
   ]
  },
  {
   "cell_type": "code",
   "execution_count": null,
   "metadata": {
    "collapsed": true
   },
   "outputs": [],
   "source": []
  }
 ],
 "metadata": {
  "hide_input": false,
  "kernelspec": {
   "display_name": "Python 3",
   "language": "python",
   "name": "python3"
  },
  "language_info": {
   "codemirror_mode": {
    "name": "ipython",
    "version": 3
   },
   "file_extension": ".py",
   "mimetype": "text/x-python",
   "name": "python",
   "nbconvert_exporter": "python",
   "pygments_lexer": "ipython3",
   "version": "3.4.5"
  },
  "latex_envs": {
   "bibliofile": "biblio.bib",
   "cite_by": "apalike",
   "current_citInitial": 1,
   "eqLabelWithNumbers": true,
   "eqNumInitial": 0
  },
  "toc": {
   "colors": {
    "hover_highlight": "#DAA520",
    "running_highlight": "#FF0000",
    "selected_highlight": "#FFD700"
   },
   "moveMenuLeft": true,
   "nav_menu": {
    "height": "12px",
    "width": "252px"
   },
   "navigate_menu": true,
   "number_sections": true,
   "sideBar": true,
   "threshold": 4,
   "toc_cell": false,
   "toc_section_display": "block",
   "toc_window_display": false,
   "widenNotebook": false
  }
 },
 "nbformat": 4,
 "nbformat_minor": 2
}
