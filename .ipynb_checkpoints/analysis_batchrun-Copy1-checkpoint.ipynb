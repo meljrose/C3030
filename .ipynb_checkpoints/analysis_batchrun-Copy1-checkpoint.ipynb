{
 "cells": [
  {
   "cell_type": "markdown",
   "metadata": {
    "ExecuteTime": {
     "end_time": "2017-07-17T16:58:16.396010",
     "start_time": "2017-07-17T16:58:16.388624"
    }
   },
   "source": [
    "# Batch Run analysis script"
   ]
  },
  {
   "cell_type": "markdown",
   "metadata": {},
   "source": [
    "2017-07-17 M.J.Rose\n",
    "\n",
    "Heavily borrowed from https://github.com/tritemio/nbrun"
   ]
  },
  {
   "cell_type": "markdown",
   "metadata": {
    "ExecuteTime": {
     "end_time": "2017-07-17T18:58:45.626973",
     "start_time": "2017-07-17T18:58:45.608615"
    }
   },
   "source": [
    "# Master Notebook\n",
    "\n",
    "<p class=lead>This notebook executes a [template notebook](mirpy_reduction_template.ipynb) passing different arguments.\n",
    "<p>\n",
    "\n",
    "The module `nbrun.py` needs to be importable (i.e. placed in the current folder or in the python path):"
   ]
  },
  {
   "cell_type": "code",
   "execution_count": 1,
   "metadata": {
    "ExecuteTime": {
     "end_time": "2017-07-26T16:33:35.336188",
     "start_time": "2017-07-26T16:33:29.474307"
    },
    "collapsed": false
   },
   "outputs": [],
   "source": [
    "#from reduction_funcs import *\n",
    "from nbrun import run_notebook\n",
    "import os, sys\n",
    "import pandas as pd"
   ]
  },
  {
   "cell_type": "code",
   "execution_count": 22,
   "metadata": {
    "ExecuteTime": {
     "end_time": "2017-07-26T17:04:23.297189",
     "start_time": "2017-07-26T17:04:23.271892"
    },
    "collapsed": false
   },
   "outputs": [
    {
     "name": "stdout",
     "output_type": "stream",
     "text": [
      "version information\n",
      "posix.uname_result(sysname='Darwin', nodename='Missys-MacBook-Air.local', release='16.6.0', version='Darwin Kernel Version 16.6.0: Fri Apr 14 16:21:16 PDT 2017; root:xnu-3789.60.24~6/RELEASE_X86_64', machine='x86_64')\n",
      "3.4.5 |Anaconda 2.3.0 (x86_64)| (default, Jul  2 2016, 17:47:57) \n",
      "[GCC 4.2.1 Compatible Apple LLVM 4.2 (clang-425.0.28)]\n",
      "path 0.0.0\n",
      "os unknown\n",
      "sys unknown\n",
      "scripts saved in: /Users/mmcintosh/Dropbox/ASTRON2017/C3030/scripts/model_nbs\n",
      "images saved in: /Users/mmcintosh/Dropbox/ASTRON2017/C3030/model_plots/\n",
      "evidence values saved in: /Users/mmcintosh/Dropbox/ASTRON2017/C3030/model_ev/\n"
     ]
    }
   ],
   "source": [
    "\n",
    "# template name\n",
    "nb_name = 'C3030_modeling_template.ipynb'\n",
    "# where you keep the notebooks you generate with this script\n",
    "notebook_dir = '/Users/mmcintosh/Dropbox/ASTRON2017/C3030/scripts/model_nbs'\n",
    "# where you want to save key pngs for quick reference\n",
    "image_dir = \"/Users/mmcintosh/Dropbox/ASTRON2017/C3030/model_plots/\"\n",
    "# where you want to save files with evidence values for quick ref\n",
    "model_ev_dir = \"/Users/mmcintosh/Dropbox/ASTRON2017/C3030/model_ev/\"\n",
    "\n",
    "for path in [notebook_dir, image_dir, model_ev_dir]:\n",
    "    if not os.path.exists(path):\n",
    "        os.makedirs(path)\n",
    "\n",
    "\n",
    "\n",
    "# print out version information\n",
    "print('version information')\n",
    "print(os.uname())\n",
    "print(sys.version)\n",
    "modules = list(set(sys.modules) & set(globals()))\n",
    "for module_name in modules:\n",
    "    module = sys.modules[module_name]\n",
    "    print (module_name, getattr(module, '__version__', 'unknown'))\n",
    "    \n",
    "    \n",
    "# image directories  \n",
    "print('scripts saved in: {0}'.format(notebook_dir))\n",
    "print('images saved in: {0}'.format(image_dir))\n",
    "print('evidence values saved in: {0}'.format(model_ev_dir))"
   ]
  },
  {
   "cell_type": "code",
   "execution_count": 12,
   "metadata": {
    "ExecuteTime": {
     "end_time": "2017-07-26T17:01:49.903832",
     "start_time": "2017-07-26T17:01:49.827230"
    },
    "collapsed": false
   },
   "outputs": [],
   "source": [
    "# by default, sets up and does analysis form pks1740-649\n",
    "\n",
    "if not os.path.exists(model_ev_dir+'modeled_df.pkl'):\n",
    "    # read in data\n",
    "    sedfile = 'sed_df.pkl'\n",
    "    sed_loc = os.getcwd()+\"/\"+sedfile\n",
    "    sed_df = pd.read_pickle(sed_loc)\n",
    "    sed_df.to_pickle(model_ev_dir+'modeled_df.pkl')\n",
    "    \n",
    "# read in data\n",
    "sed_df = pd.read_pickle(model_ev_dir+'modeled_df.pkl')\n",
    "    \n",
    "    \n",
    "# default args\n",
    "interactive = False\n",
    "nwalkers = 50 \n",
    "nsteps = 1000 \n",
    "burnin = 500"
   ]
  },
  {
   "cell_type": "code",
   "execution_count": null,
   "metadata": {
    "ExecuteTime": {
     "start_time": "2017-07-26T15:59:43.142Z"
    },
    "collapsed": false
   },
   "outputs": [
    {
     "data": {
      "text/html": [
       "<a href='C3030_modeling_template.ipynb' target='_blank'>C3030_modeling_template.ipynb</a><br>"
      ],
      "text/plain": [
       "/Users/mmcintosh/Dropbox/ASTRON2017/C3030/scripts/C3030_modeling_template.ipynb"
      ]
     },
     "metadata": {},
     "output_type": "display_data"
    }
   ],
   "source": [
    "# pick out one source to reduce\n",
    "\n",
    "source_index, name = [(i, name) for i,name in enumerate(sed_df.name.values) if '1744' in name][0]\n",
    "\n",
    "nb_kwargs = {'source_index': source_index, 'interactive': interactive, 'nwalkers':nwalkers, 'nsteps':nsteps, 'burnin':burnin}\n",
    "nb_suffix='-out_{0}'.format(name)\n",
    "\n",
    "run_notebook(nb_name, nb_suffix=nb_suffix, nb_kwargs=nb_kwargs, hide_input=False,insert_pos=3, out_path='model_nbs/')\n"
   ]
  },
  {
   "cell_type": "code",
   "execution_count": 11,
   "metadata": {
    "ExecuteTime": {
     "end_time": "2017-07-25T18:55:23.632977",
     "start_time": "2017-07-25T18:55:23.626549"
    },
    "collapsed": true
   },
   "outputs": [],
   "source": [
    "# loop over all sources (without any cuts)\n",
    "\n",
    "iter_list = sed_df.index.tolist()\n",
    "\n",
    "# loop over those with ATCA data\n",
    "# path to ATCA reduced data\n",
    "uvfmeas_paths = []\n",
    "for p in [\"/Volumes/mjrose/C3030/\"]:\n",
    "    path = p\n",
    "    regex = 'uvfmeaslog*'\n",
    "    uvfmeas_paths.extend(recursive_glob(path, regex))\n",
    "\n",
    "path = [s for s in uvfmeas_paths if name in s]\n",
    "if path == []:\n",
    "    path = [s for s in uvfmeas_paths if name.split('pks')[-1] in s]\n",
    "if path == []:\n",
    "    path = [s for s in uvfmeas_paths if name.split('mwacsj')[-1] in s]\n",
    "if path == []:\n",
    "    path = [s for s in uvfmeas_paths if name.split('mwacsj')[-1].split('-')[0] in s]\n",
    "if path == []:\n",
    "    missing_uv.append(i)\n",
    "\n",
    "\n"
   ]
  },
  {
   "cell_type": "code",
   "execution_count": null,
   "metadata": {
    "collapsed": true
   },
   "outputs": [],
   "source": [
    "sed_df"
   ]
  },
  {
   "cell_type": "code",
   "execution_count": 15,
   "metadata": {
    "ExecuteTime": {
     "end_time": "2017-07-25T18:58:05.544807",
     "start_time": "2017-07-25T18:58:05.527555"
    },
    "collapsed": false,
    "scrolled": false
   },
   "outputs": [],
   "source": [
    "# loop\n",
    "overwrite = False\n",
    "\n",
    "err_arr = []\n",
    "done_arr = []\n",
    "for i in iter_list:\n",
    "   \n",
    "    if \n",
    "    \n",
    "    \n",
    "    nb_kwargs = {'source_index': i, 'interactive': interactive, 'nwalkers':nwalkers, 'nsteps':nsteps, 'burnin':burnin}\n",
    "    nb_suffix='-out_{0}'.format(name)\n",
    "    \n",
    "    try:\n",
    "        run_notebook(nb_name, nb_suffix=nb_suffix, nb_kwargs=nb_kwargs, hide_input=False,insert_pos=3, out_path='/model_nbs')\n",
    "        done_arr.append(name)\n",
    "    except:\n",
    "        err_arr.append(name)"
   ]
  },
  {
   "cell_type": "markdown",
   "metadata": {
    "ExecuteTime": {
     "end_time": "2017-07-17T18:59:50.464875",
     "start_time": "2017-07-17T18:59:50.453920"
    }
   },
   "source": [
    "# How to Avoid Breaking Links\n",
    "\n",
    "Running `run_notebook()` generates and displays links to the\n",
    "template and output notebooks. Nbrun can generate broken links\n",
    "if one of the following conditions are not true.\n",
    "\n",
    "First, the template and output notebooks need to be\n",
    "accessible to the jupyter notebook, so they need to be in a subfolder of the\n",
    "jupyter notebook startup foder.\n",
    "\n",
    "Second, when calling `notebook_run`, the python working directory needs to be the same \n",
    "as the current notebook (which is the default for new kernels). \n",
    "If the user doesn't change dir (using `cd` or `os.chdir`) \n",
    "before calling `notebook_run`, the links are correctly generated.\n",
    "If the user needs to change dir, it should change it back to the \n",
    "current notebook folder before calling `run_notebook`, otherwise\n",
    "the links will be broken."
   ]
  },
  {
   "cell_type": "code",
   "execution_count": 63,
   "metadata": {
    "ExecuteTime": {
     "end_time": "2017-07-25T19:51:40.443297",
     "start_time": "2017-07-25T19:51:40.436539"
    },
    "collapsed": false
   },
   "outputs": [
    {
     "data": {
      "text/plain": [
       "1"
      ]
     },
     "execution_count": 63,
     "metadata": {},
     "output_type": "execute_result"
    }
   ],
   "source": [
    "import numpy as np\n",
    "args = ['a', 'b', 'c']\n",
    "vals = [1,2,3]\n",
    "parameter = 'a'\n",
    "vals[args.index(parameter)]"
   ]
  },
  {
   "cell_type": "code",
   "execution_count": null,
   "metadata": {
    "collapsed": true
   },
   "outputs": [],
   "source": []
  }
 ],
 "metadata": {
  "hide_input": false,
  "kernelspec": {
   "display_name": "Python 3",
   "language": "python",
   "name": "python3"
  },
  "language_info": {
   "codemirror_mode": {
    "name": "ipython",
    "version": 3
   },
   "file_extension": ".py",
   "mimetype": "text/x-python",
   "name": "python",
   "nbconvert_exporter": "python",
   "pygments_lexer": "ipython3",
   "version": "3.4.5"
  },
  "latex_envs": {
   "bibliofile": "biblio.bib",
   "cite_by": "apalike",
   "current_citInitial": 1,
   "eqLabelWithNumbers": true,
   "eqNumInitial": 0
  },
  "toc": {
   "colors": {
    "hover_highlight": "#DAA520",
    "running_highlight": "#FF0000",
    "selected_highlight": "#FFD700"
   },
   "moveMenuLeft": true,
   "nav_menu": {
    "height": "66px",
    "width": "252px"
   },
   "navigate_menu": true,
   "number_sections": true,
   "sideBar": true,
   "threshold": 4,
   "toc_cell": false,
   "toc_section_display": "block",
   "toc_window_display": false,
   "widenNotebook": false
  }
 },
 "nbformat": 4,
 "nbformat_minor": 2
}
