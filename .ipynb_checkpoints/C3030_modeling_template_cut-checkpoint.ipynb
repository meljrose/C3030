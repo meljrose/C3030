{
 "cells": [
  {
   "cell_type": "markdown",
   "metadata": {},
   "source": [
    "MJ Rose with scripts from J. Callingham\n",
    "\n",
    "\n",
    "You can either run this notebook directly, \n",
    "or run it through the [master notebook](analysis_batchrun.ipynb) for batch processing.\n",
    "\n",
    "If you have run this automatically and now want to customize the analysis, make sure to save this under a different name or it might be overwritten by the batch processing script"
   ]
  },
  {
   "cell_type": "markdown",
   "metadata": {},
   "source": [
    "# Imports, functions"
   ]
  },
  {
   "cell_type": "code",
   "execution_count": 1,
   "metadata": {
    "ExecuteTime": {
     "end_time": "2017-07-31T15:00:11.504294",
     "start_time": "2017-07-31T15:00:00.125324"
    },
    "collapsed": false
   },
   "outputs": [],
   "source": [
    "%matplotlib inline\n",
    "from matplotlib import pyplot as plt\n",
    "from IPython.display import Image, display\n",
    "from IPython.display import HTML as html_print\n",
    "import numpy as np\n",
    "import os, glob, subprocess, time, psutil, sys, shutil, fnmatch\n",
    "import pandas as pd\n",
    "import pymultinest,os, threading, subprocess, time, math\n",
    "import scipy.optimize as opt\n",
    "import scipy.stats as stats\n",
    "import scipy.special as special # For access to the incomplete gamma function.\n",
    "import emcee, corner\n",
    "from collections import namedtuple\n",
    "from collections import OrderedDict\n",
    "import copy\n",
    "\n",
    "\n",
    "if not os.path.exists(\"chains\"): os.mkdir(\"chains\") # This is important.\n",
    "# This makes a directory called \"chains\". This is where the walker information\n",
    "# is being stored by Multinest. All Pymultinest does is then read them in.\n",
    "\n",
    "# in case you start script from child directory\n",
    "try:\n",
    "    # Joe's SED plotting \n",
    "    import seds_plot_func\n",
    "    from gpscssmodels import *\n",
    "\n",
    "    # my own\n",
    "    from reduction_funcs import *\n",
    "except:\n",
    "    sys.path.insert(0,'..')\n",
    "    import seds_plot_func\n",
    "    from gpscssmodels import *\n",
    "    from reduction_funcs import *\n",
    "\n",
    "# for nbrun \n",
    "array = np.array\n",
    "\n",
    "# by default, sets up and does analysis form pks1740-649\n",
    "    \n",
    "\n",
    "# set save path\n",
    "image_dir = \"/Users/mmcintosh/Dropbox/ASTRON2017/C3030/model_plots/\"\n",
    "if not os.path.exists(image_dir):\n",
    "\tos.makedirs(image_dir)\n",
    " \n",
    "# set save path\n",
    "model_ev_dir = \"/Users/mmcintosh/Dropbox/ASTRON2017/C3030/model_ev/\"\n",
    "if not os.path.exists(model_ev_dir):\n",
    "\tos.makedirs(model_ev_dir)\n",
    "    \n",
    "if not os.path.exists(model_ev_dir+'modeled_df.pkl'):\n",
    "    # read in data\n",
    "    sedfile = 'sed_df.pkl'\n",
    "    sed_loc = os.getcwd()+\"/\"+sedfile\n",
    "    sed_df = pd.read_pickle(sed_loc)\n",
    "    sed_df.to_pickle(model_ev_dir+'modeled_df.pkl')\n",
    "    \n",
    "# read in data\n",
    "sed_df = pd.read_pickle(model_ev_dir+'modeled_df.pkl')\n",
    "    \n",
    "    \n",
    "# # default source to model\n",
    "interactive = False\n",
    "source_index = 90\n",
    "nwalkers = 50 \n",
    "nsteps = 1000 \n",
    "burnin = 500"
   ]
  },
  {
   "cell_type": "code",
   "execution_count": 2,
   "metadata": {
    "ExecuteTime": {
     "end_time": "2017-07-31T15:00:11.825171",
     "start_time": "2017-07-31T15:00:11.506453"
    },
    "collapsed": false
   },
   "outputs": [],
   "source": [
    "# custom function \n",
    "\n",
    "def print_color(s, color='black'):\n",
    "     display(html_print(\"<text style=color:{}>{}</text>\".format(color, s)))\n",
    "        \n",
    "        \n",
    "def get_argnames(func):\n",
    "    return(func.__code__.co_varnames[:func.__code__.co_argcount][1:])\n",
    "\n",
    "\n",
    "def help_unpack(theta):\n",
    "    if isinstance(theta,np.ndarray):\n",
    "        return(copy.copy(theta))\n",
    "    else:\n",
    "        # its probably a generator func from multinest\n",
    "        temp = [theta[i] for i in np.arange(ndim)]\n",
    "        return(temp)\n",
    "\n",
    "def init_repeated_params(arg, param):\n",
    "    ''' if you have something like Snorm, Snorm2, Snorm3\n",
    "    then this function places them at 2x, 4x, 6x ... out \n",
    "    from the original Snorm '''\n",
    "    temp = re.search('\\d', arg)\n",
    "    if temp is not None:\n",
    "        occurance = int(temp.group())\n",
    "        if occurance >= 2:\n",
    "            param = param *2*(occurance -1)\n",
    "    return(param)\n",
    "\n",
    "Prior = namedtuple('Prior', ['guess', 'min', 'max'])\n",
    "def make_prior_dictionary(func, x,y):\n",
    "    argnames = get_argnames(func)\n",
    "    # set up prior information\n",
    "    keys = []\n",
    "    for arg in argnames:\n",
    "        if \"norm\" in arg:\n",
    "            param = Prior(init_repeated_params(arg, np.max(y)), 0.0, 100.*np.max(y))\n",
    "        elif \"alpha\" in arg:\n",
    "            param = Prior(0.7, 0.0, 10.0)\n",
    "        elif \"freq\" in arg:\n",
    "            param = Prior(init_repeated_params(arg, x[np.argmax(y)]), 0.0, 20e+3)\n",
    "        elif \"p\" in arg:\n",
    "            param = Prior(-0.3, -10.0, 10.0)\n",
    "        elif \"beta\" in arg:\n",
    "            param = Prior(3, 1.0, 10.0)\n",
    "        elif \"gamma\" in arg:\n",
    "            param = Prior(1., 0.0, 10.0)\n",
    "        elif 'q' in arg:\n",
    "            param = Prior(1., 0.0, 10.0)\n",
    "        else:\n",
    "            param = Prior(1., 0.0, 20e+3)\n",
    "        keys.append(param)\n",
    "    dictionary = OrderedDict(zip(argnames, keys))\n",
    "    return(dictionary)\n",
    "\n",
    "def check_if_in_prior(theta, prior_dict, set_to_nearest=False, set_to_random=False): \n",
    "    ''' if parameters are within the prior boundaries, returns them. Otherwise, it returns False.\n",
    "    set_to_nearest replaces the out of bounds value with the nearest boundary'''\n",
    "    params = help_unpack(theta)\n",
    "    for i, (name, prior) in enumerate(prior_dict.items()): \n",
    "        if not (prior.min <= params[i] < prior.max):\n",
    "            #if set_to_nearest: \n",
    "                # if not within prior bounds, set the param equal to the closest boundary\n",
    "                #params[i] = min([prior.min, prior.max], key=lambda x:abs(x-params[i]))\n",
    "            if set_to_random:\n",
    "                # if not within prior bounds, set it to a random value in between max & min\n",
    "                params[i] = np.random.uniform(prior.min,prior.max,1)[0]\n",
    "            else:\n",
    "                return(False)\n",
    "    return(np.array(params))\n",
    "\n",
    "# for both emcee and multinest\n",
    "def lnlike(theta, ndim, nparams):\n",
    "    #(theta,x,y,yerr,func):\n",
    "    params = help_unpack(theta)\n",
    "    inv_sigma = 1.0/(yerr**2)\n",
    "    loglike = -0.5*(np.nansum((y-func(x,*params))**2*inv_sigma - np.log(inv_sigma))) \n",
    "    \n",
    "    # the model will return -0.0 if it gets a divide by zero error, \n",
    "    # which happens if the parameters are too big\n",
    "    if loglike == -0.0:\n",
    "        loglike = -np.inf\n",
    "    return(loglike)\n",
    "\n",
    "def emcee_lnprior(theta, prior_dict): \n",
    "    params = check_if_in_prior(theta, prior_dict)\n",
    "    if not isinstance(params, np.ndarray):\n",
    "        return(-np.inf)\n",
    "    else:\n",
    "        # flat prior\n",
    "        return(0.00)\n",
    "   \n",
    "def multinest_lnprior(cube, ndim, n_params):\n",
    "    '''This transforms a unit cube into the dimensions of your prior\n",
    "    space to search. Make sure you do this right!'''\n",
    "    for i in np.arange(ndim):\n",
    "        cube[i] = cube[i] * emcee_fit[i]*sig\n",
    "    \n",
    "        \n",
    "def emcee_lnprob(theta, ndim, n_params, prior_dict):\n",
    "    lp = emcee_lnprior(theta, prior_dict)\n",
    "    if not np.isfinite(lp):\n",
    "        return -np.inf\n",
    "    prob = lp + lnlike(theta, ndim, n_params)\n",
    "#     if np.random.rand() < 0.001:\n",
    "#         print(prob, theta)\n",
    "    return(prob)\n",
    "\n",
    "def redchisq(ydata,ymod,sd,parafreq_arrm):\n",
    "    chisq=np.sum(((ydata-ymod)/sd)**2)\n",
    "    freq_arr=ydata.size-parafreq_arrm-1\n",
    "    return [chisq, chisq/freq_arr]\n",
    "\n",
    "def populate_walkers(ndim, scale, nwalkers, prior_dict, guess=None, set_to_random=False):\n",
    "    # initializes random positions, running it through the prior\n",
    "    # do I need to pass a random seed? \n",
    "    # if set_to_random = false, then it adds noise to 0.0 for out of bound guesses\n",
    "    pos = []\n",
    "    counter = 0 \n",
    "    while len(pos) < nwalkers:\n",
    "        counter +=1\n",
    "        # generate random scatter\n",
    "        test_theta = [(prior.max-prior.min)*scale*np.random.uniform(-1,1) for name, prior in prior_dict.items()]\n",
    "        #print(test_theta)\n",
    "        # add it to an initial guess if you have one\n",
    "        if guess is not None:\n",
    "            new_guess = check_if_in_prior(guess, prior_dict, set_to_random=set_to_random)\n",
    "            if isinstance(new_guess, np.ndarray):\n",
    "                #print('guess',guess[-1])\n",
    "                test_theta += new_guess\n",
    "                #print('theta',test_theta[-1])\n",
    "        # if this is within the prior, keep it\n",
    "        test_theta = check_if_in_prior(test_theta, prior_dict)\n",
    "        if isinstance(test_theta, np.ndarray):\n",
    "            pos.append(test_theta)\n",
    "        if counter > 1e+5:\n",
    "            print('check your scale, populate_walkers has reached 1e+5 iterations')\n",
    "            return(None)\n",
    "    return(pos)\n",
    "\n",
    "\n",
    "def make_plot_labels(func):\n",
    "    input_list = func.__code__.co_varnames[1:]\n",
    "    labels = []\n",
    "    for i in input_list:\n",
    "        if 'freq' in i:\n",
    "            i=i.replace('freq',\"\\\\nu\") \n",
    "        temp = i.split('_')\n",
    "        if len(temp) > 1:\n",
    "            labels.append(temp[0]+'_{{{0}}}'.format(temp[1]))\n",
    "        else:\n",
    "            if i in ['alpha','beta']:\n",
    "                i = \"\\\\\"+i\n",
    "            match = re.match(\"([a-z]+)([0-9]+)\", i, re.I)\n",
    "            if match:\n",
    "                items = match.groups()\n",
    "                labels.append('\\\\'+items[0]+'_{{{0}}}'.format(items[1]))\n",
    "            else:\n",
    "                labels.append(i)\n",
    "    labels = [\"$\"+i+\"$\" for i in labels]\n",
    "    return(labels)\n"
   ]
  },
  {
   "cell_type": "code",
   "execution_count": 3,
   "metadata": {
    "ExecuteTime": {
     "end_time": "2017-07-31T15:00:11.830980",
     "start_time": "2017-07-31T15:00:11.827399"
    },
    "collapsed": false
   },
   "outputs": [],
   "source": [
    "# model_list = ([singhomobremss,singhomobremsscurve,singhomobremssbreak,singhomobremssbreakexp,\n",
    "#                singinhomobremss,singinhomobremsscurve,singinhomobremssbreak, singinhomobremssbreakexp,\n",
    "#                doubhomobremss,doubhomobremsscurve, doubhomobremssbreakexp,\n",
    "#                singSSA,singSSAbreakexp,\n",
    "#                doubSSA,doubSSAbreakexp,\n",
    "#                tripSSA,quadSSA,\n",
    "#                powlaw,powlawbreak,powlawbreak_nophys,powlawexp,\n",
    "#                internalbremss,\n",
    "#                curve,curvepowlaw,duffcurve,logduffcurve])\n"
   ]
  },
  {
   "cell_type": "markdown",
   "metadata": {},
   "source": [
    "# Least Squares, Emcee, Multinest"
   ]
  },
  {
   "cell_type": "code",
   "execution_count": 17,
   "metadata": {
    "ExecuteTime": {
     "end_time": "2017-07-31T16:14:15.364358",
     "start_time": "2017-07-31T16:14:14.917226"
    },
    "collapsed": false
   },
   "outputs": [],
   "source": [
    "x = sed_df.loc[source_index][\"freq\"]*1000 # in MHz\n",
    "y = sed_df.loc[source_index][\"flux\"]\n",
    "yerr = sed_df.loc[source_index][\"flux_err\"]\n",
    "name = sed_df.loc[source_index][\"name\"]\n",
    "\n",
    "\n",
    "indx = [i for i,x in enumerate(x) if (x > 1000 or x < 300)]\n",
    "x = x[indx]\n",
    "y = y[indx]\n",
    "yerr = yerr[indx]\n",
    "\n",
    "\n",
    "# fix an incorrect name in the data\n",
    "if name == 'pks1740-649':\n",
    "    name = 'pks1718-649'\n",
    "if name == 'j174425-5144':\n",
    "    name = 'pks1740-517'\n",
    "\n",
    "\n",
    "\n",
    "# add in extra data for this particular one\n",
    "if source_index == 90:\n",
    "    paths = glob.glob('../survey_data/1740-517*/*.txt')\n",
    "    data = sorted_nicely([path for path in paths if 'std' not in path])\n",
    "    dataerr = sorted_nicely([path for path in paths if 'std' in path])\n",
    "    for path in data: \n",
    "        temp_txt = np.loadtxt(path)\n",
    "        freq, flux = list(zip(*temp_txt))\n",
    "        x = np.append(x,np.array(freq)*1000)\n",
    "        y = np.append(y,flux)\n",
    "\n",
    "    for path in dataerr: \n",
    "        temp_txt = np.loadtxt(path)\n",
    "        freq, flux = list(zip(*temp_txt))\n",
    "        yerr= np.append(yerr,flux)\n",
    "\n",
    "rand_seed = 45\n",
    "np.random.seed(rand_seed) "
   ]
  },
  {
   "cell_type": "code",
   "execution_count": 18,
   "metadata": {
    "ExecuteTime": {
     "end_time": "2017-07-31T16:14:17.277689",
     "start_time": "2017-07-31T16:14:16.495740"
    },
    "collapsed": false
   },
   "outputs": [
    {
     "data": {
      "text/plain": [
       "[<matplotlib.lines.Line2D at 0x1412859e8>]"
      ]
     },
     "execution_count": 18,
     "metadata": {},
     "output_type": "execute_result"
    },
    {
     "data": {
      "image/png": "[encoded data removed]",
      "text/plain": [
       "<matplotlib.figure.Figure at 0x141409c50>"
      ]
     },
     "metadata": {},
     "output_type": "display_data"
    }
   ],
   "source": [
    "plt.loglog(x,y, 'o')"
   ]
  },
  {
   "cell_type": "code",
   "execution_count": null,
   "metadata": {
    "ExecuteTime": {
     "start_time": "2017-07-31T14:14:26.830Z"
    },
    "collapsed": false,
    "scrolled": false
   },
   "outputs": [
    {
     "name": "stdout",
     "output_type": "stream",
     "text": [
      "fitting models: ['curve', 'singSSA', 'doubSSA', 'singinhomobremss', 'singinhomobremssbreak', 'singinhomobremssbreakexp', 'doubhomobremss', 'doubSSAbreakexp']\n"
     ]
    },
    {
     "data": {
      "text/html": [
       "<text style=color:red>fitting with curve</text>"
      ],
      "text/plain": [
       "<IPython.core.display.HTML object>"
      ]
     },
     "metadata": {},
     "output_type": "display_data"
    },
    {
     "name": "stdout",
     "output_type": "stream",
     "text": [
      "first guess: [6.5073699999999999, 1308.0, 0.7, -0.3]\n",
      "Optimization terminated successfully.\n",
      "         Current function value: -15240.420532\n",
      "         Iterations: 130\n",
      "         Function evaluations: 218\n"
     ]
    }
   ],
   "source": [
    "interactive = False\n",
    "model_list = [curve, singSSA, doubSSA, singinhomobremss, singinhomobremssbreak, singinhomobremssbreakexp, doubhomobremss, doubSSAbreakexp]\n",
    "model_names = [func.__name__ for func in model_list]\n",
    "print('fitting models: {0}'.format(model_names))\n",
    "models = pd.DataFrame(index = model_names, columns=['args','leastsquares', 'emcee', 'multinest'])\n",
    "freq_cont = np.linspace(np.min(x),np.max(y),1000)\n",
    "for func in model_list:\n",
    "    print_color(\"fitting with {0}\".format(func.__name__), 'red')\n",
    "    models.set_value(func.__name__,'args', get_argnames(func))\n",
    "    ndim = (func.__code__.co_argcount - 1)\n",
    "    n_params = ndim #oddly, this needs to be specified\n",
    "    prior_dict = make_prior_dictionary(func, x,y)\n",
    "    # your guess\n",
    "    guess = [value.guess for key, value in prior_dict.items()]\n",
    "    print('first guess: {0}'.format(guess))\n",
    "    # set least squares fit to be the initial parameter guess for fmin\n",
    "    leastsquares = pd.DataFrame(data=[[0]], columns=['initial_guess'], index=[0],dtype=object)\n",
    "    leastsquares['initial_guess'] = [guess]\n",
    "    \n",
    "    try:\n",
    "        popt, pcov = opt.curve_fit(func, x, y, p0 = guess, sigma = yerr)\n",
    "\n",
    "        redchisq_list = redchisq(y,func(x,*popt),yerr,ndim)\n",
    "\n",
    "        \n",
    "        leastsquares['popt'] = [popt]\n",
    "        leastsquares['pcov'] = [pcov]\n",
    "        leastsquares['redchisq'] = [redchisq_list]\n",
    "        \n",
    "    except:\n",
    "        leastsquares['popt'] = [[0,0]]\n",
    "        leastsquares['pcov'] = [[0,0]]\n",
    "        leastsquares['redchisq'] = [[0,0]]\n",
    "        \n",
    "    models.set_value(func.__name__,'leastsquares', leastsquares)\n",
    "    \n",
    "    # flip our likelihood function so that when we minimize nll, we are max'ing our likelihood?\n",
    "    nll = lambda *args: -lnlike(*args)\n",
    "\n",
    "    # minimize function with downhill simplex algorithm\n",
    "    # returns array of paramaters that minimizes the input function, value of function at that min, number of iterations, number of function calls\n",
    "    # warningflag 1 (max func evals reached) or 2 (max iter reached), solution at each iteration\n",
    "    result = opt.fmin(nll, popt, args=(ndim,n_params), full_output='true')\n",
    "\n",
    "    scale = 1e-3 # noise scale, should be less than 1 \n",
    "    pos = populate_walkers(ndim, scale, nwalkers, prior_dict, guess=result[0], set_to_random=True)\n",
    "    # initializing walkers randomly\n",
    "    #pos = np.random.rand(nwalkers, ndim)\n",
    "\n",
    "#     print('*lnprior1*', list(map(lambda p: emcee_lnprior(p, prior_dict), pos)))\n",
    "#     print('*lnlike*', list(map(lambda p: lnlike(p, ndim, n_params), pos)))\n",
    "#     print('*lnprob*', list(map(lambda p: emcee_lnprob(p, ndim, n_params, prior_dict), pos)))\n",
    "    \n",
    "\n",
    "    # for the prior\n",
    "    sampler = emcee.EnsembleSampler(nwalkers, ndim, emcee_lnprob, args=(ndim, n_params, prior_dict))\n",
    "    sampler.run_mcmc(pos, nsteps) # This is the workhorse step.\n",
    "\n",
    "    fig = plt.figure(2,figsize=(10, 10))\n",
    "    fig.clf()\n",
    "    for j in range(ndim):\n",
    "        ax = fig.add_subplot(ndim,1,j+1)\n",
    "        ax.plot(np.array([sampler.chain[:,i,j] for i in range(nsteps)]),\"k\", alpha = 0.3)\n",
    "        ax.set_ylabel((make_plot_labels(func))[j], fontsize = 15)\n",
    "        ax.tick_params(axis='both', which='major', labelsize=8)\n",
    "    plt.xlabel('Steps', fontsize = 15)\n",
    "    display(fig)\n",
    "\n",
    "\n",
    "    if interactive:\n",
    "        burnin = int(input('burnin?'))\n",
    "    fig.clf()\n",
    "\n",
    "\n",
    "    # To me it looks like the burn in period is well and truly over by n steps. So I will exclude those. \n",
    "    print( 'The burnin applied was {0}. Make sure the walkers have converged after that many steps.'.format(burnin))\n",
    "    samples = sampler.chain[:,burnin:,:].reshape((-1,ndim))\n",
    "    # Plotting the histograms of the fit.\n",
    "    trifig = corner.corner(samples, labels = make_plot_labels(func))\n",
    "    trifig.savefig(image_dir+'/{0}_{1}'.format(name,func.__name__))\n",
    "    plt.close()\n",
    "\n",
    "    # Finally to get the final uncertainties you do\n",
    "    uncertainties_mcmc = list(map(lambda v: (v[1], v[2]-v[1], v[1]-v[0]), zip(*np.percentile(samples,[16,50,84], axis = 0)))) # Uncertainites based on the 16th, 50th and 84th percentile.\n",
    "    emcee_fit = np.asarray([u[0] for u in uncertainties_mcmc])\n",
    "\n",
    "    flux_arr_store = np.zeros((200,1000))\n",
    "    lower_flux_arr, upper_flux_arr = np.zeros(1000), np.zeros(1000)\n",
    "\n",
    "    j=0\n",
    "    for sample in samples[np.random.randint(len(samples), size=200)]:\n",
    "        for i in range(1000):\n",
    "            flux_arr_store[j,i] = func(freq_cont[i], *sample)\n",
    "            lower_flux_arr[i], upper_flux_arr[i] = np.percentile(flux_arr_store[:,i],[16,84], axis = 0)\n",
    "        j = j+1\n",
    "\n",
    "    mc = pd.DataFrame(data=[[0]], columns=['nwalkers'], index=[0], dtype=object)\n",
    "    mc['nwalkers'] = nwalkers\n",
    "    mc['nsteps'] = nsteps\n",
    "    mc['burnin'] = burnin\n",
    "    mc['rand_seed'] = rand_seed\n",
    "    mc['uncertainties'] = [uncertainties_mcmc]\n",
    "    mc['lowerfluxarr'] = [lower_flux_arr]\n",
    "    mc['upperfluxarr'] = [upper_flux_arr]\n",
    "    mc['fit'] = [emcee_fit]\n",
    "\n",
    "    models.set_value(func.__name__,'emcee', mc)\n",
    "\n",
    "\n",
    "\n",
    "    # multinest\n",
    "    # number of dimensions our problem has\n",
    "    ndim = (func.__code__.co_argcount - 1)\n",
    "    n_params = ndim #oddly, this needs to be specified\n",
    "    print('emcee fit: {0}'.format(emcee_fit))\n",
    "\n",
    "    # sigma away from emcee's guess\n",
    "    sig = 3\n",
    "    pymultinest.run(lnlike,multinest_lnprior,n_params, resume = False, verbose = True,sampling_efficiency = 0.3)\n",
    "\n",
    "    # lets analyse the results\n",
    "    a = pymultinest.Analyzer(n_params = n_params) #retrieves the data that has been written to hard drive\n",
    "    s = a.get_stats()\n",
    "    values = s['marginals'] # gets the marginalized posterior probability distributions \n",
    "    mn_fit = [values[i]['median'] for i in np.arange(len(values))]\n",
    "    multinest = pd.DataFrame(data=[[0]], columns=['marginals'], index=[0], dtype=object)\n",
    "    multinest['fit'] = [mn_fit]\n",
    "    for key in s:\n",
    "        if isinstance(s[key], list):\n",
    "            pass\n",
    "        else:\n",
    "            multinest[key] = s[key]\n",
    "\n",
    "    marginals = pd.DataFrame.from_dict(s['marginals'], dtype=None)\n",
    "    modes = pd.DataFrame.from_dict(s['modes'], dtype=None)\n",
    "    multinest.set_value(0,'marginals', marginals)\n",
    "    multinest.set_value(0,'modes', modes)\n",
    "\n",
    "    models.set_value(func.__name__,'multinest', multinest)\n",
    "\n",
    "    print('summary for {0}'.format(func.__name__))\n",
    "    print(\" \"*20+'{0}'.format(func.__code__.co_varnames[:func.__code__.co_argcount][1:]))\n",
    "    print('leastsquares fit:{0}'.format(popt))\n",
    "    print('emcee fit: {0}'.format(emcee_fit))\n",
    "    print('multinest fit:{0}'.format(mn_fit))\n",
    "    print('diff bw emcee and multinest:')\n",
    "    print(np.subtract(emcee_fit,mn_fit))\n",
    "\n",
    "models.to_pickle(model_ev_dir + name + '.pkl')"
   ]
  },
  {
   "cell_type": "markdown",
   "metadata": {
    "ExecuteTime": {
     "end_time": "2017-07-21T15:18:22.677468",
     "start_time": "2017-07-21T15:18:22.669557"
    },
    "collapsed": false
   },
   "source": [
    "## Evidence Values"
   ]
  },
  {
   "cell_type": "code",
   "execution_count": null,
   "metadata": {
    "ExecuteTime": {
     "start_time": "2017-07-31T14:14:26.903Z"
    },
    "collapsed": false
   },
   "outputs": [],
   "source": [
    "def show_delz(z2, models):\n",
    "    # Jefferys Scale\n",
    "    # delz >= 3 is strong evidence that M2 is favored over M1\n",
    "    # 1 < delz < 3 is moderate evidence\n",
    "    # 0 < delz < 1 is inconclusive\n",
    "    # delz = z2 - z1\n",
    "    z2_ev = models.loc[z2].multinest['nested sampling global log-evidence'].values[0]\n",
    "    z2_ev_err = models.loc[z2].multinest['nested sampling global log-evidence error'].values[0]\n",
    "    \n",
    "    for idx in models.index:\n",
    "        if z2 == idx:\n",
    "            continue\n",
    "        mn_ev = models.loc[idx].multinest['nested sampling global log-evidence'].values[0]\n",
    "        mn_ev_err = models.loc[idx].multinest['nested sampling global log-evidence error'].values[0]\n",
    "        del_z = z2_ev - mn_ev\n",
    "        del_z_err = z2_ev_err - mn_ev_err\n",
    "        string = '({0} - {1}): {2:.2f} +/- {3:.2f}'.format(z2, idx, del_z, del_z_err)\n",
    "        \n",
    "        if del_z >= 3:\n",
    "            print_color(string + '   *', color='red')\n",
    "        elif 1 < del_z < 3:\n",
    "            print_color(string, color='maroon')\n",
    "        elif 0 < del_z < 1:\n",
    "            print_color(string, color='black')\n",
    "        else:\n",
    "            print_color(string, color='gray')"
   ]
  },
  {
   "cell_type": "code",
   "execution_count": null,
   "metadata": {
    "ExecuteTime": {
     "start_time": "2017-07-31T14:14:26.908Z"
    },
    "collapsed": false
   },
   "outputs": [],
   "source": [
    "# print out evidence\n",
    "mn_ev_arr = []\n",
    "for idx in models.index:\n",
    "    mn_evidence = models.loc[idx].multinest['nested sampling global log-evidence'].values[0]\n",
    "    mn_evidence_err = models.loc[idx].multinest['nested sampling global log-evidence error'].values[0]\n",
    "    mn_ev_arr.append(mn_evidence + np.abs(mn_evidence_err))\n",
    "    print('multinest evidence for {0}: {1:.2f} +/- {2:.2f}'.format(idx,mn_evidence,mn_evidence_err))\n",
    "best_model = [models.index[x] for x in np.argsort(mn_ev_arr)[::-1]]\n",
    "print('best to worst models: {0}'.format(best_model))\n"
   ]
  },
  {
   "cell_type": "code",
   "execution_count": null,
   "metadata": {
    "ExecuteTime": {
     "start_time": "2017-07-31T14:14:26.927Z"
    },
    "collapsed": false
   },
   "outputs": [],
   "source": [
    "# Jefferys Scale\n",
    "# delz = z2 - z1\n",
    "\n",
    "print_color('delz >= 3 is strong evidence that M2 is favored over M1', color = 'red')\n",
    "print_color('1 < delz < 3 is moderate evidence', color = 'maroon')\n",
    "print_color('0 < delz < 1 is inconclusive', color = 'black')\n",
    "\n",
    "for idx in models.index:\n",
    "    show_delz(idx, models)"
   ]
  },
  {
   "cell_type": "code",
   "execution_count": null,
   "metadata": {
    "ExecuteTime": {
     "start_time": "2017-07-31T14:14:26.932Z"
    },
    "collapsed": false
   },
   "outputs": [],
   "source": [
    "# save data frames\n",
    "sed_df.set_value(source_index, 'best_model', best_model)\n",
    "sed_df.to_pickle(model_ev_dir+'modeled_df.pkl')"
   ]
  },
  {
   "cell_type": "markdown",
   "metadata": {},
   "source": [
    "# Latex Table"
   ]
  },
  {
   "cell_type": "code",
   "execution_count": null,
   "metadata": {
    "ExecuteTime": {
     "start_time": "2017-07-31T14:14:27.000Z"
    },
    "collapsed": true
   },
   "outputs": [],
   "source": [
    "latex_dict = {'curve': 'General', 'singSSA': 'Single SSA', 'doubSSA': 'Double SSA', 'singinhomobremss':'Single Inhomogeneous FFA',\n",
    "              'singinhomobremssbreak':'Single Inhomogeneous FFA + break', 'singinhomobremssbreakexp':'Single Inhomogeneous FFA + exp. break',\n",
    "              'doubhomobremss':'Double Homogeneous FFA','doubSSAbreakexp':'Double SSA + exp. break'}"
   ]
  },
  {
   "cell_type": "code",
   "execution_count": null,
   "metadata": {
    "ExecuteTime": {
     "start_time": "2017-07-31T14:14:27.007Z"
    },
    "collapsed": false
   },
   "outputs": [],
   "source": [
    "# generate latex table of result\n",
    "tex_code = r'''\n",
    "\\begin{sidewaystable}\n",
    "\t\\renewcommand{\\arraystretch}{2}\n",
    "\t\\scriptsize\n",
    "\t\\centering\n",
    "\t\\caption{\\label{longtable} Best fit parameters and their associated uncertainties for the different absorption models. }\n",
    "        \\resizebox{\\linewidth}{!}{%\n",
    "\t\\begin{tabular}{lccccccccccccc}\n",
    "\t\\hline\n",
    "\t\\hline\n",
    "Models & $a_{1}$ (Jy) &  $a_{2}$ (Jy) & $\\alpha_{1}$ & $\\alpha_{2}$ & $\\beta_{1}$ & $\\beta_{2}$  & $\\nu_{\\mathrm{p},1}$ (GHz)  & $\\nu_{\\mathrm{p},2}$ (GHz)  & $p$ & $q$ & $\\nu_{\\mathrm{br}}$ (GHz) & $\\chi^{2}_{\\mathrm{red}}$ & $\\ln(Z)$ \\\\\n",
    "\t\t\\hline'''\n",
    "\n",
    "for idx in models.index.tolist():\n",
    "    args = list(models.loc[idx].args)\n",
    "    values = models.loc[idx].multinest['fit'].values[0]\n",
    "    errs =  models.loc[idx].multinest.marginals.values[0].sigma.values\n",
    "    print(idx,args, values)\n",
    "    toprint = '\\n {0} & '.format(latex_dict[idx])\n",
    "    for parameter in ['S_norm','S_norm2', 'alpha', 'alpha2', 'beta', 'beta2', 'peak_freq', 'peak_freq2', 'p', 'q', 'break_freq']:\n",
    "        if parameter not in args:\n",
    "            toprint += '$\\cdots$ & '\n",
    "        else:\n",
    "            toprint += '{0:.2f} '.format(values[args.index(parameter)])\n",
    "            #find_param_uncertainty(value)\n",
    "            toprint += '$\\pm$ {0:.2f} & '.format(errs[args.index(parameter)])\n",
    "    # reduced chi\n",
    "    red_chi = models.loc[idx].leastsquares.redchisq.values[0]\n",
    "    toprint += '{0:.2f} '.format(red_chi[0])\n",
    "    toprint += r'$\\pm$ {0:.2f} & '.format(red_chi[1])\n",
    "    \n",
    "    # lnz\n",
    "    mn_evidence = models.loc[idx].multinest['nested sampling global log-evidence'].values[0]\n",
    "    mn_evidence_err = models.loc[idx].multinest['nested sampling global log-evidence error'].values[0]\n",
    "    toprint += '{0:.2f} '.format(mn_evidence)\n",
    "    toprint += r'$\\pm$ {0:.2f} \\\\'.format(mn_evidence_err)\n",
    "    \n",
    "\n",
    "\n",
    "    tex_code += toprint\n",
    "\n",
    "\n",
    "tex_code += r'''\n",
    "        \\hline\n",
    "        \\end{tabular}}\n",
    "\\end{sidewaystable}\n",
    "'''\n",
    "\n",
    "#{0}  & {1:.2f} $\\pm$ {2:.2f} &  {3} &  {4} $\\pm$ {5}    & {6}  &  {7} & {8} & {9} $\\pm$ {10}   &  {11} & {12} & {13}  & {14} & {15} $\\pm${16} \\\\\n",
    "\n",
    "\n",
    "# \t Double Homogeneous FFA & 3.6 $\\pm$ 0.2 &  5.8 $\\pm$ 0.2 & $-1.27^{+0.05}_{-0.04}$  &  $-1.28$ $\\pm$ 0.03 & $\\cdots$\t& $\\cdots$  & 0.293 $\\pm$ 0.007  & 0.93 $\\pm$ 0.05  & $\\cdots$ & $\\cdots$ & 5.52 & $-422.4$ $\\pm$ 0.2 \\\\\n",
    "# \t Inhomogeneous FFA  & 12.0 $\\pm$  0.3 &   $\\cdots$ &  $-1.221$ $\\pm$ 0.008 & $\\cdots$  &$\\cdots$ &$\\cdots$ & 0.75 $\\pm$ 0.02 & $\\cdots$ & 0.24 $\\pm$ 0.04 & $\\cdots$ & 5.72& $-419.0$ $\\pm$ 0.6\\\\\n",
    "# \t Internal FFA & 8.8 $\\pm$ 0.1 &  $\\cdots$ & $-1.240$ $\\pm$ 0.008  &  $\\cdots$ & $\\cdots$& $\\cdots$ & 0.90 $\\pm$ 0.02 & $\\cdots$ & $\\cdots$ & $\\cdots$ & 7.13 & $-567.4$ $\\pm$ 0.2\\\\\n",
    "# \t   Single SSA & 13.4 $\\pm$ 0.2  & $\\cdots$ & $\\cdots$ &$\\cdots$ & 3.27 $\\pm$ 0.01 \t& $\\cdots$ & 0.575 $\\pm$ 0.008  & $\\cdots$   & $\\cdots$ & $\\cdots$ & 13.83& $-609.5$ $\\pm$ 0.1 \\\\\n",
    "# \tDouble SSA & 12.2 $\\pm$ 0.3 & 2.5 $\\pm$ 0.2 & $\\cdots$ & $\\cdots$ & 3.48 $\\pm$ 0.06 &  3.56$^{+0.08}_{-0.07}$ & 0.459 $\\pm$ 0.009  &  1.56 $\\pm$ 0.7 & $\\cdots$& $\\cdots$ &5.36 & $-408.5$ $\\pm$ 0.3\\\\\n",
    "# \t Single SSA + exp. break & 12.4 $\\pm$  0.2 \t& $\\cdots$ &$\\cdots$ &  $\\cdots$ & 2.61 $\\pm$ 0.03 & $\\cdots$  & 0.75 $\\pm$ 0.02  & $\\cdots$ & 13.7 $\\pm$ 0.7 & $\\cdots$ & 2.39 & $-336.6$ $\\pm$ 0.2\\\\\n",
    "# \t Double SSA + exp. break & 8.3$^{+0.6}_{-0.7}$ & 6.1$^{+0.7}_{-0.6}$  & $\\cdots$  &  $\\cdots$ & 3.3$^{+0.3}_{-0.2}$ &  2.55$^{+0.06}_{-0.08}$ & 0.34$^{+0.07}_{-0.08}$   &  0.73$^{+0.04}_{-0.05}$ & $\\cdots$ & 12 $\\pm$ 2 & 1.09 & $-305.8$ $\\pm$ 0.3 \\\\\n",
    "# \t Inhomogeneous FFA + exp. break & 12.9 $\\pm$  0.3\t& $\\cdots$ & $-0.93$ $\\pm$ 0.02  & $\\cdots$ &$\\cdots$ & $\\cdots$& 0.55 $\\pm$ 0.02  & $\\cdots$ & 0.37$^{+0.07}_{-0.06}$ & 19 $\\pm$ 1 & 0.80 & $-304.1$ $\\pm$ 0.1\\\\\n",
    "\n",
    "print(tex_code)"
   ]
  },
  {
   "cell_type": "markdown",
   "metadata": {},
   "source": [
    "# SED Plot"
   ]
  },
  {
   "cell_type": "code",
   "execution_count": null,
   "metadata": {
    "ExecuteTime": {
     "start_time": "2017-07-31T14:14:27.079Z"
    },
    "collapsed": false,
    "scrolled": false
   },
   "outputs": [],
   "source": [
    "\n",
    "# SED plotting\n",
    "n = 100\n",
    "plotx, ploty, plotyerr = atca_filter(n, x, y, yerr)\n",
    "try:\n",
    "    split = re.split('([0-9]+)',name) \n",
    "    plotname = split[0].upper() + \" B\"+\"\".join(split[1:])\n",
    "except:\n",
    "    pass\n",
    "\n",
    "model_labels = [latex_dict[model.__name__] for model in model_list]\n",
    "\n",
    "print('least squares')\n",
    "# least squares fit plot\n",
    "fit_list = [models.loc[model.__name__].leastsquares.popt[0] for model in model_list]\n",
    "\n",
    "plot = seds_plot_func.sed(model_list,model_labels,fit_list,plotx,\n",
    "           ploty,plotyerr, plotname, \n",
    "           freq_labels = True, savefig = False, resid=True)\n",
    "\n",
    "plot.savefig(image_dir+'/{0}_{1}.png'.format(name,'leastsquares'), bbox_inches='tight')\n",
    "plt.close()\n",
    "\n",
    "\n",
    "print('emcee')\n",
    "# emcee fit plot\n",
    "fit_list = [models.loc[model.__name__].emcee.fit[0] for model in model_list]\n",
    "\n",
    "plot = seds_plot_func.sed(model_list,model_labels,fit_list,plotx,\n",
    "               ploty,plotyerr, plotname, \n",
    "               freq_labels = True, savefig = False, resid=True)\n",
    "\n",
    "plot.savefig(image_dir+'/{0}_{1}.png'.format(name,'emcee'), bbox_inches='tight')\n",
    "plt.close()\n",
    "\n",
    "\n",
    "print('multinest')\n",
    "# multinest fit plotting\n",
    "fit_list = [models.loc[model.__name__].multinest.fit[0] for model in model_list]\n",
    "\n",
    "plot = seds_plot_func.sed(model_list,model_labels,fit_list,plotx,\n",
    "                   ploty,plotyerr, plotname, \n",
    "                   freq_labels = True, savefig = False, resid=True)\n",
    "plot.savefig(image_dir+'/{0}_{1}.png'.format(name,'multinest'), bbox_inches='tight')\n",
    "plt.close()"
   ]
  },
  {
   "cell_type": "code",
   "execution_count": null,
   "metadata": {
    "ExecuteTime": {
     "start_time": "2017-07-31T14:14:27.086Z"
    },
    "collapsed": false
   },
   "outputs": [],
   "source": [
    "# print out evidence\n",
    "mn_ev_arr = []\n",
    "for idx in models.index:\n",
    "    mn_evidence = models.loc[idx].multinest['nested sampling global log-evidence'].values[0]\n",
    "    mn_evidence_err = models.loc[idx].multinest['nested sampling global log-evidence error'].values[0]\n",
    "    mn_ev_arr.append(mn_evidence + np.abs(mn_evidence_err))\n",
    "    print('multinest evidence for {0}: {1:.2f} +/- {2:.2f}'.format(idx,mn_evidence,mn_evidence_err))\n",
    "best_model = [models.index[x] for x in np.argsort(mn_ev_arr)[::-1]]\n",
    "print('best to worst models: {0}'.format(best_model))\n",
    "\n"
   ]
  },
  {
   "cell_type": "code",
   "execution_count": null,
   "metadata": {
    "ExecuteTime": {
     "start_time": "2017-07-31T14:14:27.093Z"
    },
    "collapsed": false
   },
   "outputs": [],
   "source": [
    "indx = [i for i,x in enumerate(x) if (x > 1000 and x < 300)]\n"
   ]
  },
  {
   "cell_type": "code",
   "execution_count": null,
   "metadata": {
    "collapsed": true
   },
   "outputs": [],
   "source": []
  }
 ],
 "metadata": {
  "hide_input": false,
  "kernelspec": {
   "display_name": "Python 3",
   "language": "python",
   "name": "python3"
  },
  "language_info": {
   "codemirror_mode": {
    "name": "ipython",
    "version": 3
   },
   "file_extension": ".py",
   "mimetype": "text/x-python",
   "name": "python",
   "nbconvert_exporter": "python",
   "pygments_lexer": "ipython3",
   "version": "3.4.5"
  },
  "latex_envs": {
   "bibliofile": "biblio.bib",
   "cite_by": "apalike",
   "current_citInitial": 1,
   "eqLabelWithNumbers": true,
   "eqNumInitial": 0
  },
  "toc": {
   "colors": {
    "hover_highlight": "#DAA520",
    "running_highlight": "#FF0000",
    "selected_highlight": "#FFD700"
   },
   "moveMenuLeft": true,
   "nav_menu": {
    "height": "84px",
    "width": "252px"
   },
   "navigate_menu": true,
   "number_sections": true,
   "sideBar": true,
   "threshold": 4,
   "toc_cell": false,
   "toc_section_display": "block",
   "toc_window_display": false,
   "widenNotebook": false
  }
 },
 "nbformat": 4,
 "nbformat_minor": 2
}
