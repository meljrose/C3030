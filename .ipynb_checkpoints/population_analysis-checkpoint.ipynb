{
 "cells": [
  {
   "cell_type": "markdown",
   "metadata": {
    "ExecuteTime": {
     "end_time": "2017-08-01T14:43:18.078296",
     "start_time": "2017-08-01T14:43:18.064788"
    }
   },
   "source": [
    "C3030 population analysis\n",
    "MJ Rose"
   ]
  },
  {
   "cell_type": "code",
   "execution_count": 4,
   "metadata": {
    "ExecuteTime": {
     "end_time": "2017-08-07T16:03:42.916083",
     "start_time": "2017-08-07T16:03:42.827610"
    },
    "collapsed": false
   },
   "outputs": [],
   "source": [
    "%matplotlib inline\n",
    "from matplotlib import pyplot as plt\n",
    "from IPython.display import Image, display\n",
    "from IPython.display import HTML as html_print\n",
    "import numpy as np\n",
    "import os, glob, subprocess, time, psutil, sys, shutil, fnmatch\n",
    "import pandas as pd\n",
    "import pymultinest,os, threading, subprocess, time, math\n",
    "import scipy.optimize as opt\n",
    "import scipy.stats as stats\n",
    "import scipy.special as special # For access to the incomplete gamma function.\n",
    "import emcee, corner\n",
    "from collections import namedtuple\n",
    "from collections import OrderedDict\n",
    "from collections import Counter\n",
    "\n",
    "# Joe's SED plotting \n",
    "import seds_plot_func\n",
    "\n",
    "# my own\n",
    "from reduction_funcs import *\n",
    "\n",
    "    \n",
    "\n",
    "# set save path\n",
    "image_dir = \"/Users/mmcintosh/Dropbox/ASTRON2017/C3030/population_plots/\"\n",
    "if not os.path.exists(image_dir):\n",
    "\tos.makedirs(image_dir)\n",
    " \n",
    "model_ev_dir = '/Users/mmcintosh/Dropbox/ASTRON2017/C3030/model_ev/'\n",
    "# read in data\n",
    "sed_df = pd.read_pickle(model_ev_dir+'modeled_df.pkl')\n",
    "\n"
   ]
  },
  {
   "cell_type": "code",
   "execution_count": 77,
   "metadata": {
    "ExecuteTime": {
     "end_time": "2017-08-07T16:35:32.122604",
     "start_time": "2017-08-07T16:35:32.104350"
    },
    "collapsed": false
   },
   "outputs": [],
   "source": [
    "import collections\n",
    "import gpscssmodels\n",
    "def get_argnames(func):\n",
    "    return(func.__code__.co_varnames[:func.__code__.co_argcount][1:])\n",
    "\n",
    "Model = collections.namedtuple('Model', 'name args fit mechanism')\n",
    "\n",
    "shapedict = {'SSA':'o', 'FFA': '^', 'Neither': '*'}\n",
    "mechdict = {'singSSA':'SSA',\n",
    " 'doubSSA':'SSA',\n",
    " 'singinhomobremss':\"FFA\",\n",
    " 'singinhomobremssbreak':\"FFA\",\n",
    " 'singinhomobremssbreakexp':\"FFA\",\n",
    " 'doubhomobremss':'FFA',\n",
    " 'doubSSAbreakexp':'SSA',\n",
    " 'curve': 'Neither'}\n",
    "cdict_models = {'singhomobremss':'red',\n",
    "        'singinhomobremssbreakexp':'maroon',\n",
    "        'singinhomobremssbreak': 'orangered',\n",
    "        'singinhomobremss':'darkturquoise',\n",
    "        'singinhomobremsscurve':'#4682b4',\n",
    "        'doubhomobremss':'saddlebrown',\n",
    "        'doubhomobremss':'Chocolate',\n",
    "        'doubhomobremssbreak':'olive',\n",
    "        'doubhomobremssbreak':'DarkGoldenRod',\n",
    "        'singSSA':'orchid',\n",
    "        'singSSAcurve':'darkmagenta',\n",
    "        'singSSAbreak':'indigo',\n",
    "        'doubSSA':'navy',\n",
    "        'doubSSAbreakexp':'MediumSeaGreen',\n",
    "        'doubSSAbreak':'black',\n",
    "        'powlaw': 'DarkOrange',\n",
    "        'powlawbreak':'dogerblue',\n",
    "        'internalbremss':'sienna',\n",
    "        'curve':'k'\n",
    "            } \n",
    "\n",
    "cdict_mech = {'SSA':'orchid',\n",
    " 'FFA':'MediumSeaGreen',\n",
    " 'Neither':'indigo'}\n",
    "\n",
    "latex_dict = {'curve': 'General', 'singSSA': 'Single SSA', 'doubSSA': 'Double SSA', 'singinhomobremss':'Single Inhomogeneous FFA',\n",
    "              'singinhomobremssbreak':'Single Inhomogeneous FFA + break', 'singinhomobremssbreakexp':'Single Inhomogeneous FFA + exp. break',\n",
    "              'doubhomobremss':'Double Homogeneous FFA','doubSSAbreakexp':'Double SSA + exp. break'}"
   ]
  },
  {
   "cell_type": "code",
   "execution_count": 6,
   "metadata": {
    "ExecuteTime": {
     "end_time": "2017-08-07T16:03:43.473935",
     "start_time": "2017-08-07T16:03:43.470452"
    },
    "collapsed": false
   },
   "outputs": [],
   "source": [
    "from matplotlib import rc\n",
    "rc('font',**{'family':'serif','serif':['serif'],'size':16})"
   ]
  },
  {
   "cell_type": "code",
   "execution_count": 164,
   "metadata": {
    "ExecuteTime": {
     "end_time": "2017-08-07T17:08:00.615530",
     "start_time": "2017-08-07T17:07:53.917085"
    },
    "collapsed": false
   },
   "outputs": [],
   "source": [
    "# set up to loop over sources\n",
    "iterlist_all = sed_df.index.tolist()\n",
    "\n",
    "# select those with ATCA data\n",
    "uvfmeas_paths = []\n",
    "for p in [\"/Volumes/mjrose/C3030/\"]:\n",
    "    path = p\n",
    "    regex = 'uvfmeaslog*'\n",
    "    uvfmeas_paths.extend(recursive_glob(path, regex))\n",
    "\n",
    "missing_uv = []\n",
    "for i in sed_df.index.tolist():\n",
    "    name = sed_df.loc[i]['name']\n",
    "    if not isinstance(name, str):\n",
    "        name = name[0]\n",
    "\n",
    "    path = [s for s in uvfmeas_paths if name in s]\n",
    "    if path == []:\n",
    "        path = [s for s in uvfmeas_paths if name.split('pks')[-1] in s]\n",
    "    if path == []:\n",
    "        path = [s for s in uvfmeas_paths if name.split('mwacsj')[-1] in s]\n",
    "    if path == []:\n",
    "        path = [s for s in uvfmeas_paths if name.split('mwacsj')[-1].split('-')[0] in s]\n",
    "    if path == []:\n",
    "        missing_uv.append(i)\n",
    "        \n",
    "iterlist_ATCAonly = [i for i in iterlist_all if i not in missing_uv]"
   ]
  },
  {
   "cell_type": "code",
   "execution_count": 224,
   "metadata": {
    "ExecuteTime": {
     "end_time": "2017-08-08T11:00:13.533934",
     "start_time": "2017-08-08T11:00:09.655646"
    },
    "collapsed": false
   },
   "outputs": [],
   "source": [
    "strong_evidence = []\n",
    "moderate_evidence = []\n",
    "weak_evidence = []\n",
    "no_evidence = []\n",
    "first_df = pd.DataFrame(index=iterlist_ATCAonly, columns=['name','model','peak', 'freq', 'mechanism', 'thin', 'thick', 'z', 'ls', 'power'])\n",
    "second_df  = pd.DataFrame(index=iterlist_ATCAonly, columns=['name','model','peak', 'freq', 'mechanism'])\n",
    "for i in iterlist_ATCAonly:\n",
    "    name = sed_df.loc[i]['name']\n",
    "    try:\n",
    "        models = pd.read_pickle(model_ev_dir+name+'.pkl')\n",
    "    except:\n",
    "        pass\n",
    "    # print out evidence\n",
    "    mn_ev_arr = []\n",
    "    for idx in models.index:\n",
    "        mn_evidence = models.loc[idx].multinest['nested sampling global log-evidence'].values[0]\n",
    "        mn_evidence_err = models.loc[idx].multinest['nested sampling global log-evidence error'].values[0]\n",
    "        mn_ev_arr.append(mn_evidence - np.abs(mn_evidence_err))\n",
    "        #print('multinest evidence for {0}: {1:.2f} +/- {2:.2f}'.format(idx,mn_evidence,mn_evidence_err))\n",
    "    best_model = [models.index[x] for x in np.argsort(mn_ev_arr)[::-1]]\n",
    "    vals = [mn_ev_arr[i] for i in np.argsort(mn_ev_arr)[::-1]]\n",
    "    #print('best to worst models: {0}'.format(best_model))\n",
    "    \n",
    "    # just to see\n",
    "    indx = [i for i,s in enumerate(best_model) if 'singinhomobremssbreak' == s][0]\n",
    "    del best_model[indx]\n",
    "    del vals[indx]\n",
    "    \n",
    "    first_df.set_value(i,'name', name)\n",
    "    first_df.set_value(i,'model', best_model[0])\n",
    "    \n",
    "    second_df.set_value(i,'name', name)\n",
    "    second_df.set_value(i,'model', best_model[1])\n",
    "\n",
    "    dellnz = (vals[0] - vals)[1:]\n",
    "    if all(i >= 3 for i in dellnz):\n",
    "        strong_evidence.append(best_model[0])\n",
    "    elif all(i >= 1 for i in dellnz):\n",
    "        moderate_evidence.append(best_model[0])\n",
    "    elif all(i >= 0 for i in dellnz):\n",
    "        weak_evidence.append(best_model[0])\n",
    "    else: \n",
    "        no_evidence.append(best_model[0])"
   ]
  },
  {
   "cell_type": "markdown",
   "metadata": {},
   "source": [
    "# Histogram by Mechanism"
   ]
  },
  {
   "cell_type": "code",
   "execution_count": 228,
   "metadata": {
    "ExecuteTime": {
     "end_time": "2017-08-08T13:51:19.793854",
     "start_time": "2017-08-08T13:51:19.721590"
    },
    "collapsed": false
   },
   "outputs": [
    {
     "data": {
      "text/plain": [
       "['singinhomobremssbreakexp',\n",
       " 'singinhomobremssbreakexp',\n",
       " 'singinhomobremssbreakexp',\n",
       " 'doubSSAbreakexp',\n",
       " 'doubSSAbreakexp',\n",
       " 'doubSSAbreakexp',\n",
       " 'doubSSAbreakexp',\n",
       " 'singinhomobremss',\n",
       " 'doubSSAbreakexp',\n",
       " 'singinhomobremssbreakexp',\n",
       " 'doubSSAbreakexp',\n",
       " 'doubSSAbreakexp',\n",
       " 'singinhomobremssbreakexp',\n",
       " 'singinhomobremssbreakexp',\n",
       " 'doubSSAbreakexp',\n",
       " 'singinhomobremssbreakexp',\n",
       " 'doubSSAbreakexp',\n",
       " 'singinhomobremssbreakexp',\n",
       " 'singinhomobremssbreakexp',\n",
       " 'singinhomobremssbreakexp',\n",
       " 'doubSSA',\n",
       " 'singinhomobremssbreakexp',\n",
       " 'doubSSAbreakexp',\n",
       " 'singinhomobremss',\n",
       " 'singinhomobremssbreakexp',\n",
       " 'singinhomobremssbreakexp',\n",
       " 'singinhomobremss',\n",
       " 'singinhomobremssbreakexp',\n",
       " 'doubSSAbreakexp',\n",
       " 'singinhomobremssbreakexp',\n",
       " 'singinhomobremssbreakexp',\n",
       " 'singinhomobremssbreakexp',\n",
       " 'singinhomobremss',\n",
       " 'doubSSAbreakexp',\n",
       " 'doubSSAbreakexp',\n",
       " 'doubSSAbreakexp',\n",
       " 'doubSSAbreakexp',\n",
       " 'singinhomobremssbreakexp',\n",
       " 'doubSSAbreakexp',\n",
       " 'doubSSAbreakexp',\n",
       " 'doubSSAbreakexp',\n",
       " 'doubSSAbreakexp',\n",
       " 'doubSSAbreakexp',\n",
       " 'singinhomobremss',\n",
       " 'singinhomobremssbreakexp',\n",
       " 'doubSSAbreakexp',\n",
       " 'singinhomobremssbreakexp',\n",
       " 'doubSSAbreakexp',\n",
       " 'singinhomobremssbreakexp',\n",
       " 'doubSSAbreakexp',\n",
       " 'doubSSAbreakexp',\n",
       " 'doubSSAbreakexp',\n",
       " 'singinhomobremssbreakexp',\n",
       " 'singinhomobremssbreakexp',\n",
       " 'singinhomobremssbreakexp',\n",
       " 'singinhomobremssbreakexp',\n",
       " 'doubSSAbreakexp',\n",
       " 'singinhomobremssbreakexp',\n",
       " 'doubSSAbreakexp']"
      ]
     },
     "execution_count": 228,
     "metadata": {},
     "output_type": "execute_result"
    }
   ],
   "source": []
  },
  {
   "cell_type": "code",
   "execution_count": 261,
   "metadata": {
    "ExecuteTime": {
     "end_time": "2017-08-09T09:52:15.276167",
     "start_time": "2017-08-09T09:52:12.418972"
    },
    "collapsed": false
   },
   "outputs": [
    {
     "data": {
      "text/plain": [
       "<matplotlib.legend.Legend at 0x11a8eb2b0>"
      ]
     },
     "execution_count": 261,
     "metadata": {},
     "output_type": "execute_result"
    },
    {
     "data": {
      "image/png": "[encoded data removed]",
      "text/plain": [
       "<matplotlib.figure.Figure at 0x115bab240>"
      ]
     },
     "metadata": {},
     "output_type": "display_data"
    }
   ],
   "source": [
    "# filter out 'curve'\n",
    "strong_evidence = list(filter(lambda a: a != 'curve', strong_evidence)) \n",
    "moderate_evidence = list(filter(lambda a: a != 'curve', moderate_evidence)) \n",
    "\n",
    "data = pd.DataFrame([Counter(strong_evidence),Counter(moderate_evidence)], index = ['strong', 'moderate'])\n",
    "data = data.T\n",
    "data['Mechanism'] = [mechdict[i] for i in data.index]\n",
    "\n",
    "fig = plt.figure()\n",
    "\n",
    "#gs = plt.GridSpec(1,2, height_ratios = [1,1], hspace = 1)\n",
    "ax = plt.subplot()\n",
    "#ax1 = plt.subplot(gs[1])\n",
    "width = 0.8\n",
    "data.groupby('Mechanism').sum().plot(kind='bar', width=width, ax=ax, title='Mechanism', legend=False)\n",
    "ax.set_xlabel(\"\")\n",
    "ax = data.iloc[::-1].plot(kind='bar', width = width, ax=ax1, title=\"Models\", legend = False)\n",
    "#fig.suptitle('C3030', size=20)\n",
    "fig.autofmt_xdate()\n",
    "\n",
    "patches, labels = ax.get_legend_handles_labels()\n",
    "bbox = (-0.5,-.1)\n",
    "plt.ylabel('Number of GPS Sources')\n",
    "ax.legend(patches, labels, bbox_to_anchor=bbox)"
   ]
  },
  {
   "cell_type": "markdown",
   "metadata": {},
   "source": [
    "# Peak flux vs Peak Frequency"
   ]
  },
  {
   "cell_type": "code",
   "execution_count": 177,
   "metadata": {
    "ExecuteTime": {
     "end_time": "2017-08-07T17:17:25.397307",
     "start_time": "2017-08-07T17:17:19.316110"
    },
    "collapsed": false,
    "scrolled": false
   },
   "outputs": [
    {
     "data": {
      "image/png": "[encoded data removed]",
      "text/plain": [
       "<matplotlib.figure.Figure at 0x119991160>"
      ]
     },
     "metadata": {},
     "output_type": "display_data"
    }
   ],
   "source": [
    "fig = plt.figure()\n",
    "ax = plt.gca()\n",
    "freq_arr = np.linspace(0,20e+3,20e+3)\n",
    "for name in sed_df.loc[iterlist_ATCAonly].name.values:\n",
    "    try:\n",
    "        models = pd.read_pickle(model_ev_dir+name+'.pkl')\n",
    "    except:\n",
    "        continue\n",
    "        \n",
    "    indx = first_df[first_df.name == name].index[0]\n",
    "    fits = []\n",
    "    mod = []\n",
    "    for i in range(len(models)):\n",
    "        fits.append(models.multinest[i].fit[0])\n",
    "        mod.append(models.index[i])\n",
    "    argnames = [get_argnames(getattr(gpscssmodels, m)) for m in mod]\n",
    "    temp = [Model(name=m, args=arg, fit=f, mechanism=mechdict[m]) for m,arg,f in zip(mod, argnames, fits)]\n",
    "    for i in range(len(temp)):        \n",
    "        index = [ind for ind,s in enumerate(temp[i].args) if 'norm' in s]\n",
    "        peaks = [temp[i].fit[ind] for ind in index]\n",
    "        index = [ind for ind,s in enumerate(temp[i].args) if 'peak' in s]\n",
    "        freqs = [temp[i].fit[ind] for ind in index]\n",
    "        if len(peaks) > 1:\n",
    "            peaks = np.nanmax(getattr(gpscssmodels, temp[i].name)(freq_arr,*temp[i].fit))\n",
    "            freqs = freq_arr[np.nanargmax(getattr(gpscssmodels, temp[i].name)(freq_arr,*temp[i].fit))]\n",
    "        else:\n",
    "            peaks = peaks[0]\n",
    "            freqs = freqs[0]\n",
    "        \n",
    "        if temp[i].name == first_df.loc[indx].model:\n",
    "            first_df.set_value(indx,'peak', peaks)\n",
    "            first_df.set_value(indx,'freq', freqs)\n",
    "            first_df.set_value(indx,'mechanism', temp[i].mechanism)\n",
    "            if 'alpha' in temp[i].args:\n",
    "                jndx = [j for j,x in enumerate(temp[i].args) if 'alpha' in x]\n",
    "                thin = temp[i].fit[jndx[0]]\n",
    "                first_df.set_value(indx,'thin', thin)\n",
    "                pndx = [j for j,x in enumerate(temp[i].args) if 'p' in x]\n",
    "                if len(pndx) >=1:\n",
    "                    p = temp[i].fit[pndx[0]]\n",
    "                    thick = thin - 2.1*(p + 1)\n",
    "                    first_df.set_value(indx,'thick', thick)\n",
    "                    \n",
    "                        \n",
    "                               \n",
    "        if temp[i].name == second_df.loc[indx].model:\n",
    "            second_df.set_value(indx,'peak', peaks)\n",
    "            second_df.set_value(indx,'freq', freqs)\n",
    "            second_df.set_value(indx,'mechanism', temp[i].mechanism)\n",
    "        ax.plot(freqs, peaks, marker=shapedict[temp[i].mechanism], c=cdict_models[temp[i].name], label = latex_dict[temp[i].name])\n",
    "    \n",
    "ax.set_yscale('log')\n",
    "ax.set_xscale('log')    \n",
    "plt.ylabel('Peak Flux', size = 20)\n",
    "plt.xlabel('Peak Frequency', size = 20)\n",
    "plt.title('All Models for C3030', size = 30)\n",
    "handles, labels = ax.get_legend_handles_labels()\n",
    "by_label = OrderedDict(zip(labels, handles))\n",
    "bbox = (1.9,0.7)\n",
    "ax.legend(by_label.values(), by_label.keys(),bbox_to_anchor=bbox, fontsize=15,handletextpad=0.1,numpoints=1)\n",
    "fig.tight_layout()\n",
    "plt.show()"
   ]
  },
  {
   "cell_type": "code",
   "execution_count": 172,
   "metadata": {
    "ExecuteTime": {
     "end_time": "2017-08-07T17:10:07.165717",
     "start_time": "2017-08-07T17:10:06.328495"
    },
    "collapsed": false
   },
   "outputs": [
    {
     "data": {
      "image/png": "[encoded data removed]",
      "text/plain": [
       "<matplotlib.figure.Figure at 0x11a01f550>"
      ]
     },
     "metadata": {},
     "output_type": "display_data"
    }
   ],
   "source": [
    "fig = plt.figure()\n",
    "ax = plt.gca()\n",
    "\n",
    "for i in first_df.index.values:\n",
    "    try:\n",
    "        ax.plot(first_df.loc[i].freq, first_df.loc[i].peak, marker=shapedict[first_df.loc[i].mechanism], c=cdict_models[first_df.loc[i].model], label = latex_dict[first_df.loc[i].model])\n",
    "    except:\n",
    "        pass\n",
    "        #print(first_df.loc[i])\n",
    "ax.set_yscale('log')\n",
    "ax.set_xscale('log')    \n",
    "plt.ylabel('Peak Flux', size = 20)\n",
    "plt.xlabel('Peak Frequency', size = 20)\n",
    "plt.title('Best models for C3030', size = 30)\n",
    "handles, labels = ax.get_legend_handles_labels()\n",
    "by_label = OrderedDict(zip(labels, handles))\n",
    "bbox = (1.9,0.7)\n",
    "ax.legend(by_label.values(), by_label.keys(),bbox_to_anchor=bbox, fontsize=15,handletextpad=0.1, numpoints=1)\n",
    "#fig.tight_layout()\n",
    "plt.show()"
   ]
  },
  {
   "cell_type": "code",
   "execution_count": null,
   "metadata": {
    "ExecuteTime": {
     "end_time": "2017-08-07T16:04:02.572167",
     "start_time": "2017-08-07T14:03:53.750Z"
    },
    "collapsed": false
   },
   "outputs": [],
   "source": [
    "fig = plt.figure()\n",
    "ax = plt.gca()\n",
    "\n",
    "for i in first_df.index.values:\n",
    "    try:\n",
    "        ax.scatter(second_df.loc[i].freq, second_df.loc[i].peak, marker=shapedict[second_df.loc[i].mechanism], c=cdict_models[second_df.loc[i].model], label = latex_dict[second_df.loc[i].model])\n",
    "    except:\n",
    "        pass\n",
    "        #print(second_df.loc[i])\n",
    "ax.set_yscale('log')\n",
    "ax.set_xscale('log')    \n",
    "plt.ylabel('Peak Flux', size = 20)\n",
    "plt.xlabel('Peak Frequency', size = 20)\n",
    "plt.title('Second best models for C3030', size = 30)\n",
    "handles, labels = ax.get_legend_handles_labels()\n",
    "by_label = OrderedDict(zip(labels, handles))\n",
    "bbox = (1.9,0.7)\n",
    "ax.legend(by_label.values(), by_label.keys(),bbox_to_anchor=bbox, fontsize=15,handletextpad=0.1)\n",
    "#fig.tight_layout()\n",
    "plt.show()"
   ]
  },
  {
   "cell_type": "code",
   "execution_count": null,
   "metadata": {
    "ExecuteTime": {
     "end_time": "2017-08-07T16:04:02.573285",
     "start_time": "2017-08-07T14:03:54.278Z"
    },
    "collapsed": true
   },
   "outputs": [],
   "source": [
    "first_df.to_csv('../survey_data/first.csv')"
   ]
  },
  {
   "cell_type": "code",
   "execution_count": null,
   "metadata": {
    "ExecuteTime": {
     "end_time": "2017-08-07T16:04:02.574533",
     "start_time": "2017-08-07T14:03:54.819Z"
    },
    "collapsed": false
   },
   "outputs": [],
   "source": [
    "import glob\n",
    "jay_df = pd.DataFrame()\n",
    "# S. Jeyakumar 2016 paper\n",
    "texfiles = glob.glob('../survey_data/*.tex')\n",
    "jey = []\n",
    "for tex in texfiles: \n",
    "    try:\n",
    "        tempdf = pd.read_csv(tex,\n",
    "                         sep='&',\n",
    "                         header=None,\n",
    "                         engine='python', names = ['Source', 'Sample',  'ID', 'z', 'LAS', 'Vpeakc', 'Speak', 'LS', 'log(Lpeak)', 'Refd'])\n",
    "        jay_df = tempdf.append(tempdf, ignore_index = True)\n",
    "    except:\n",
    "        print(tex)\n",
    "\n",
    "jaynames = [''.join(name.lower().strip().split('$')) for name in jay_df.Source.values]\n",
    "ra = []\n",
    "dec = []\n",
    "n=2\n",
    "for j in jaynames:\n",
    "    split =re.split(r'(\\d+)', j)\n",
    "    line = split[1]\n",
    "    ra.append(':'.join([line[i:i+n] for i in range(0, len(line), n)])+':00')\n",
    "    line = split[3]\n",
    "    dec.append(split[2]+':'.join([line[i:i+n] for i in range(0, len(line), n)])+':00')\n",
    "jay_df['RA'] = ra\n",
    "jay_df['DEC'] = dec\n",
    "\n",
    "jay_df.to_csv('../survey_data/jey.csv')\n",
    "first_df.to_csv('../survey_data/first.csv')"
   ]
  },
  {
   "cell_type": "code",
   "execution_count": null,
   "metadata": {
    "ExecuteTime": {
     "end_time": "2017-08-07T16:04:02.575944",
     "start_time": "2017-08-07T14:03:55.506Z"
    },
    "collapsed": false
   },
   "outputs": [],
   "source": [
    "# grom gleam_and_friends.csv, for matching with jey and first\n",
    "full_df = pd.read_csv('../survey_data/full.csv')\n",
    "full_df.ID = [''.join(name.lower().strip().split('$')) for name in full_df.ID.values]\n",
    "full_df.to_csv('../survey_data/full.csv')"
   ]
  },
  {
   "cell_type": "code",
   "execution_count": null,
   "metadata": {
    "ExecuteTime": {
     "end_time": "2017-08-07T16:04:02.577322",
     "start_time": "2017-08-07T14:03:56.872Z"
    },
    "collapsed": false
   },
   "outputs": [],
   "source": [
    "temp"
   ]
  },
  {
   "cell_type": "code",
   "execution_count": null,
   "metadata": {
    "ExecuteTime": {
     "end_time": "2017-08-07T10:50:08.864202",
     "start_time": "2017-08-07T08:49:35.264Z"
    },
    "collapsed": false
   },
   "outputs": [],
   "source": [
    "len(jay_df), len(ra)"
   ]
  },
  {
   "cell_type": "code",
   "execution_count": 23,
   "metadata": {
    "ExecuteTime": {
     "end_time": "2017-08-07T11:49:53.281123",
     "start_time": "2017-08-07T11:49:52.986446"
    },
    "collapsed": false
   },
   "outputs": [],
   "source": [
    "# switched to topcat to match jey, first, and gleam\n",
    "matched_df = pd.read_csv('../survey_data/jay_match.csv')"
   ]
  },
  {
   "cell_type": "code",
   "execution_count": null,
   "metadata": {
    "ExecuteTime": {
     "end_time": "2017-08-07T10:50:08.866704",
     "start_time": "2017-08-07T08:49:35.273Z"
    },
    "collapsed": false
   },
   "outputs": [],
   "source": [
    "plt.scatter(matched_df.freq,matched_df.LS_1)\n",
    "plt.xlabel('Frequency')\n",
    "plt.ylabel('Linear Size (kpc)')\n",
    "plt.show()\n",
    "plt.scatter(matched_df.freq,matched_df.z_1)\n",
    "plt.xlabel('Frequency')\n",
    "plt.ylabel('Redshift')\n",
    "plt.show()"
   ]
  },
  {
   "cell_type": "code",
   "execution_count": 178,
   "metadata": {
    "ExecuteTime": {
     "end_time": "2017-08-07T17:21:09.718357",
     "start_time": "2017-08-07T17:21:09.707266"
    },
    "collapsed": true
   },
   "outputs": [],
   "source": [
    "first_df.to_csv('../survey_data/first.csv')"
   ]
  },
  {
   "cell_type": "code",
   "execution_count": 179,
   "metadata": {
    "ExecuteTime": {
     "end_time": "2017-08-07T17:22:17.630455",
     "start_time": "2017-08-07T17:22:17.614627"
    },
    "collapsed": false
   },
   "outputs": [],
   "source": [
    "# switched to topcat to match callingham, first, and gleam\n",
    "matched_df = pd.read_csv('../survey_data/callingham_matched.csv')\n"
   ]
  },
  {
   "cell_type": "code",
   "execution_count": 180,
   "metadata": {
    "ExecuteTime": {
     "end_time": "2017-08-07T17:22:18.192171",
     "start_time": "2017-08-07T17:22:18.184858"
    },
    "collapsed": true
   },
   "outputs": [],
   "source": [
    "matched_df.rename(columns={'thin_1':'thin', 'thick_1':'thick', 'model_1':'model'}, inplace=True)"
   ]
  },
  {
   "cell_type": "code",
   "execution_count": 181,
   "metadata": {
    "ExecuteTime": {
     "end_time": "2017-08-07T17:22:19.087936",
     "start_time": "2017-08-07T17:22:19.081231"
    },
    "collapsed": false
   },
   "outputs": [],
   "source": [
    "matched_df['thin'].fillna(matched_df['alpha_thin'], inplace=True)\n",
    "matched_df['thick'].fillna(matched_df['alpha_thick'], inplace=True)"
   ]
  },
  {
   "cell_type": "code",
   "execution_count": 182,
   "metadata": {
    "ExecuteTime": {
     "end_time": "2017-08-07T17:22:21.787209",
     "start_time": "2017-08-07T17:22:20.554125"
    },
    "collapsed": false
   },
   "outputs": [
    {
     "name": "stdout",
     "output_type": "stream",
     "text": [
      "0.939959023651 -0.87245876 0.3888 0.958975594674 1.2099018784033395e+26 m2\n",
      "1.11779004503 0.0214649427587 0.006011 0.993897053554 2.223498434221605e+22 m2\n",
      "0.484716136053 -0.5030658 0.657 0.77805651704 1.8004126724360276e+26 m2\n",
      "0.967050116626 nan 0.68 nan nan m2\n",
      "3.24516611545 -0.3701307 0.962 0.654090563784 2.6098586158956896e+27 m2\n",
      "1.27583044866 0.999973893039 1.12 0.222503474854 5.10340849777181e+26 m2\n",
      "1.85345434309 -0.32902572 0.937 0.641716800444 1.3694181355620106e+27 m2\n",
      "3.53254787644 0.518822423649 0.32162 0.654727491446 1.9870162226602747e+26 m2\n",
      "0.432717030248 0.382124130212 0.656 0.498002391755 1.0248990525023102e+26 m2\n",
      "1.25690336856 0.904256923382 1.41 0.187301563139 7.524097365903364e+26 m2\n",
      "2.86058309083 -0.40089592 2.223 0.496019987727 1.4024772290389394e+28 m2\n",
      "0.808686457627 -0.38324282 0.722 0.715195645866 3.484524641597006e+26 m2\n",
      "0.358321421684 nan 0.516 nan nan m2\n",
      "0.692711275847 nan 2.048 nan nan m2\n",
      "2.17923331896 0.508336365442 0.529 0.527049594695 3.2280701756563625e+26 m2\n",
      "2.42337046628 -1.2459937 2.752 1.38441099005 5.590795071166972e+28 m2\n",
      "1.57956791789 0.778648104013 1.032 0.283342739385 6.557890858950257e+26 m2\n",
      "1.21351191014 0.536482355274 0.228 0.729370650067 3.4473710588404537e+25 m2\n",
      "0.908444274611 nan 3.154 nan nan m2\n",
      "4.44142853367 0.770456934067 0.06466 0.895002414176 1.0062360437962095e+25 m2\n",
      "1.44970176637 0.634392027306 0.63634 0.447143354223 2.860775470297414e+26 m2\n",
      "0.298157744136 1.03806731881 1.526702 0.15120557338 1.7569108898971342e+26 m2\n",
      "0.41993358885 -0.15739596 0.338 0.782433736702 3.170489221609442e+25 m2\n",
      "1.81924326535 0.382821698724 0.58457 0.529124824783 3.450720956846133e+26 m2\n",
      "0.842308688924 0.814219990848 0.1785 0.742322180781 1.4061403031691761e+25 m2\n",
      "0.100132835824 -0.5856872 0.258 0.909287109745 4.69966484135762e+24 m2\n",
      "0.450421556068 -0.38324282 0.58 0.754183132835 1.1946175763281044e+26 m2\n",
      "4.56469311352 nan 0.014428 nan nan m2\n",
      "0.581422399421 0.806216264802 1.423 0.202196955437 3.844361229639959e+26 m2\n",
      "1.66803740647 0.84384034797 0.56288 0.438967221905 2.3934085224347727e+26 m2\n",
      "0.467406415182 0.419856837364 0.65 0.491138449435 1.067402330946348e+26 m2\n",
      "0.670010628981 -0.6668475 0.53 0.867899799613 1.6418383471951606e+26 m2\n",
      "5.50330270082 1.10610809194 0.18129 0.704059449701 9.019372072555357e+25 m2\n",
      "0.537668821634 nan 0.728 nan nan m2\n"
     ]
    }
   ],
   "source": [
    "from astropy.cosmology import FlatLambdaCDM\n",
    "import astropy.units as u\n",
    "cosmo = FlatLambdaCDM(H0=70 * u.km / u.s / u.Mpc, Om0=0.27)\n",
    "\n",
    "for indx in matched_df.index.values:\n",
    "    name = matched_df.loc[indx]['name']\n",
    "    try:\n",
    "        models = pd.read_pickle(model_ev_dir+name+'.pkl')\n",
    "    except:\n",
    "        continue\n",
    "        \n",
    "    mod = matched_df.loc[indx].model\n",
    "    fits = models.loc[mod].multinest.fit[0]\n",
    "    s_5 = getattr(gpscssmodels, mod)(5000,*fits)\n",
    "    alpha_thin = matched_df.loc[indx]['thin']\n",
    "    z = matched_df.loc[indx]['z_2']\n",
    "    k_corr = np.power((1 + z),-(1+alpha_thin))\n",
    "    dl = cosmo.luminosity_distance(z) # in Mpc\n",
    "    dl = dl.to(u.m)\n",
    "    Power_5 = np.pi*np.power(dl,2)*s_5 * k_corr * (10**-26)\n",
    "    print(s_5, alpha_thin, z, k_corr, Power_5)\n",
    "    matched_df.set_value(indx,'Power_5', Power_5.value) # m^2"
   ]
  },
  {
   "cell_type": "code",
   "execution_count": 258,
   "metadata": {
    "ExecuteTime": {
     "end_time": "2017-08-08T14:05:00.908055",
     "start_time": "2017-08-08T14:05:00.889251"
    },
    "collapsed": false
   },
   "outputs": [],
   "source": [
    "# drop a source that was bad\n",
    "to_drop = matched_df.name[matched_df.name == 'pks1151-348'].index.values[0]\n",
    "matched_df.drop(to_drop, inplace=True)\n"
   ]
  },
  {
   "cell_type": "code",
   "execution_count": 260,
   "metadata": {
    "ExecuteTime": {
     "end_time": "2017-08-08T14:05:31.619415",
     "start_time": "2017-08-08T14:05:30.329206"
    },
    "collapsed": false
   },
   "outputs": [
    {
     "data": {
      "image/png": "[encoded data removed]",
      "text/plain": [
       "<matplotlib.figure.Figure at 0x11a3d2f98>"
      ]
     },
     "metadata": {},
     "output_type": "display_data"
    },
    {
     "data": {
      "image/png": "[encoded data removed]",
      "text/plain": [
       "<matplotlib.figure.Figure at 0x11e5c50b8>"
      ]
     },
     "metadata": {},
     "output_type": "display_data"
    },
    {
     "data": {
      "image/png": "[encoded data removed]",
      "text/plain": [
       "<matplotlib.figure.Figure at 0x11ef55ba8>"
      ]
     },
     "metadata": {},
     "output_type": "display_data"
    }
   ],
   "source": [
    "def pandas_is_stupid_plot(param1='z_2', param2='Power_5'):\n",
    "    fig, ax = plt.subplots()\n",
    "    for indx in matched_df.index.values:\n",
    "        if mechdict[matched_df.loc[indx].model] == 'Neither':\n",
    "            continue\n",
    "        else:\n",
    "            plt.plot(np.log10(matched_df.loc[indx][param1]),np.log10(matched_df.loc[indx][param2]), 'o', markeredgecolor='gray',\n",
    "                       color=cdict_mech[mechdict[matched_df.loc[indx].model]], label=mechdict[matched_df.loc[indx].model])\n",
    "\n",
    "\n",
    "    plt.xlabel(label_dict[param1])\n",
    "    plt.ylabel(label_dict[param2])\n",
    "\n",
    "\n",
    "    handles, labels = ax.get_legend_handles_labels()\n",
    "    by_label = OrderedDict(zip(labels, handles))\n",
    "    bbox = (1.35,0.7)\n",
    "    ax.legend(by_label.values(), by_label.keys(), bbox_to_anchor=bbox, fontsize=15, numpoints=1)\n",
    "\n",
    "\n",
    "\n",
    "pandas_is_stupid_plot(param1='z_2', param2='Power_5')\n",
    "plt.xlim(-1.5, 0.5)\n",
    "plt.ylim(24,29)\n",
    "plt.show()\n",
    "\n",
    "\n",
    "pandas_is_stupid_plot(param1='freq_1', param2='peak_1')\n",
    "plt.show()\n",
    "\n",
    "pandas_is_stupid_plot(param1='freq_1', param2='z_2')\n",
    "plt.show()\n",
    "\n"
   ]
  },
  {
   "cell_type": "code",
   "execution_count": 188,
   "metadata": {
    "ExecuteTime": {
     "end_time": "2017-08-07T17:30:08.049617",
     "start_time": "2017-08-07T17:30:08.044088"
    },
    "collapsed": false
   },
   "outputs": [],
   "source": [
    "label_dict={\n",
    "    'z_2':'$\\log_{10} z $', 'Power_5':r'$\\log_{10}$ of $P_{\\text{5\\,GHz}}$ (W\\,Hz$^{-1}$)', 'thick':'Optically Thick Slope', 'thin':'Optically Thin Slope',\n",
    "    'freq_1': r'$\\log_{10}$ of Frequency (MHz) ', 'peak_1':r'$\\log_{10}$ of Flux (Jy) '\n",
    "}"
   ]
  },
  {
   "cell_type": "code",
   "execution_count": 193,
   "metadata": {
    "ExecuteTime": {
     "end_time": "2017-08-07T17:31:17.889474",
     "start_time": "2017-08-07T17:31:17.264133"
    },
    "collapsed": false
   },
   "outputs": [
    {
     "data": {
      "image/png": "[encoded data removed]",
      "text/plain": [
       "<matplotlib.figure.Figure at 0x114791d68>"
      ]
     },
     "metadata": {},
     "output_type": "display_data"
    },
    {
     "data": {
      "image/png": "[encoded data removed]",
      "text/plain": [
       "<matplotlib.figure.Figure at 0x11a9b41d0>"
      ]
     },
     "metadata": {},
     "output_type": "display_data"
    }
   ],
   "source": [
    "FFA_freqs = matched_df[matched_df['model'].apply(lambda x: mechdict[x]) == 'FFA'].freq_1.values\n",
    "SSA_freqs = matched_df[matched_df['model'].apply(lambda x: mechdict[x]) == 'SSA'].freq_1.values\n",
    "\n",
    "plt.hist(FFA_freqs, color='MediumSeaGreen', alpha = 0.5, label='FFA')\n",
    "\n",
    "plt.legend()\n",
    "plt.xlabel('Turnover Frequency (MHz)')\n",
    "plt.ylabel('Number of Sources')\n",
    "plt.show()\n",
    "\n",
    "plt.hist(SSA_freqs, color='orchid', alpha = 0.5, label='SSA')\n",
    "plt.legend()\n",
    "plt.xlabel('Turnover Frequency (MHz)')\n",
    "plt.ylabel('Number of Sources')\n",
    "plt.show()"
   ]
  },
  {
   "cell_type": "code",
   "execution_count": 223,
   "metadata": {
    "ExecuteTime": {
     "end_time": "2017-08-07T17:40:16.300502",
     "start_time": "2017-08-07T17:40:16.279400"
    },
    "collapsed": false
   },
   "outputs": [
    {
     "data": {
      "text/plain": [
       "(22    j003830-2119\n",
       " 25     pks1151-348\n",
       " 26    j185958-6615\n",
       " 27     pks1740-649\n",
       " 31        4c-02.17\n",
       " Name: name, dtype: object, 22    0.338000\n",
       " 25    0.258000\n",
       " 26    0.580000\n",
       " 27    0.014428\n",
       " 31    0.530000\n",
       " Name: z_2, dtype: float64)"
      ]
     },
     "execution_count": 223,
     "metadata": {},
     "output_type": "execute_result"
    }
   ],
   "source": [
    "subset_df = matched_df[(matched_df['model'].apply(lambda x: mechdict[x]) == 'SSA')]\n",
    "subset_df[subset_df['z_2'] < 0.6].name, subset_df[subset_df['z_2'] < 0.6].z_2"
   ]
  },
  {
   "cell_type": "code",
   "execution_count": 176,
   "metadata": {
    "ExecuteTime": {
     "end_time": "2017-08-07T17:12:48.928329",
     "start_time": "2017-08-07T17:12:48.889885"
    },
    "collapsed": false
   },
   "outputs": [
    {
     "data": {
      "text/html": [
       "<div>\n",
       "<table border=\"1\" class=\"dataframe\">\n",
       "  <thead>\n",
       "    <tr style=\"text-align: right;\">\n",
       "      <th></th>\n",
       "      <th>name</th>\n",
       "      <th>model</th>\n",
       "      <th>peak</th>\n",
       "      <th>freq</th>\n",
       "      <th>mechanism</th>\n",
       "      <th>thin</th>\n",
       "      <th>thick</th>\n",
       "      <th>z</th>\n",
       "      <th>ls</th>\n",
       "      <th>power</th>\n",
       "    </tr>\n",
       "  </thead>\n",
       "  <tbody>\n",
       "    <tr>\n",
       "      <th>7</th>\n",
       "      <td>j221942-2756</td>\n",
       "      <td>doubSSAbreakexp</td>\n",
       "      <td>NaN</td>\n",
       "      <td>0</td>\n",
       "      <td>SSA</td>\n",
       "      <td>-0.503066</td>\n",
       "      <td>0.673523</td>\n",
       "      <td>NaN</td>\n",
       "      <td>NaN</td>\n",
       "      <td>NaN</td>\n",
       "    </tr>\n",
       "    <tr>\n",
       "      <th>9</th>\n",
       "      <td>j225053-1204</td>\n",
       "      <td>doubSSAbreakexp</td>\n",
       "      <td>NaN</td>\n",
       "      <td>0</td>\n",
       "      <td>SSA</td>\n",
       "      <td>-0.777060</td>\n",
       "      <td>0.498636</td>\n",
       "      <td>NaN</td>\n",
       "      <td>NaN</td>\n",
       "      <td>NaN</td>\n",
       "    </tr>\n",
       "    <tr>\n",
       "      <th>10</th>\n",
       "      <td>4c-06.76</td>\n",
       "      <td>doubSSAbreakexp</td>\n",
       "      <td>NaN</td>\n",
       "      <td>NaN</td>\n",
       "      <td>NaN</td>\n",
       "      <td>NaN</td>\n",
       "      <td>NaN</td>\n",
       "      <td>NaN</td>\n",
       "      <td>NaN</td>\n",
       "      <td>NaN</td>\n",
       "    </tr>\n",
       "    <tr>\n",
       "      <th>12</th>\n",
       "      <td>0743-673</td>\n",
       "      <td>doubSSAbreakexp</td>\n",
       "      <td>NaN</td>\n",
       "      <td>NaN</td>\n",
       "      <td>NaN</td>\n",
       "      <td>NaN</td>\n",
       "      <td>NaN</td>\n",
       "      <td>NaN</td>\n",
       "      <td>NaN</td>\n",
       "      <td>NaN</td>\n",
       "    </tr>\n",
       "    <tr>\n",
       "      <th>14</th>\n",
       "      <td>j040820-6545</td>\n",
       "      <td>doubSSAbreakexp</td>\n",
       "      <td>NaN</td>\n",
       "      <td>0</td>\n",
       "      <td>SSA</td>\n",
       "      <td>-0.370131</td>\n",
       "      <td>NaN</td>\n",
       "      <td>NaN</td>\n",
       "      <td>NaN</td>\n",
       "      <td>NaN</td>\n",
       "    </tr>\n",
       "    <tr>\n",
       "      <th>16</th>\n",
       "      <td>0022-423</td>\n",
       "      <td>doubSSAbreakexp</td>\n",
       "      <td>NaN</td>\n",
       "      <td>0</td>\n",
       "      <td>SSA</td>\n",
       "      <td>-0.329026</td>\n",
       "      <td>0.451189</td>\n",
       "      <td>NaN</td>\n",
       "      <td>NaN</td>\n",
       "      <td>NaN</td>\n",
       "    </tr>\n",
       "    <tr>\n",
       "      <th>17</th>\n",
       "      <td>j011006-3651</td>\n",
       "      <td>doubSSAbreakexp</td>\n",
       "      <td>NaN</td>\n",
       "      <td>0</td>\n",
       "      <td>SSA</td>\n",
       "      <td>-0.255470</td>\n",
       "      <td>1.666715</td>\n",
       "      <td>NaN</td>\n",
       "      <td>NaN</td>\n",
       "      <td>NaN</td>\n",
       "    </tr>\n",
       "    <tr>\n",
       "      <th>20</th>\n",
       "      <td>pks0439-337</td>\n",
       "      <td>doubSSAbreakexp</td>\n",
       "      <td>NaN</td>\n",
       "      <td>0</td>\n",
       "      <td>SSA</td>\n",
       "      <td>-0.717649</td>\n",
       "      <td>0.450606</td>\n",
       "      <td>NaN</td>\n",
       "      <td>NaN</td>\n",
       "      <td>NaN</td>\n",
       "    </tr>\n",
       "    <tr>\n",
       "      <th>24</th>\n",
       "      <td>j024008-2309</td>\n",
       "      <td>doubSSAbreakexp</td>\n",
       "      <td>NaN</td>\n",
       "      <td>0</td>\n",
       "      <td>SSA</td>\n",
       "      <td>-0.400896</td>\n",
       "      <td>0.267229</td>\n",
       "      <td>NaN</td>\n",
       "      <td>NaN</td>\n",
       "      <td>NaN</td>\n",
       "    </tr>\n",
       "    <tr>\n",
       "      <th>30</th>\n",
       "      <td>j042408+0204</td>\n",
       "      <td>doubSSAbreakexp</td>\n",
       "      <td>NaN</td>\n",
       "      <td>0</td>\n",
       "      <td>SSA</td>\n",
       "      <td>NaN</td>\n",
       "      <td>NaN</td>\n",
       "      <td>NaN</td>\n",
       "      <td>NaN</td>\n",
       "      <td>NaN</td>\n",
       "    </tr>\n",
       "    <tr>\n",
       "      <th>37</th>\n",
       "      <td>j083639-2016</td>\n",
       "      <td>doubSSA</td>\n",
       "      <td>NaN</td>\n",
       "      <td>0</td>\n",
       "      <td>SSA</td>\n",
       "      <td>NaN</td>\n",
       "      <td>NaN</td>\n",
       "      <td>NaN</td>\n",
       "      <td>NaN</td>\n",
       "      <td>NaN</td>\n",
       "    </tr>\n",
       "    <tr>\n",
       "      <th>39</th>\n",
       "      <td>j103152-222823</td>\n",
       "      <td>doubSSAbreakexp</td>\n",
       "      <td>NaN</td>\n",
       "      <td>0</td>\n",
       "      <td>SSA</td>\n",
       "      <td>NaN</td>\n",
       "      <td>NaN</td>\n",
       "      <td>NaN</td>\n",
       "      <td>NaN</td>\n",
       "      <td>NaN</td>\n",
       "    </tr>\n",
       "    <tr>\n",
       "      <th>66</th>\n",
       "      <td>mwacsj2153.5-3445</td>\n",
       "      <td>doubSSAbreakexp</td>\n",
       "      <td>NaN</td>\n",
       "      <td>0</td>\n",
       "      <td>SSA</td>\n",
       "      <td>NaN</td>\n",
       "      <td>NaN</td>\n",
       "      <td>NaN</td>\n",
       "      <td>NaN</td>\n",
       "      <td>NaN</td>\n",
       "    </tr>\n",
       "    <tr>\n",
       "      <th>73</th>\n",
       "      <td>j010837-2851</td>\n",
       "      <td>doubSSAbreakexp</td>\n",
       "      <td>NaN</td>\n",
       "      <td>0</td>\n",
       "      <td>SSA</td>\n",
       "      <td>NaN</td>\n",
       "      <td>NaN</td>\n",
       "      <td>NaN</td>\n",
       "      <td>NaN</td>\n",
       "      <td>NaN</td>\n",
       "    </tr>\n",
       "    <tr>\n",
       "      <th>74</th>\n",
       "      <td>j003830-2119</td>\n",
       "      <td>doubSSAbreakexp</td>\n",
       "      <td>NaN</td>\n",
       "      <td>0</td>\n",
       "      <td>SSA</td>\n",
       "      <td>NaN</td>\n",
       "      <td>NaN</td>\n",
       "      <td>NaN</td>\n",
       "      <td>NaN</td>\n",
       "      <td>NaN</td>\n",
       "    </tr>\n",
       "    <tr>\n",
       "      <th>75</th>\n",
       "      <td>pks0207-224</td>\n",
       "      <td>doubSSAbreakexp</td>\n",
       "      <td>NaN</td>\n",
       "      <td>0</td>\n",
       "      <td>SSA</td>\n",
       "      <td>NaN</td>\n",
       "      <td>NaN</td>\n",
       "      <td>NaN</td>\n",
       "      <td>NaN</td>\n",
       "      <td>NaN</td>\n",
       "    </tr>\n",
       "    <tr>\n",
       "      <th>76</th>\n",
       "      <td>pks0105-122</td>\n",
       "      <td>doubSSAbreakexp</td>\n",
       "      <td>NaN</td>\n",
       "      <td>0</td>\n",
       "      <td>SSA</td>\n",
       "      <td>NaN</td>\n",
       "      <td>NaN</td>\n",
       "      <td>NaN</td>\n",
       "      <td>NaN</td>\n",
       "      <td>NaN</td>\n",
       "    </tr>\n",
       "    <tr>\n",
       "      <th>80</th>\n",
       "      <td>pks1151-348</td>\n",
       "      <td>doubSSAbreakexp</td>\n",
       "      <td>NaN</td>\n",
       "      <td>0</td>\n",
       "      <td>SSA</td>\n",
       "      <td>NaN</td>\n",
       "      <td>NaN</td>\n",
       "      <td>NaN</td>\n",
       "      <td>NaN</td>\n",
       "      <td>NaN</td>\n",
       "    </tr>\n",
       "    <tr>\n",
       "      <th>88</th>\n",
       "      <td>j185958-6615</td>\n",
       "      <td>doubSSAbreakexp</td>\n",
       "      <td>NaN</td>\n",
       "      <td>0</td>\n",
       "      <td>SSA</td>\n",
       "      <td>NaN</td>\n",
       "      <td>NaN</td>\n",
       "      <td>NaN</td>\n",
       "      <td>NaN</td>\n",
       "      <td>NaN</td>\n",
       "    </tr>\n",
       "    <tr>\n",
       "      <th>89</th>\n",
       "      <td>pks1740-649</td>\n",
       "      <td>doubSSAbreakexp</td>\n",
       "      <td>4.99515</td>\n",
       "      <td>3103.16</td>\n",
       "      <td>SSA</td>\n",
       "      <td>NaN</td>\n",
       "      <td>NaN</td>\n",
       "      <td>NaN</td>\n",
       "      <td>NaN</td>\n",
       "      <td>NaN</td>\n",
       "    </tr>\n",
       "    <tr>\n",
       "      <th>95</th>\n",
       "      <td>j211622-5247</td>\n",
       "      <td>doubSSAbreakexp</td>\n",
       "      <td>NaN</td>\n",
       "      <td>0</td>\n",
       "      <td>SSA</td>\n",
       "      <td>NaN</td>\n",
       "      <td>NaN</td>\n",
       "      <td>NaN</td>\n",
       "      <td>NaN</td>\n",
       "      <td>NaN</td>\n",
       "    </tr>\n",
       "    <tr>\n",
       "      <th>96</th>\n",
       "      <td>j222947-3823</td>\n",
       "      <td>doubSSAbreakexp</td>\n",
       "      <td>NaN</td>\n",
       "      <td>0</td>\n",
       "      <td>SSA</td>\n",
       "      <td>NaN</td>\n",
       "      <td>NaN</td>\n",
       "      <td>NaN</td>\n",
       "      <td>NaN</td>\n",
       "      <td>NaN</td>\n",
       "    </tr>\n",
       "    <tr>\n",
       "      <th>99</th>\n",
       "      <td>pks0201-44</td>\n",
       "      <td>doubSSAbreakexp</td>\n",
       "      <td>NaN</td>\n",
       "      <td>0</td>\n",
       "      <td>SSA</td>\n",
       "      <td>NaN</td>\n",
       "      <td>NaN</td>\n",
       "      <td>NaN</td>\n",
       "      <td>NaN</td>\n",
       "      <td>NaN</td>\n",
       "    </tr>\n",
       "    <tr>\n",
       "      <th>102</th>\n",
       "      <td>4c-02.17</td>\n",
       "      <td>doubSSAbreakexp</td>\n",
       "      <td>NaN</td>\n",
       "      <td>0</td>\n",
       "      <td>SSA</td>\n",
       "      <td>NaN</td>\n",
       "      <td>NaN</td>\n",
       "      <td>NaN</td>\n",
       "      <td>NaN</td>\n",
       "      <td>NaN</td>\n",
       "    </tr>\n",
       "    <tr>\n",
       "      <th>108</th>\n",
       "      <td>pmnj1726-6427</td>\n",
       "      <td>doubSSAbreakexp</td>\n",
       "      <td>NaN</td>\n",
       "      <td>0</td>\n",
       "      <td>SSA</td>\n",
       "      <td>NaN</td>\n",
       "      <td>NaN</td>\n",
       "      <td>NaN</td>\n",
       "      <td>NaN</td>\n",
       "      <td>NaN</td>\n",
       "    </tr>\n",
       "    <tr>\n",
       "      <th>111</th>\n",
       "      <td>j221655-4521</td>\n",
       "      <td>doubSSAbreakexp</td>\n",
       "      <td>NaN</td>\n",
       "      <td>0</td>\n",
       "      <td>SSA</td>\n",
       "      <td>NaN</td>\n",
       "      <td>NaN</td>\n",
       "      <td>NaN</td>\n",
       "      <td>NaN</td>\n",
       "      <td>NaN</td>\n",
       "    </tr>\n",
       "    <tr>\n",
       "      <th>113</th>\n",
       "      <td>j023619-3745</td>\n",
       "      <td>doubSSAbreakexp</td>\n",
       "      <td>NaN</td>\n",
       "      <td>0</td>\n",
       "      <td>SSA</td>\n",
       "      <td>NaN</td>\n",
       "      <td>NaN</td>\n",
       "      <td>NaN</td>\n",
       "      <td>NaN</td>\n",
       "      <td>NaN</td>\n",
       "    </tr>\n",
       "    <tr>\n",
       "      <th>120</th>\n",
       "      <td>pks0405-280</td>\n",
       "      <td>doubSSAbreakexp</td>\n",
       "      <td>NaN</td>\n",
       "      <td>0</td>\n",
       "      <td>SSA</td>\n",
       "      <td>NaN</td>\n",
       "      <td>NaN</td>\n",
       "      <td>NaN</td>\n",
       "      <td>NaN</td>\n",
       "      <td>NaN</td>\n",
       "    </tr>\n",
       "    <tr>\n",
       "      <th>125</th>\n",
       "      <td>pks0208+040</td>\n",
       "      <td>doubSSAbreakexp</td>\n",
       "      <td>NaN</td>\n",
       "      <td>0</td>\n",
       "      <td>SSA</td>\n",
       "      <td>NaN</td>\n",
       "      <td>NaN</td>\n",
       "      <td>NaN</td>\n",
       "      <td>NaN</td>\n",
       "      <td>NaN</td>\n",
       "    </tr>\n",
       "  </tbody>\n",
       "</table>\n",
       "</div>"
      ],
      "text/plain": [
       "                  name            model     peak     freq mechanism      thin  \\\n",
       "7         j221942-2756  doubSSAbreakexp      NaN        0       SSA -0.503066   \n",
       "9         j225053-1204  doubSSAbreakexp      NaN        0       SSA -0.777060   \n",
       "10            4c-06.76  doubSSAbreakexp      NaN      NaN       NaN       NaN   \n",
       "12            0743-673  doubSSAbreakexp      NaN      NaN       NaN       NaN   \n",
       "14        j040820-6545  doubSSAbreakexp      NaN        0       SSA -0.370131   \n",
       "16            0022-423  doubSSAbreakexp      NaN        0       SSA -0.329026   \n",
       "17        j011006-3651  doubSSAbreakexp      NaN        0       SSA -0.255470   \n",
       "20         pks0439-337  doubSSAbreakexp      NaN        0       SSA -0.717649   \n",
       "24        j024008-2309  doubSSAbreakexp      NaN        0       SSA -0.400896   \n",
       "30        j042408+0204  doubSSAbreakexp      NaN        0       SSA       NaN   \n",
       "37        j083639-2016          doubSSA      NaN        0       SSA       NaN   \n",
       "39      j103152-222823  doubSSAbreakexp      NaN        0       SSA       NaN   \n",
       "66   mwacsj2153.5-3445  doubSSAbreakexp      NaN        0       SSA       NaN   \n",
       "73        j010837-2851  doubSSAbreakexp      NaN        0       SSA       NaN   \n",
       "74        j003830-2119  doubSSAbreakexp      NaN        0       SSA       NaN   \n",
       "75         pks0207-224  doubSSAbreakexp      NaN        0       SSA       NaN   \n",
       "76         pks0105-122  doubSSAbreakexp      NaN        0       SSA       NaN   \n",
       "80         pks1151-348  doubSSAbreakexp      NaN        0       SSA       NaN   \n",
       "88        j185958-6615  doubSSAbreakexp      NaN        0       SSA       NaN   \n",
       "89         pks1740-649  doubSSAbreakexp  4.99515  3103.16       SSA       NaN   \n",
       "95        j211622-5247  doubSSAbreakexp      NaN        0       SSA       NaN   \n",
       "96        j222947-3823  doubSSAbreakexp      NaN        0       SSA       NaN   \n",
       "99          pks0201-44  doubSSAbreakexp      NaN        0       SSA       NaN   \n",
       "102           4c-02.17  doubSSAbreakexp      NaN        0       SSA       NaN   \n",
       "108      pmnj1726-6427  doubSSAbreakexp      NaN        0       SSA       NaN   \n",
       "111       j221655-4521  doubSSAbreakexp      NaN        0       SSA       NaN   \n",
       "113       j023619-3745  doubSSAbreakexp      NaN        0       SSA       NaN   \n",
       "120        pks0405-280  doubSSAbreakexp      NaN        0       SSA       NaN   \n",
       "125        pks0208+040  doubSSAbreakexp      NaN        0       SSA       NaN   \n",
       "\n",
       "        thick    z   ls power  \n",
       "7    0.673523  NaN  NaN   NaN  \n",
       "9    0.498636  NaN  NaN   NaN  \n",
       "10        NaN  NaN  NaN   NaN  \n",
       "12        NaN  NaN  NaN   NaN  \n",
       "14        NaN  NaN  NaN   NaN  \n",
       "16   0.451189  NaN  NaN   NaN  \n",
       "17   1.666715  NaN  NaN   NaN  \n",
       "20   0.450606  NaN  NaN   NaN  \n",
       "24   0.267229  NaN  NaN   NaN  \n",
       "30        NaN  NaN  NaN   NaN  \n",
       "37        NaN  NaN  NaN   NaN  \n",
       "39        NaN  NaN  NaN   NaN  \n",
       "66        NaN  NaN  NaN   NaN  \n",
       "73        NaN  NaN  NaN   NaN  \n",
       "74        NaN  NaN  NaN   NaN  \n",
       "75        NaN  NaN  NaN   NaN  \n",
       "76        NaN  NaN  NaN   NaN  \n",
       "80        NaN  NaN  NaN   NaN  \n",
       "88        NaN  NaN  NaN   NaN  \n",
       "89        NaN  NaN  NaN   NaN  \n",
       "95        NaN  NaN  NaN   NaN  \n",
       "96        NaN  NaN  NaN   NaN  \n",
       "99        NaN  NaN  NaN   NaN  \n",
       "102       NaN  NaN  NaN   NaN  \n",
       "108       NaN  NaN  NaN   NaN  \n",
       "111       NaN  NaN  NaN   NaN  \n",
       "113       NaN  NaN  NaN   NaN  \n",
       "120       NaN  NaN  NaN   NaN  \n",
       "125       NaN  NaN  NaN   NaN  "
      ]
     },
     "execution_count": 176,
     "metadata": {},
     "output_type": "execute_result"
    }
   ],
   "source": [
    "first_df[first_df['model'].apply(lambda x: mechdict[x]) == 'SSA']"
   ]
  },
  {
   "cell_type": "code",
   "execution_count": null,
   "metadata": {
    "ExecuteTime": {
     "end_time": "2017-08-07T10:50:08.870047",
     "start_time": "2017-08-07T08:49:35.283Z"
    },
    "collapsed": false
   },
   "outputs": [],
   "source": [
    "linsize_df = pd.read_csv('../survey_data/jey_match.csv')\n",
    "linsize_dict = dict(zip(linsize_df['name_1a'],[''.join(l.lower().split(' ')) for l in linsize_df['ID']]))\n",
    "rlinsize_dict = dict(zip([''.join(l.lower().split(' ')) for l in linsize_df['ID']], linsize_df['name_1a']))"
   ]
  },
  {
   "cell_type": "code",
   "execution_count": null,
   "metadata": {
    "ExecuteTime": {
     "end_time": "2017-08-07T10:50:08.871062",
     "start_time": "2017-08-07T08:49:35.288Z"
    },
    "collapsed": false
   },
   "outputs": [],
   "source": [
    "linsize_df['ID']=[''.join(l.lower().split(' ')) for l in linsize_df['ID']]\n",
    "linsize_df.to_csv('../survey_data/jey_match.csv')"
   ]
  },
  {
   "cell_type": "code",
   "execution_count": null,
   "metadata": {
    "ExecuteTime": {
     "end_time": "2017-08-07T10:50:08.872345",
     "start_time": "2017-08-07T08:49:35.293Z"
    },
    "collapsed": false
   },
   "outputs": [],
   "source": [
    "jay_df = pd.DataFrame()\n",
    "# S. Jeyakumar 2016 paper\n",
    "texfiles = glob.glob('../survey_data/*.tex')\n",
    "jey = []\n",
    "for tex in texfiles: \n",
    "    try:\n",
    "        tempdf = pd.read_csv(tex,\n",
    "                         sep='&',\n",
    "                         header=None,\n",
    "                         engine='python', names = ['Source', 'Sample',  'ID', 'z', 'LAS', 'Vpeakc', 'Speak', 'LS', 'log(Lpeak)', 'Refd'])\n",
    "        jay_df = tempdf.append(tempdf, ignore_index = True)\n",
    "    except:\n",
    "        pass\n",
    "jay_df.drop_duplicates(inplace=True)\n",
    "jay_df.Source = [''.join(name.lower().strip().split('$')) for name in jay_df.Source.tolist()]"
   ]
  },
  {
   "cell_type": "code",
   "execution_count": null,
   "metadata": {
    "ExecuteTime": {
     "end_time": "2017-08-07T10:50:08.873506",
     "start_time": "2017-08-07T08:49:35.299Z"
    },
    "collapsed": false
   },
   "outputs": [],
   "source": [
    "# match the subset of ATCA data with jay\n",
    "temp = [(i,name) for (i,name) in zip(first_df.index.values,first_df.name.values) if name in linsize_dict.values()]\n",
    "for i, name in temp: \n",
    "    try:\n",
    "        foo = rlinsize_dict[name]\n",
    "        z = float(jay_df[jay_df.Source == foo].z.values[0])\n",
    "        las = float(jay_df[jay_df.Source == foo].LAS.values[0].split('$')[-1])\n",
    "        ls = float(jay_df[jay_df.Source == foo].LS.values[0])\n",
    "        first_df.set_value(i,'z', z)\n",
    "        first_df.set_value(i,'las', las)\n",
    "        first_df.set_value(i,'ls', ls)\n",
    "    except:\n",
    "        print(i,name)"
   ]
  },
  {
   "cell_type": "code",
   "execution_count": null,
   "metadata": {
    "ExecuteTime": {
     "end_time": "2017-08-07T10:50:08.875866",
     "start_time": "2017-08-07T08:49:35.308Z"
    },
    "collapsed": false
   },
   "outputs": [],
   "source": [
    "[jay_df[jay_df.Source == name].Source for name in  rlinsize_dict.values()]"
   ]
  }
 ],
 "metadata": {
  "hide_input": false,
  "kernelspec": {
   "display_name": "Python 3",
   "language": "python",
   "name": "python3"
  },
  "language_info": {
   "codemirror_mode": {
    "name": "ipython",
    "version": 3
   },
   "file_extension": ".py",
   "mimetype": "text/x-python",
   "name": "python",
   "nbconvert_exporter": "python",
   "pygments_lexer": "ipython3",
   "version": "3.4.5"
  },
  "latex_envs": {
   "bibliofile": "biblio.bib",
   "cite_by": "apalike",
   "current_citInitial": 1,
   "eqLabelWithNumbers": true,
   "eqNumInitial": 0
  },
  "toc": {
   "colors": {
    "hover_highlight": "#DAA520",
    "running_highlight": "#FF0000",
    "selected_highlight": "#FFD700"
   },
   "moveMenuLeft": true,
   "nav_menu": {
    "height": "48px",
    "width": "252px"
   },
   "navigate_menu": true,
   "number_sections": true,
   "sideBar": true,
   "threshold": 4,
   "toc_cell": false,
   "toc_section_display": "block",
   "toc_window_display": false,
   "widenNotebook": false
  }
 },
 "nbformat": 4,
 "nbformat_minor": 2
}
