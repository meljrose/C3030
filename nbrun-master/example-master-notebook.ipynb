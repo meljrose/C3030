{
 "cells": [
  {
   "cell_type": "markdown",
   "metadata": {},
   "source": [
    "# Master Notebook\n",
    "\n",
    "<p class=lead>This notebook executes a [template notebook](example-template-notebook.ipynb) passing different arguments.\n",
    "<p>\n",
    "\n",
    "## Boilerplate\n",
    "\n",
    "The module `nbrun.py` needs to be importable (i.e. placed in the current folder or in the python path):"
   ]
  },
  {
   "cell_type": "code",
   "execution_count": 1,
   "metadata": {
    "ExecuteTime": {
     "end_time": "2017-07-17T18:38:37.480988",
     "start_time": "2017-07-17T18:38:35.770945"
    },
    "collapsed": false
   },
   "outputs": [],
   "source": [
    "from nbrun import run_notebook"
   ]
  },
  {
   "cell_type": "markdown",
   "metadata": {
    "collapsed": true
   },
   "source": [
    "## Execute notebooks"
   ]
  },
  {
   "cell_type": "code",
   "execution_count": 2,
   "metadata": {
    "ExecuteTime": {
     "end_time": "2017-07-17T18:38:39.662900",
     "start_time": "2017-07-17T18:38:39.657900"
    },
    "collapsed": true
   },
   "outputs": [],
   "source": [
    "nb_name = 'example-template-notebook.ipynb'"
   ]
  },
  {
   "cell_type": "code",
   "execution_count": 3,
   "metadata": {
    "ExecuteTime": {
     "end_time": "2017-07-17T18:39:03.237056",
     "start_time": "2017-07-17T18:38:40.301992"
    },
    "collapsed": false
   },
   "outputs": [
    {
     "data": {
      "text/html": [
       "<a href='example-template-notebook.ipynb' target='_blank'>example-template-notebook.ipynb</a><br>"
      ],
      "text/plain": [
       "/Users/mmcintosh/Dropbox/ASTRON2017/C3030/reduction_scripts/nbrun-master/example-template-notebook.ipynb"
      ]
     },
     "metadata": {},
     "output_type": "display_data"
    },
    {
     "data": {
      "text/html": [
       "<a href='example-template-notebook-out_0_a.ipynb' target='_blank'>example-template-notebook-out_0_a.ipynb</a><br>"
      ],
      "text/plain": [
       "/Users/mmcintosh/Dropbox/ASTRON2017/C3030/reduction_scripts/nbrun-master/example-template-notebook-out_0_a.ipynb"
      ]
     },
     "metadata": {},
     "output_type": "display_data"
    },
    {
     "data": {
      "text/html": [
       "<a href='example-template-notebook.ipynb' target='_blank'>example-template-notebook.ipynb</a><br>"
      ],
      "text/plain": [
       "/Users/mmcintosh/Dropbox/ASTRON2017/C3030/reduction_scripts/nbrun-master/example-template-notebook.ipynb"
      ]
     },
     "metadata": {},
     "output_type": "display_data"
    },
    {
     "data": {
      "text/html": [
       "<a href='example-template-notebook-out_0_b.ipynb' target='_blank'>example-template-notebook-out_0_b.ipynb</a><br>"
      ],
      "text/plain": [
       "/Users/mmcintosh/Dropbox/ASTRON2017/C3030/reduction_scripts/nbrun-master/example-template-notebook-out_0_b.ipynb"
      ]
     },
     "metadata": {},
     "output_type": "display_data"
    },
    {
     "data": {
      "text/html": [
       "<a href='example-template-notebook.ipynb' target='_blank'>example-template-notebook.ipynb</a><br>"
      ],
      "text/plain": [
       "/Users/mmcintosh/Dropbox/ASTRON2017/C3030/reduction_scripts/nbrun-master/example-template-notebook.ipynb"
      ]
     },
     "metadata": {},
     "output_type": "display_data"
    },
    {
     "data": {
      "text/html": [
       "<a href='example-template-notebook-out_0_c.ipynb' target='_blank'>example-template-notebook-out_0_c.ipynb</a><br>"
      ],
      "text/plain": [
       "/Users/mmcintosh/Dropbox/ASTRON2017/C3030/reduction_scripts/nbrun-master/example-template-notebook-out_0_c.ipynb"
      ]
     },
     "metadata": {},
     "output_type": "display_data"
    },
    {
     "data": {
      "text/html": [
       "<a href='example-template-notebook.ipynb' target='_blank'>example-template-notebook.ipynb</a><br>"
      ],
      "text/plain": [
       "/Users/mmcintosh/Dropbox/ASTRON2017/C3030/reduction_scripts/nbrun-master/example-template-notebook.ipynb"
      ]
     },
     "metadata": {},
     "output_type": "display_data"
    },
    {
     "data": {
      "text/html": [
       "<a href='example-template-notebook-out_1_a.ipynb' target='_blank'>example-template-notebook-out_1_a.ipynb</a><br>"
      ],
      "text/plain": [
       "/Users/mmcintosh/Dropbox/ASTRON2017/C3030/reduction_scripts/nbrun-master/example-template-notebook-out_1_a.ipynb"
      ]
     },
     "metadata": {},
     "output_type": "display_data"
    },
    {
     "data": {
      "text/html": [
       "<a href='example-template-notebook.ipynb' target='_blank'>example-template-notebook.ipynb</a><br>"
      ],
      "text/plain": [
       "/Users/mmcintosh/Dropbox/ASTRON2017/C3030/reduction_scripts/nbrun-master/example-template-notebook.ipynb"
      ]
     },
     "metadata": {},
     "output_type": "display_data"
    },
    {
     "data": {
      "text/html": [
       "<a href='example-template-notebook-out_1_b.ipynb' target='_blank'>example-template-notebook-out_1_b.ipynb</a><br>"
      ],
      "text/plain": [
       "/Users/mmcintosh/Dropbox/ASTRON2017/C3030/reduction_scripts/nbrun-master/example-template-notebook-out_1_b.ipynb"
      ]
     },
     "metadata": {},
     "output_type": "display_data"
    },
    {
     "data": {
      "text/html": [
       "<a href='example-template-notebook.ipynb' target='_blank'>example-template-notebook.ipynb</a><br>"
      ],
      "text/plain": [
       "/Users/mmcintosh/Dropbox/ASTRON2017/C3030/reduction_scripts/nbrun-master/example-template-notebook.ipynb"
      ]
     },
     "metadata": {},
     "output_type": "display_data"
    },
    {
     "data": {
      "text/html": [
       "<a href='example-template-notebook-out_1_c.ipynb' target='_blank'>example-template-notebook-out_1_c.ipynb</a><br>"
      ],
      "text/plain": [
       "/Users/mmcintosh/Dropbox/ASTRON2017/C3030/reduction_scripts/nbrun-master/example-template-notebook-out_1_c.ipynb"
      ]
     },
     "metadata": {},
     "output_type": "display_data"
    },
    {
     "data": {
      "text/html": [
       "<a href='example-template-notebook.ipynb' target='_blank'>example-template-notebook.ipynb</a><br>"
      ],
      "text/plain": [
       "/Users/mmcintosh/Dropbox/ASTRON2017/C3030/reduction_scripts/nbrun-master/example-template-notebook.ipynb"
      ]
     },
     "metadata": {},
     "output_type": "display_data"
    },
    {
     "data": {
      "text/html": [
       "<a href='example-template-notebook-out_2_a.ipynb' target='_blank'>example-template-notebook-out_2_a.ipynb</a><br>"
      ],
      "text/plain": [
       "/Users/mmcintosh/Dropbox/ASTRON2017/C3030/reduction_scripts/nbrun-master/example-template-notebook-out_2_a.ipynb"
      ]
     },
     "metadata": {},
     "output_type": "display_data"
    },
    {
     "data": {
      "text/html": [
       "<a href='example-template-notebook.ipynb' target='_blank'>example-template-notebook.ipynb</a><br>"
      ],
      "text/plain": [
       "/Users/mmcintosh/Dropbox/ASTRON2017/C3030/reduction_scripts/nbrun-master/example-template-notebook.ipynb"
      ]
     },
     "metadata": {},
     "output_type": "display_data"
    },
    {
     "data": {
      "text/html": [
       "<a href='example-template-notebook-out_2_b.ipynb' target='_blank'>example-template-notebook-out_2_b.ipynb</a><br>"
      ],
      "text/plain": [
       "/Users/mmcintosh/Dropbox/ASTRON2017/C3030/reduction_scripts/nbrun-master/example-template-notebook-out_2_b.ipynb"
      ]
     },
     "metadata": {},
     "output_type": "display_data"
    },
    {
     "data": {
      "text/html": [
       "<a href='example-template-notebook.ipynb' target='_blank'>example-template-notebook.ipynb</a><br>"
      ],
      "text/plain": [
       "/Users/mmcintosh/Dropbox/ASTRON2017/C3030/reduction_scripts/nbrun-master/example-template-notebook.ipynb"
      ]
     },
     "metadata": {},
     "output_type": "display_data"
    },
    {
     "data": {
      "text/html": [
       "<a href='example-template-notebook-out_2_c.ipynb' target='_blank'>example-template-notebook-out_2_c.ipynb</a><br>"
      ],
      "text/plain": [
       "/Users/mmcintosh/Dropbox/ASTRON2017/C3030/reduction_scripts/nbrun-master/example-template-notebook-out_2_c.ipynb"
      ]
     },
     "metadata": {},
     "output_type": "display_data"
    }
   ],
   "source": [
    "for data_id in (0, 1, 2):\n",
    "    for analysis_type in ('a', 'b', 'c'):\n",
    "        nb_kwargs = {'data_id': data_id, 'analysis_type': analysis_type}\n",
    "        run_notebook(nb_name, nb_suffix='-out_%d_%s' % (data_id, analysis_type), nb_kwargs=nb_kwargs)"
   ]
  },
  {
   "cell_type": "markdown",
   "metadata": {},
   "source": [
    "# How to Avoid Breaking Links\n",
    "\n",
    "Running `run_notebook()` generates and displays links to the\n",
    "template and output notebooks. Nbrun can generate broken links\n",
    "if one of the following conditions are not true.\n",
    "\n",
    "First, the template and output notebooks need to be\n",
    "accessible to the jupyter notebook, so they need to be in a subfolder of the\n",
    "jupyter notebook startup foder.\n",
    "\n",
    "Second, when calling `notebook_run`, the python working directory needs to be the same \n",
    "as the current notebook (which is the default for new kernels). \n",
    "If the user doesn't change dir (using `cd` or `os.chdir`) \n",
    "before calling `notebook_run`, the links are correctly generated.\n",
    "If the user needs to change dir, it should change it back to the \n",
    "current notebook folder before calling `run_notebook`, otherwise\n",
    "the links will be broken."
   ]
  }
 ],
 "metadata": {
  "hide_input": false,
  "kernelspec": {
   "display_name": "Python 3",
   "language": "python",
   "name": "python3"
  },
  "language_info": {
   "codemirror_mode": {
    "name": "ipython",
    "version": 3
   },
   "file_extension": ".py",
   "mimetype": "text/x-python",
   "name": "python",
   "nbconvert_exporter": "python",
   "pygments_lexer": "ipython3",
   "version": "3.4.5"
  },
  "latex_envs": {
   "bibliofile": "biblio.bib",
   "cite_by": "apalike",
   "current_citInitial": 1,
   "eqLabelWithNumbers": true,
   "eqNumInitial": 0
  },
  "toc": {
   "colors": {
    "hover_highlight": "#DAA520",
    "running_highlight": "#FF0000",
    "selected_highlight": "#FFD700"
   },
   "moveMenuLeft": true,
   "nav_menu": {
    "height": "84px",
    "width": "252px"
   },
   "navigate_menu": true,
   "number_sections": true,
   "sideBar": true,
   "threshold": 4,
   "toc_cell": false,
   "toc_section_display": "block",
   "toc_window_display": false,
   "widenNotebook": false
  }
 },
 "nbformat": 4,
 "nbformat_minor": 0
}
