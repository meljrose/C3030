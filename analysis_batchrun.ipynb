{
 "cells": [
  {
   "cell_type": "markdown",
   "metadata": {
    "ExecuteTime": {
     "end_time": "2017-07-17T16:58:16.396010",
     "start_time": "2017-07-17T16:58:16.388624"
    }
   },
   "source": [
    "# Batch Run analysis script"
   ]
  },
  {
   "cell_type": "markdown",
   "metadata": {},
   "source": [
    "2017-07-17 M.J.Rose\n",
    "\n",
    "Heavily borrowed from https://github.com/tritemio/nbrun"
   ]
  },
  {
   "cell_type": "markdown",
   "metadata": {
    "ExecuteTime": {
     "end_time": "2017-07-17T18:58:45.626973",
     "start_time": "2017-07-17T18:58:45.608615"
    }
   },
   "source": [
    "<p class=lead>This notebook executes a [template notebook](C3030_modeling_template.ipynb) passing different arguments.\n",
    "<p>\n",
    "\n",
    "The module `nbrun.py` needs to be importable (i.e. placed in the current folder or in the python path):"
   ]
  },
  {
   "cell_type": "code",
   "execution_count": 2,
   "metadata": {
    "ExecuteTime": {
     "end_time": "2017-07-27T16:44:42.763412",
     "start_time": "2017-07-27T16:44:29.969805"
    },
    "collapsed": false
   },
   "outputs": [],
   "source": [
    "from nbrun import run_notebook\n",
    "import os, sys\n",
    "import pandas as pd\n",
    "from reduction_funcs import recursive_glob"
   ]
  },
  {
   "cell_type": "code",
   "execution_count": 3,
   "metadata": {
    "ExecuteTime": {
     "end_time": "2017-07-27T16:44:42.782018",
     "start_time": "2017-07-27T16:44:42.765387"
    },
    "collapsed": false
   },
   "outputs": [
    {
     "name": "stdout",
     "output_type": "stream",
     "text": [
      "version information\n",
      "posix.uname_result(sysname='Darwin', nodename='Missys-MacBook-Air.local', release='16.6.0', version='Darwin Kernel Version 16.6.0: Fri Apr 14 16:21:16 PDT 2017; root:xnu-3789.60.24~6/RELEASE_X86_64', machine='x86_64')\n",
      "3.4.5 |Anaconda 2.3.0 (x86_64)| (default, Jul  2 2016, 17:47:57) \n",
      "[GCC 4.2.1 Compatible Apple LLVM 4.2 (clang-425.0.28)]\n",
      "path 0.0.0\n",
      "os unknown\n",
      "sys unknown\n",
      "scripts saved in: /Users/mmcintosh/Dropbox/ASTRON2017/C3030/scripts/model_nbs\n",
      "images saved in: /Users/mmcintosh/Dropbox/ASTRON2017/C3030/model_plots/\n",
      "evidence values saved in: /Users/mmcintosh/Dropbox/ASTRON2017/C3030/model_ev/\n"
     ]
    }
   ],
   "source": [
    "# template name\n",
    "nb_name = 'C3030_modeling_template.ipynb'\n",
    "# where you keep the notebooks you generate with this script\n",
    "notebook_dir = '/Users/mmcintosh/Dropbox/ASTRON2017/C3030/scripts/model_nbs'\n",
    "# where you want to save key pngs for quick reference\n",
    "image_dir = \"/Users/mmcintosh/Dropbox/ASTRON2017/C3030/model_plots/\"\n",
    "# where you want to save files with evidence values for quick ref\n",
    "model_ev_dir = \"/Users/mmcintosh/Dropbox/ASTRON2017/C3030/model_ev/\"\n",
    "\n",
    "for path in [notebook_dir, image_dir, model_ev_dir]:\n",
    "    if not os.path.exists(path):\n",
    "        os.makedirs(path)\n",
    "\n",
    "# print out version information\n",
    "print('version information')\n",
    "print(os.uname())\n",
    "print(sys.version)\n",
    "modules = list(set(sys.modules) & set(globals()))\n",
    "for module_name in modules:\n",
    "    module = sys.modules[module_name]\n",
    "    print (module_name, getattr(module, '__version__', 'unknown'))\n",
    "    \n",
    "    \n",
    "# image directories  \n",
    "print('scripts saved in: {0}'.format(notebook_dir))\n",
    "print('images saved in: {0}'.format(image_dir))\n",
    "print('evidence values saved in: {0}'.format(model_ev_dir))"
   ]
  },
  {
   "cell_type": "markdown",
   "metadata": {
    "heading_collapsed": true
   },
   "source": [
    "# Running a single notebook"
   ]
  },
  {
   "cell_type": "code",
   "execution_count": 6,
   "metadata": {
    "ExecuteTime": {
     "end_time": "2017-07-27T17:22:09.157501",
     "start_time": "2017-07-27T17:22:08.714887"
    },
    "collapsed": false,
    "hidden": true
   },
   "outputs": [],
   "source": [
    "# read in list of source names and set up a new dataframe to save results to \n",
    "if not os.path.exists(model_ev_dir+'modeled_df.pkl'):\n",
    "    # read in data\n",
    "    sedfile = 'sed_df.pkl'\n",
    "    sed_loc = os.getcwd()+\"/\"+sedfile\n",
    "    sed_df = pd.read_pickle(sed_loc)\n",
    "    sed_df.to_pickle(model_ev_dir+'modeled_df.pkl')\n",
    "sed_df = pd.read_pickle(model_ev_dir+'modeled_df.pkl')\n",
    "    \n",
    "    \n",
    "# default args\n",
    "interactive = False\n",
    "nwalkers = 150 \n",
    "nsteps = 2000 \n",
    "burnin = 500"
   ]
  },
  {
   "cell_type": "code",
   "execution_count": 7,
   "metadata": {
    "ExecuteTime": {
     "end_time": "2017-07-27T17:40:05.872565",
     "start_time": "2017-07-27T17:22:09.336651"
    },
    "collapsed": false,
    "hidden": true
   },
   "outputs": [
    {
     "name": "stdout",
     "output_type": "stream",
     "text": [
      "Error executing the notebook \"C3030_modeling_template.ipynb\".\n",
      "\n",
      "See notebook \"model_nbs/C3030_modeling_template-out_j174425-5144.ipynb\" for the traceback.\n"
     ]
    },
    {
     "data": {
      "text/html": [
       "<a href='model_nbs/C3030_modeling_template-out_j174425-5144.ipynb' target='_blank'>model_nbs/C3030_modeling_template-out_j174425-5144.ipynb</a><br>"
      ],
      "text/plain": [
       "/Users/mmcintosh/Dropbox/ASTRON2017/C3030/scripts/model_nbs/C3030_modeling_template-out_j174425-5144.ipynb"
      ]
     },
     "metadata": {},
     "output_type": "display_data"
    },
    {
     "ename": "KeyboardInterrupt",
     "evalue": "",
     "output_type": "error",
     "traceback": [
      "\u001b[0;31m---------------------------------------------------------------------------\u001b[0m",
      "\u001b[0;31mKeyboardInterrupt\u001b[0m                         Traceback (most recent call last)",
      "\u001b[0;32m<ipython-input-7-e3042215c4d5>\u001b[0m in \u001b[0;36m<module>\u001b[0;34m()\u001b[0m\n\u001b[1;32m      7\u001b[0m \u001b[0mnb_suffix\u001b[0m\u001b[0;34m=\u001b[0m\u001b[0;34m'-out_{0}'\u001b[0m\u001b[0;34m.\u001b[0m\u001b[0mformat\u001b[0m\u001b[0;34m(\u001b[0m\u001b[0mname\u001b[0m\u001b[0;34m)\u001b[0m\u001b[0;34m\u001b[0m\u001b[0m\n\u001b[1;32m      8\u001b[0m \u001b[0;34m\u001b[0m\u001b[0m\n\u001b[0;32m----> 9\u001b[0;31m \u001b[0mrun_notebook\u001b[0m\u001b[0;34m(\u001b[0m\u001b[0mnb_name\u001b[0m\u001b[0;34m,\u001b[0m \u001b[0mnb_suffix\u001b[0m\u001b[0;34m=\u001b[0m\u001b[0mnb_suffix\u001b[0m\u001b[0;34m,\u001b[0m \u001b[0mnb_kwargs\u001b[0m\u001b[0;34m=\u001b[0m\u001b[0mnb_kwargs\u001b[0m\u001b[0;34m,\u001b[0m \u001b[0mhide_input\u001b[0m\u001b[0;34m=\u001b[0m\u001b[0;32mFalse\u001b[0m\u001b[0;34m,\u001b[0m\u001b[0minsert_pos\u001b[0m\u001b[0;34m=\u001b[0m\u001b[0;36m3\u001b[0m\u001b[0;34m,\u001b[0m \u001b[0mout_path\u001b[0m\u001b[0;34m=\u001b[0m\u001b[0;34m'model_nbs/'\u001b[0m\u001b[0;34m)\u001b[0m\u001b[0;34m\u001b[0m\u001b[0m\n\u001b[0m",
      "\u001b[0;32m/Users/mmcintosh/Dropbox/ASTRON2017/C3030/scripts/nbrun.py\u001b[0m in \u001b[0;36mrun_notebook\u001b[0;34m(notebook_path, out_path, nb_suffix, nb_kwargs, hide_input, insert_pos, timeout, execute_kwargs)\u001b[0m\n\u001b[1;32m    115\u001b[0m     \u001b[0;32mtry\u001b[0m\u001b[0;34m:\u001b[0m\u001b[0;34m\u001b[0m\u001b[0m\n\u001b[1;32m    116\u001b[0m         \u001b[0;31m# Execute the notebook\u001b[0m\u001b[0;34m\u001b[0m\u001b[0;34m\u001b[0m\u001b[0m\n\u001b[0;32m--> 117\u001b[0;31m         \u001b[0mep\u001b[0m\u001b[0;34m.\u001b[0m\u001b[0mpreprocess\u001b[0m\u001b[0;34m(\u001b[0m\u001b[0mnb\u001b[0m\u001b[0;34m,\u001b[0m \u001b[0;34m{\u001b[0m\u001b[0;34m'metadata'\u001b[0m\u001b[0;34m:\u001b[0m \u001b[0;34m{\u001b[0m\u001b[0;34m'path'\u001b[0m\u001b[0;34m:\u001b[0m \u001b[0;34m'./'\u001b[0m\u001b[0;34m}\u001b[0m\u001b[0;34m}\u001b[0m\u001b[0;34m)\u001b[0m\u001b[0;34m\u001b[0m\u001b[0m\n\u001b[0m\u001b[1;32m    118\u001b[0m     \u001b[0;32mexcept\u001b[0m\u001b[0;34m:\u001b[0m\u001b[0;34m\u001b[0m\u001b[0m\n\u001b[1;32m    119\u001b[0m         \u001b[0;31m# Execution failed, print a message then raise.\u001b[0m\u001b[0;34m\u001b[0m\u001b[0;34m\u001b[0m\u001b[0m\n",
      "\u001b[0;32m/Users/mmcintosh/anaconda/lib/python3.4/site-packages/nbconvert/preprocessors/execute.py\u001b[0m in \u001b[0;36mpreprocess\u001b[0;34m(self, nb, resources)\u001b[0m\n\u001b[1;32m    143\u001b[0m \u001b[0;34m\u001b[0m\u001b[0m\n\u001b[1;32m    144\u001b[0m         \u001b[0;32mtry\u001b[0m\u001b[0;34m:\u001b[0m\u001b[0;34m\u001b[0m\u001b[0m\n\u001b[0;32m--> 145\u001b[0;31m             \u001b[0mnb\u001b[0m\u001b[0;34m,\u001b[0m \u001b[0mresources\u001b[0m \u001b[0;34m=\u001b[0m \u001b[0msuper\u001b[0m\u001b[0;34m(\u001b[0m\u001b[0mExecutePreprocessor\u001b[0m\u001b[0;34m,\u001b[0m \u001b[0mself\u001b[0m\u001b[0;34m)\u001b[0m\u001b[0;34m.\u001b[0m\u001b[0mpreprocess\u001b[0m\u001b[0;34m(\u001b[0m\u001b[0mnb\u001b[0m\u001b[0;34m,\u001b[0m \u001b[0mresources\u001b[0m\u001b[0;34m)\u001b[0m\u001b[0;34m\u001b[0m\u001b[0m\n\u001b[0m\u001b[1;32m    146\u001b[0m         \u001b[0;32mfinally\u001b[0m\u001b[0;34m:\u001b[0m\u001b[0;34m\u001b[0m\u001b[0m\n\u001b[1;32m    147\u001b[0m             \u001b[0mself\u001b[0m\u001b[0;34m.\u001b[0m\u001b[0mkc\u001b[0m\u001b[0;34m.\u001b[0m\u001b[0mstop_channels\u001b[0m\u001b[0;34m(\u001b[0m\u001b[0;34m)\u001b[0m\u001b[0;34m\u001b[0m\u001b[0m\n",
      "\u001b[0;32m/Users/mmcintosh/anaconda/lib/python3.4/site-packages/nbconvert/preprocessors/base.py\u001b[0m in \u001b[0;36mpreprocess\u001b[0;34m(self, nb, resources)\u001b[0m\n\u001b[1;32m     68\u001b[0m         \"\"\"\n\u001b[1;32m     69\u001b[0m         \u001b[0;32mfor\u001b[0m \u001b[0mindex\u001b[0m\u001b[0;34m,\u001b[0m \u001b[0mcell\u001b[0m \u001b[0;32min\u001b[0m \u001b[0menumerate\u001b[0m\u001b[0;34m(\u001b[0m\u001b[0mnb\u001b[0m\u001b[0;34m.\u001b[0m\u001b[0mcells\u001b[0m\u001b[0;34m)\u001b[0m\u001b[0;34m:\u001b[0m\u001b[0;34m\u001b[0m\u001b[0m\n\u001b[0;32m---> 70\u001b[0;31m             \u001b[0mnb\u001b[0m\u001b[0;34m.\u001b[0m\u001b[0mcells\u001b[0m\u001b[0;34m[\u001b[0m\u001b[0mindex\u001b[0m\u001b[0;34m]\u001b[0m\u001b[0;34m,\u001b[0m \u001b[0mresources\u001b[0m \u001b[0;34m=\u001b[0m \u001b[0mself\u001b[0m\u001b[0;34m.\u001b[0m\u001b[0mpreprocess_cell\u001b[0m\u001b[0;34m(\u001b[0m\u001b[0mcell\u001b[0m\u001b[0;34m,\u001b[0m \u001b[0mresources\u001b[0m\u001b[0;34m,\u001b[0m \u001b[0mindex\u001b[0m\u001b[0;34m)\u001b[0m\u001b[0;34m\u001b[0m\u001b[0m\n\u001b[0m\u001b[1;32m     71\u001b[0m         \u001b[0;32mreturn\u001b[0m \u001b[0mnb\u001b[0m\u001b[0;34m,\u001b[0m \u001b[0mresources\u001b[0m\u001b[0;34m\u001b[0m\u001b[0m\n\u001b[1;32m     72\u001b[0m \u001b[0;34m\u001b[0m\u001b[0m\n",
      "\u001b[0;32m/Users/mmcintosh/anaconda/lib/python3.4/site-packages/nbconvert/preprocessors/execute.py\u001b[0m in \u001b[0;36mpreprocess_cell\u001b[0;34m(self, cell, resources, cell_index)\u001b[0m\n\u001b[1;32m    159\u001b[0m             \u001b[0;32mreturn\u001b[0m \u001b[0mcell\u001b[0m\u001b[0;34m,\u001b[0m \u001b[0mresources\u001b[0m\u001b[0;34m\u001b[0m\u001b[0m\n\u001b[1;32m    160\u001b[0m \u001b[0;34m\u001b[0m\u001b[0m\n\u001b[0;32m--> 161\u001b[0;31m         \u001b[0moutputs\u001b[0m \u001b[0;34m=\u001b[0m \u001b[0mself\u001b[0m\u001b[0;34m.\u001b[0m\u001b[0mrun_cell\u001b[0m\u001b[0;34m(\u001b[0m\u001b[0mcell\u001b[0m\u001b[0;34m)\u001b[0m\u001b[0;34m\u001b[0m\u001b[0m\n\u001b[0m\u001b[1;32m    162\u001b[0m         \u001b[0mcell\u001b[0m\u001b[0;34m.\u001b[0m\u001b[0moutputs\u001b[0m \u001b[0;34m=\u001b[0m \u001b[0moutputs\u001b[0m\u001b[0;34m\u001b[0m\u001b[0m\n\u001b[1;32m    163\u001b[0m \u001b[0;34m\u001b[0m\u001b[0m\n",
      "\u001b[0;32m/Users/mmcintosh/anaconda/lib/python3.4/site-packages/nbconvert/preprocessors/execute.py\u001b[0m in \u001b[0;36mrun_cell\u001b[0;34m(self, cell)\u001b[0m\n\u001b[1;32m    187\u001b[0m                 \u001b[0;32mif\u001b[0m \u001b[0mtimeout\u001b[0m \u001b[0;34m<\u001b[0m \u001b[0;36m0\u001b[0m\u001b[0;34m:\u001b[0m\u001b[0;34m\u001b[0m\u001b[0m\n\u001b[1;32m    188\u001b[0m                     \u001b[0mtimeout\u001b[0m \u001b[0;34m=\u001b[0m \u001b[0;32mNone\u001b[0m\u001b[0;34m\u001b[0m\u001b[0m\n\u001b[0;32m--> 189\u001b[0;31m                 \u001b[0mmsg\u001b[0m \u001b[0;34m=\u001b[0m \u001b[0mself\u001b[0m\u001b[0;34m.\u001b[0m\u001b[0mkc\u001b[0m\u001b[0;34m.\u001b[0m\u001b[0mshell_channel\u001b[0m\u001b[0;34m.\u001b[0m\u001b[0mget_msg\u001b[0m\u001b[0;34m(\u001b[0m\u001b[0mtimeout\u001b[0m\u001b[0;34m=\u001b[0m\u001b[0mtimeout\u001b[0m\u001b[0;34m)\u001b[0m\u001b[0;34m\u001b[0m\u001b[0m\n\u001b[0m\u001b[1;32m    190\u001b[0m             \u001b[0;32mexcept\u001b[0m \u001b[0mEmpty\u001b[0m\u001b[0;34m:\u001b[0m\u001b[0;34m\u001b[0m\u001b[0m\n\u001b[1;32m    191\u001b[0m                 self.log.error(\"\"\"Timeout waiting for execute reply (%is).\n",
      "\u001b[0;32m/Users/mmcintosh/anaconda/lib/python3.4/site-packages/jupyter_client/blocking/channels.py\u001b[0m in \u001b[0;36mget_msg\u001b[0;34m(self, block, timeout)\u001b[0m\n\u001b[1;32m     48\u001b[0m             \u001b[0;32mif\u001b[0m \u001b[0mtimeout\u001b[0m \u001b[0;32mis\u001b[0m \u001b[0;32mnot\u001b[0m \u001b[0;32mNone\u001b[0m\u001b[0;34m:\u001b[0m\u001b[0;34m\u001b[0m\u001b[0m\n\u001b[1;32m     49\u001b[0m                 \u001b[0mtimeout\u001b[0m \u001b[0;34m*=\u001b[0m \u001b[0;36m1000\u001b[0m  \u001b[0;31m# seconds to ms\u001b[0m\u001b[0;34m\u001b[0m\u001b[0m\n\u001b[0;32m---> 50\u001b[0;31m             \u001b[0mready\u001b[0m \u001b[0;34m=\u001b[0m \u001b[0mself\u001b[0m\u001b[0;34m.\u001b[0m\u001b[0msocket\u001b[0m\u001b[0;34m.\u001b[0m\u001b[0mpoll\u001b[0m\u001b[0;34m(\u001b[0m\u001b[0mtimeout\u001b[0m\u001b[0;34m)\u001b[0m\u001b[0;34m\u001b[0m\u001b[0m\n\u001b[0m\u001b[1;32m     51\u001b[0m         \u001b[0;32melse\u001b[0m\u001b[0;34m:\u001b[0m\u001b[0;34m\u001b[0m\u001b[0m\n\u001b[1;32m     52\u001b[0m             \u001b[0mready\u001b[0m \u001b[0;34m=\u001b[0m \u001b[0mself\u001b[0m\u001b[0;34m.\u001b[0m\u001b[0msocket\u001b[0m\u001b[0;34m.\u001b[0m\u001b[0mpoll\u001b[0m\u001b[0;34m(\u001b[0m\u001b[0mtimeout\u001b[0m\u001b[0;34m=\u001b[0m\u001b[0;36m0\u001b[0m\u001b[0;34m)\u001b[0m\u001b[0;34m\u001b[0m\u001b[0m\n",
      "\u001b[0;32m/Users/mmcintosh/anaconda/lib/python3.4/site-packages/zmq/sugar/socket.py\u001b[0m in \u001b[0;36mpoll\u001b[0;34m(self, timeout, flags)\u001b[0m\n\u001b[1;32m    499\u001b[0m         \u001b[0mp\u001b[0m \u001b[0;34m=\u001b[0m \u001b[0mself\u001b[0m\u001b[0;34m.\u001b[0m\u001b[0m_poller_class\u001b[0m\u001b[0;34m(\u001b[0m\u001b[0;34m)\u001b[0m\u001b[0;34m\u001b[0m\u001b[0m\n\u001b[1;32m    500\u001b[0m         \u001b[0mp\u001b[0m\u001b[0;34m.\u001b[0m\u001b[0mregister\u001b[0m\u001b[0;34m(\u001b[0m\u001b[0mself\u001b[0m\u001b[0;34m,\u001b[0m \u001b[0mflags\u001b[0m\u001b[0;34m)\u001b[0m\u001b[0;34m\u001b[0m\u001b[0m\n\u001b[0;32m--> 501\u001b[0;31m         \u001b[0mevts\u001b[0m \u001b[0;34m=\u001b[0m \u001b[0mdict\u001b[0m\u001b[0;34m(\u001b[0m\u001b[0mp\u001b[0m\u001b[0;34m.\u001b[0m\u001b[0mpoll\u001b[0m\u001b[0;34m(\u001b[0m\u001b[0mtimeout\u001b[0m\u001b[0;34m)\u001b[0m\u001b[0;34m)\u001b[0m\u001b[0;34m\u001b[0m\u001b[0m\n\u001b[0m\u001b[1;32m    502\u001b[0m         \u001b[0;31m# return 0 if no events, otherwise return event bitfield\u001b[0m\u001b[0;34m\u001b[0m\u001b[0;34m\u001b[0m\u001b[0m\n\u001b[1;32m    503\u001b[0m         \u001b[0;32mreturn\u001b[0m \u001b[0mevts\u001b[0m\u001b[0;34m.\u001b[0m\u001b[0mget\u001b[0m\u001b[0;34m(\u001b[0m\u001b[0mself\u001b[0m\u001b[0;34m,\u001b[0m \u001b[0;36m0\u001b[0m\u001b[0;34m)\u001b[0m\u001b[0;34m\u001b[0m\u001b[0m\n",
      "\u001b[0;32m/Users/mmcintosh/anaconda/lib/python3.4/site-packages/zmq/sugar/poll.py\u001b[0m in \u001b[0;36mpoll\u001b[0;34m(self, timeout)\u001b[0m\n\u001b[1;32m     99\u001b[0m         \u001b[0;32melif\u001b[0m \u001b[0misinstance\u001b[0m\u001b[0;34m(\u001b[0m\u001b[0mtimeout\u001b[0m\u001b[0;34m,\u001b[0m \u001b[0mfloat\u001b[0m\u001b[0;34m)\u001b[0m\u001b[0;34m:\u001b[0m\u001b[0;34m\u001b[0m\u001b[0m\n\u001b[1;32m    100\u001b[0m             \u001b[0mtimeout\u001b[0m \u001b[0;34m=\u001b[0m \u001b[0mint\u001b[0m\u001b[0;34m(\u001b[0m\u001b[0mtimeout\u001b[0m\u001b[0;34m)\u001b[0m\u001b[0;34m\u001b[0m\u001b[0m\n\u001b[0;32m--> 101\u001b[0;31m         \u001b[0;32mreturn\u001b[0m \u001b[0mzmq_poll\u001b[0m\u001b[0;34m(\u001b[0m\u001b[0mself\u001b[0m\u001b[0;34m.\u001b[0m\u001b[0msockets\u001b[0m\u001b[0;34m,\u001b[0m \u001b[0mtimeout\u001b[0m\u001b[0;34m=\u001b[0m\u001b[0mtimeout\u001b[0m\u001b[0;34m)\u001b[0m\u001b[0;34m\u001b[0m\u001b[0m\n\u001b[0m\u001b[1;32m    102\u001b[0m \u001b[0;34m\u001b[0m\u001b[0m\n\u001b[1;32m    103\u001b[0m \u001b[0;34m\u001b[0m\u001b[0m\n",
      "\u001b[0;32mzmq/backend/cython/_poll.pyx\u001b[0m in \u001b[0;36mzmq.backend.cython._poll.zmq_poll (zmq/backend/cython/_poll.c:1625)\u001b[0;34m()\u001b[0m\n",
      "\u001b[0;32m/Users/mmcintosh/anaconda/lib/python3.4/site-packages/zmq/backend/cython/checkrc.pxd\u001b[0m in \u001b[0;36mzmq.backend.cython.checkrc._check_rc (zmq/backend/cython/_poll.c:1958)\u001b[0;34m()\u001b[0m\n\u001b[1;32m     10\u001b[0m     \"\"\"\n\u001b[1;32m     11\u001b[0m     \u001b[0mcdef\u001b[0m \u001b[0mint\u001b[0m \u001b[0merrno\u001b[0m \u001b[0;34m=\u001b[0m \u001b[0mzmq_errno\u001b[0m\u001b[0;34m(\u001b[0m\u001b[0;34m)\u001b[0m\u001b[0;34m\u001b[0m\u001b[0m\n\u001b[0;32m---> 12\u001b[0;31m     \u001b[0mPyErr_CheckSignals\u001b[0m\u001b[0;34m(\u001b[0m\u001b[0;34m)\u001b[0m\u001b[0;34m\u001b[0m\u001b[0m\n\u001b[0m\u001b[1;32m     13\u001b[0m     \u001b[0;32mif\u001b[0m \u001b[0mrc\u001b[0m \u001b[0;34m<\u001b[0m \u001b[0;36m0\u001b[0m\u001b[0;34m:\u001b[0m\u001b[0;34m\u001b[0m\u001b[0m\n\u001b[1;32m     14\u001b[0m         \u001b[0;32mif\u001b[0m \u001b[0merrno\u001b[0m \u001b[0;34m==\u001b[0m \u001b[0mEINTR\u001b[0m\u001b[0;34m:\u001b[0m\u001b[0;34m\u001b[0m\u001b[0m\n",
      "\u001b[0;31mKeyboardInterrupt\u001b[0m: "
     ]
    }
   ],
   "source": [
    "\n",
    "# by default, the template does analysis for pks1740-649\n",
    "# here, we pick out one source to reduce\n",
    "source_index, name = [(i, name) for i,name in enumerate(sed_df.name.values) if '1744' in name][0]\n",
    "\n",
    "nb_kwargs = {'source_index': source_index, 'interactive': interactive, 'nwalkers':nwalkers, 'nsteps':nsteps, 'burnin':burnin}\n",
    "nb_suffix='-out_{0}'.format(name)\n",
    "\n",
    "run_notebook(nb_name, nb_suffix=nb_suffix, nb_kwargs=nb_kwargs, hide_input=False,insert_pos=3, out_path='model_nbs/')"
   ]
  },
  {
   "cell_type": "markdown",
   "metadata": {},
   "source": [
    "# Looping over notebooks"
   ]
  },
  {
   "cell_type": "code",
   "execution_count": 15,
   "metadata": {
    "ExecuteTime": {
     "end_time": "2017-07-31T16:16:10.773251",
     "start_time": "2017-07-31T16:16:03.614990"
    },
    "collapsed": false
   },
   "outputs": [],
   "source": [
    "# set up to loop over sources\n",
    "iterlist_all = sed_df.index.tolist()\n",
    "\n",
    "# select those with ATCA data\n",
    "uvfmeas_paths = []\n",
    "for p in [\"/Volumes/mjrose/C3030/\"]:\n",
    "    path = p\n",
    "    regex = 'uvfmeaslog*'\n",
    "    uvfmeas_paths.extend(recursive_glob(path, regex))\n",
    "\n",
    "missing_uv = []\n",
    "for i in sed_df.index.tolist():\n",
    "    name = sed_df.loc[i]['name']\n",
    "    if not isinstance(name, str):\n",
    "        name = name[0]\n",
    "\n",
    "    path = [s for s in uvfmeas_paths if name in s]\n",
    "    if path == []:\n",
    "        path = [s for s in uvfmeas_paths if name.split('pks')[-1] in s]\n",
    "    if path == []:\n",
    "        path = [s for s in uvfmeas_paths if name.split('mwacsj')[-1] in s]\n",
    "    if path == []:\n",
    "        path = [s for s in uvfmeas_paths if name.split('mwacsj')[-1].split('-')[0] in s]\n",
    "    if path == []:\n",
    "        missing_uv.append(i)\n",
    "        \n",
    "iterlist_ATCAonly = [i for i in iterlist_all if i not in missing_uv]"
   ]
  },
  {
   "cell_type": "code",
   "execution_count": 16,
   "metadata": {
    "ExecuteTime": {
     "end_time": "2017-08-02T19:46:34.158663",
     "start_time": "2017-07-31T16:16:28.516209"
    },
    "collapsed": false,
    "scrolled": false
   },
   "outputs": [
    {
     "name": "stdout",
     "output_type": "stream",
     "text": [
      "Error executing the notebook \"C3030_modeling_template.ipynb\".\n",
      "\n",
      "See notebook \"model_nbs/C3030_modeling_template-out_j212155-6404.ipynb\" for the traceback.\n"
     ]
    },
    {
     "data": {
      "text/html": [
       "<a href='model_nbs/C3030_modeling_template-out_j212155-6404.ipynb' target='_blank'>model_nbs/C3030_modeling_template-out_j212155-6404.ipynb</a><br>"
      ],
      "text/plain": [
       "/Users/mmcintosh/Dropbox/ASTRON2017/C3030/scripts/model_nbs/C3030_modeling_template-out_j212155-6404.ipynb"
      ]
     },
     "metadata": {},
     "output_type": "display_data"
    },
    {
     "data": {
      "text/html": [
       "<a href='model_nbs/C3030_modeling_template-out_j231326-5343.ipynb' target='_blank'>model_nbs/C3030_modeling_template-out_j231326-5343.ipynb</a><br>"
      ],
      "text/plain": [
       "/Users/mmcintosh/Dropbox/ASTRON2017/C3030/scripts/model_nbs/C3030_modeling_template-out_j231326-5343.ipynb"
      ]
     },
     "metadata": {},
     "output_type": "display_data"
    },
    {
     "data": {
      "text/html": [
       "<a href='model_nbs/C3030_modeling_template-out_j213801-4646.ipynb' target='_blank'>model_nbs/C3030_modeling_template-out_j213801-4646.ipynb</a><br>"
      ],
      "text/plain": [
       "/Users/mmcintosh/Dropbox/ASTRON2017/C3030/scripts/model_nbs/C3030_modeling_template-out_j213801-4646.ipynb"
      ]
     },
     "metadata": {},
     "output_type": "display_data"
    },
    {
     "name": "stdout",
     "output_type": "stream",
     "text": [
      "Error executing the notebook \"C3030_modeling_template.ipynb\".\n",
      "\n",
      "See notebook \"model_nbs/C3030_modeling_template-out_2311-452.ipynb\" for the traceback.\n"
     ]
    },
    {
     "data": {
      "text/html": [
       "<a href='model_nbs/C3030_modeling_template-out_2311-452.ipynb' target='_blank'>model_nbs/C3030_modeling_template-out_2311-452.ipynb</a><br>"
      ],
      "text/plain": [
       "/Users/mmcintosh/Dropbox/ASTRON2017/C3030/scripts/model_nbs/C3030_modeling_template-out_2311-452.ipynb"
      ]
     },
     "metadata": {},
     "output_type": "display_data"
    },
    {
     "data": {
      "text/html": [
       "<a href='model_nbs/C3030_modeling_template-out_j221438-3835.ipynb' target='_blank'>model_nbs/C3030_modeling_template-out_j221438-3835.ipynb</a><br>"
      ],
      "text/plain": [
       "/Users/mmcintosh/Dropbox/ASTRON2017/C3030/scripts/model_nbs/C3030_modeling_template-out_j221438-3835.ipynb"
      ]
     },
     "metadata": {},
     "output_type": "display_data"
    },
    {
     "data": {
      "text/html": [
       "<a href='model_nbs/C3030_modeling_template-out_pks2254-367.ipynb' target='_blank'>model_nbs/C3030_modeling_template-out_pks2254-367.ipynb</a><br>"
      ],
      "text/plain": [
       "/Users/mmcintosh/Dropbox/ASTRON2017/C3030/scripts/model_nbs/C3030_modeling_template-out_pks2254-367.ipynb"
      ]
     },
     "metadata": {},
     "output_type": "display_data"
    },
    {
     "name": "stdout",
     "output_type": "stream",
     "text": [
      "Error executing the notebook \"C3030_modeling_template.ipynb\".\n",
      "\n",
      "See notebook \"model_nbs/C3030_modeling_template-out_mwacsj2352.4-3316.ipynb\" for the traceback.\n"
     ]
    },
    {
     "data": {
      "text/html": [
       "<a href='model_nbs/C3030_modeling_template-out_mwacsj2352.4-3316.ipynb' target='_blank'>model_nbs/C3030_modeling_template-out_mwacsj2352.4-3316.ipynb</a><br>"
      ],
      "text/plain": [
       "/Users/mmcintosh/Dropbox/ASTRON2017/C3030/scripts/model_nbs/C3030_modeling_template-out_mwacsj2352.4-3316.ipynb"
      ]
     },
     "metadata": {},
     "output_type": "display_data"
    },
    {
     "data": {
      "text/html": [
       "<a href='model_nbs/C3030_modeling_template-out_j221942-2756.ipynb' target='_blank'>model_nbs/C3030_modeling_template-out_j221942-2756.ipynb</a><br>"
      ],
      "text/plain": [
       "/Users/mmcintosh/Dropbox/ASTRON2017/C3030/scripts/model_nbs/C3030_modeling_template-out_j221942-2756.ipynb"
      ]
     },
     "metadata": {},
     "output_type": "display_data"
    },
    {
     "data": {
      "text/html": [
       "<a href='model_nbs/C3030_modeling_template-out_j212921-1821.ipynb' target='_blank'>model_nbs/C3030_modeling_template-out_j212921-1821.ipynb</a><br>"
      ],
      "text/plain": [
       "/Users/mmcintosh/Dropbox/ASTRON2017/C3030/scripts/model_nbs/C3030_modeling_template-out_j212921-1821.ipynb"
      ]
     },
     "metadata": {},
     "output_type": "display_data"
    },
    {
     "data": {
      "text/html": [
       "<a href='model_nbs/C3030_modeling_template-out_j225053-1204.ipynb' target='_blank'>model_nbs/C3030_modeling_template-out_j225053-1204.ipynb</a><br>"
      ],
      "text/plain": [
       "/Users/mmcintosh/Dropbox/ASTRON2017/C3030/scripts/model_nbs/C3030_modeling_template-out_j225053-1204.ipynb"
      ]
     },
     "metadata": {},
     "output_type": "display_data"
    },
    {
     "name": "stdout",
     "output_type": "stream",
     "text": [
      "Error executing the notebook \"C3030_modeling_template.ipynb\".\n",
      "\n",
      "See notebook \"model_nbs/C3030_modeling_template-out_4c-06.76.ipynb\" for the traceback.\n"
     ]
    },
    {
     "data": {
      "text/html": [
       "<a href='model_nbs/C3030_modeling_template-out_4c-06.76.ipynb' target='_blank'>model_nbs/C3030_modeling_template-out_4c-06.76.ipynb</a><br>"
      ],
      "text/plain": [
       "/Users/mmcintosh/Dropbox/ASTRON2017/C3030/scripts/model_nbs/C3030_modeling_template-out_4c-06.76.ipynb"
      ]
     },
     "metadata": {},
     "output_type": "display_data"
    },
    {
     "data": {
      "text/html": [
       "<a href='model_nbs/C3030_modeling_template-out_pks2121-01.ipynb' target='_blank'>model_nbs/C3030_modeling_template-out_pks2121-01.ipynb</a><br>"
      ],
      "text/plain": [
       "/Users/mmcintosh/Dropbox/ASTRON2017/C3030/scripts/model_nbs/C3030_modeling_template-out_pks2121-01.ipynb"
      ]
     },
     "metadata": {},
     "output_type": "display_data"
    },
    {
     "name": "stdout",
     "output_type": "stream",
     "text": [
      "Error executing the notebook \"C3030_modeling_template.ipynb\".\n",
      "\n",
      "See notebook \"model_nbs/C3030_modeling_template-out_0743-673.ipynb\" for the traceback.\n"
     ]
    },
    {
     "data": {
      "text/html": [
       "<a href='model_nbs/C3030_modeling_template-out_0743-673.ipynb' target='_blank'>model_nbs/C3030_modeling_template-out_0743-673.ipynb</a><br>"
      ],
      "text/plain": [
       "/Users/mmcintosh/Dropbox/ASTRON2017/C3030/scripts/model_nbs/C3030_modeling_template-out_0743-673.ipynb"
      ]
     },
     "metadata": {},
     "output_type": "display_data"
    },
    {
     "data": {
      "text/html": [
       "<a href='model_nbs/C3030_modeling_template-out_j031610-6820.ipynb' target='_blank'>model_nbs/C3030_modeling_template-out_j031610-6820.ipynb</a><br>"
      ],
      "text/plain": [
       "/Users/mmcintosh/Dropbox/ASTRON2017/C3030/scripts/model_nbs/C3030_modeling_template-out_j031610-6820.ipynb"
      ]
     },
     "metadata": {},
     "output_type": "display_data"
    },
    {
     "data": {
      "text/html": [
       "<a href='model_nbs/C3030_modeling_template-out_j040820-6545.ipynb' target='_blank'>model_nbs/C3030_modeling_template-out_j040820-6545.ipynb</a><br>"
      ],
      "text/plain": [
       "/Users/mmcintosh/Dropbox/ASTRON2017/C3030/scripts/model_nbs/C3030_modeling_template-out_j040820-6545.ipynb"
      ]
     },
     "metadata": {},
     "output_type": "display_data"
    },
    {
     "name": "stdout",
     "output_type": "stream",
     "text": [
      "Error executing the notebook \"C3030_modeling_template.ipynb\".\n",
      "\n",
      "See notebook \"model_nbs/C3030_modeling_template-out_j001052-4153.ipynb\" for the traceback.\n"
     ]
    },
    {
     "data": {
      "text/html": [
       "<a href='model_nbs/C3030_modeling_template-out_j001052-4153.ipynb' target='_blank'>model_nbs/C3030_modeling_template-out_j001052-4153.ipynb</a><br>"
      ],
      "text/plain": [
       "/Users/mmcintosh/Dropbox/ASTRON2017/C3030/scripts/model_nbs/C3030_modeling_template-out_j001052-4153.ipynb"
      ]
     },
     "metadata": {},
     "output_type": "display_data"
    },
    {
     "data": {
      "text/html": [
       "<a href='model_nbs/C3030_modeling_template-out_0022-423.ipynb' target='_blank'>model_nbs/C3030_modeling_template-out_0022-423.ipynb</a><br>"
      ],
      "text/plain": [
       "/Users/mmcintosh/Dropbox/ASTRON2017/C3030/scripts/model_nbs/C3030_modeling_template-out_0022-423.ipynb"
      ]
     },
     "metadata": {},
     "output_type": "display_data"
    },
    {
     "data": {
      "text/html": [
       "<a href='model_nbs/C3030_modeling_template-out_j011006-3651.ipynb' target='_blank'>model_nbs/C3030_modeling_template-out_j011006-3651.ipynb</a><br>"
      ],
      "text/plain": [
       "/Users/mmcintosh/Dropbox/ASTRON2017/C3030/scripts/model_nbs/C3030_modeling_template-out_j011006-3651.ipynb"
      ]
     },
     "metadata": {},
     "output_type": "display_data"
    },
    {
     "data": {
      "text/html": [
       "<a href='model_nbs/C3030_modeling_template-out_pks0405-395.ipynb' target='_blank'>model_nbs/C3030_modeling_template-out_pks0405-395.ipynb</a><br>"
      ],
      "text/plain": [
       "/Users/mmcintosh/Dropbox/ASTRON2017/C3030/scripts/model_nbs/C3030_modeling_template-out_pks0405-395.ipynb"
      ]
     },
     "metadata": {},
     "output_type": "display_data"
    },
    {
     "data": {
      "text/html": [
       "<a href='model_nbs/C3030_modeling_template-out_0023-263.ipynb' target='_blank'>model_nbs/C3030_modeling_template-out_0023-263.ipynb</a><br>"
      ],
      "text/plain": [
       "/Users/mmcintosh/Dropbox/ASTRON2017/C3030/scripts/model_nbs/C3030_modeling_template-out_0023-263.ipynb"
      ]
     },
     "metadata": {},
     "output_type": "display_data"
    },
    {
     "data": {
      "text/html": [
       "<a href='model_nbs/C3030_modeling_template-out_pks0439-337.ipynb' target='_blank'>model_nbs/C3030_modeling_template-out_pks0439-337.ipynb</a><br>"
      ],
      "text/plain": [
       "/Users/mmcintosh/Dropbox/ASTRON2017/C3030/scripts/model_nbs/C3030_modeling_template-out_pks0439-337.ipynb"
      ]
     },
     "metadata": {},
     "output_type": "display_data"
    },
    {
     "name": "stdout",
     "output_type": "stream",
     "text": [
      "Error executing the notebook \"C3030_modeling_template.ipynb\".\n",
      "\n",
      "See notebook \"model_nbs/C3030_modeling_template-out_j021622-3009.ipynb\" for the traceback.\n"
     ]
    },
    {
     "data": {
      "text/html": [
       "<a href='model_nbs/C3030_modeling_template-out_j021622-3009.ipynb' target='_blank'>model_nbs/C3030_modeling_template-out_j021622-3009.ipynb</a><br>"
      ],
      "text/plain": [
       "/Users/mmcintosh/Dropbox/ASTRON2017/C3030/scripts/model_nbs/C3030_modeling_template-out_j021622-3009.ipynb"
      ]
     },
     "metadata": {},
     "output_type": "display_data"
    },
    {
     "data": {
      "text/html": [
       "<a href='model_nbs/C3030_modeling_template-out_pks0359-294.ipynb' target='_blank'>model_nbs/C3030_modeling_template-out_pks0359-294.ipynb</a><br>"
      ],
      "text/plain": [
       "/Users/mmcintosh/Dropbox/ASTRON2017/C3030/scripts/model_nbs/C3030_modeling_template-out_pks0359-294.ipynb"
      ]
     },
     "metadata": {},
     "output_type": "display_data"
    },
    {
     "data": {
      "text/html": [
       "<a href='model_nbs/C3030_modeling_template-out_j011651-2052.ipynb' target='_blank'>model_nbs/C3030_modeling_template-out_j011651-2052.ipynb</a><br>"
      ],
      "text/plain": [
       "/Users/mmcintosh/Dropbox/ASTRON2017/C3030/scripts/model_nbs/C3030_modeling_template-out_j011651-2052.ipynb"
      ]
     },
     "metadata": {},
     "output_type": "display_data"
    },
    {
     "data": {
      "text/html": [
       "<a href='model_nbs/C3030_modeling_template-out_j024008-2309.ipynb' target='_blank'>model_nbs/C3030_modeling_template-out_j024008-2309.ipynb</a><br>"
      ],
      "text/plain": [
       "/Users/mmcintosh/Dropbox/ASTRON2017/C3030/scripts/model_nbs/C3030_modeling_template-out_j024008-2309.ipynb"
      ]
     },
     "metadata": {},
     "output_type": "display_data"
    },
    {
     "name": "stdout",
     "output_type": "stream",
     "text": [
      "Error executing the notebook \"C3030_modeling_template.ipynb\".\n",
      "\n",
      "See notebook \"model_nbs/C3030_modeling_template-out_j044737-2203.ipynb\" for the traceback.\n"
     ]
    },
    {
     "data": {
      "text/html": [
       "<a href='model_nbs/C3030_modeling_template-out_j044737-2203.ipynb' target='_blank'>model_nbs/C3030_modeling_template-out_j044737-2203.ipynb</a><br>"
      ],
      "text/plain": [
       "/Users/mmcintosh/Dropbox/ASTRON2017/C3030/scripts/model_nbs/C3030_modeling_template-out_j044737-2203.ipynb"
      ]
     },
     "metadata": {},
     "output_type": "display_data"
    },
    {
     "data": {
      "text/html": [
       "<a href='model_nbs/C3030_modeling_template-out_j040906-1757.ipynb' target='_blank'>model_nbs/C3030_modeling_template-out_j040906-1757.ipynb</a><br>"
      ],
      "text/plain": [
       "/Users/mmcintosh/Dropbox/ASTRON2017/C3030/scripts/model_nbs/C3030_modeling_template-out_j040906-1757.ipynb"
      ]
     },
     "metadata": {},
     "output_type": "display_data"
    },
    {
     "data": {
      "text/html": [
       "<a href='model_nbs/C3030_modeling_template-out_pks0454-088.ipynb' target='_blank'>model_nbs/C3030_modeling_template-out_pks0454-088.ipynb</a><br>"
      ],
      "text/plain": [
       "/Users/mmcintosh/Dropbox/ASTRON2017/C3030/scripts/model_nbs/C3030_modeling_template-out_pks0454-088.ipynb"
      ]
     },
     "metadata": {},
     "output_type": "display_data"
    },
    {
     "data": {
      "text/html": [
       "<a href='model_nbs/C3030_modeling_template-out_j012528-0005.ipynb' target='_blank'>model_nbs/C3030_modeling_template-out_j012528-0005.ipynb</a><br>"
      ],
      "text/plain": [
       "/Users/mmcintosh/Dropbox/ASTRON2017/C3030/scripts/model_nbs/C3030_modeling_template-out_j012528-0005.ipynb"
      ]
     },
     "metadata": {},
     "output_type": "display_data"
    },
    {
     "data": {
      "text/html": [
       "<a href='model_nbs/C3030_modeling_template-out_j033931-0146.ipynb' target='_blank'>model_nbs/C3030_modeling_template-out_j033931-0146.ipynb</a><br>"
      ],
      "text/plain": [
       "/Users/mmcintosh/Dropbox/ASTRON2017/C3030/scripts/model_nbs/C3030_modeling_template-out_j033931-0146.ipynb"
      ]
     },
     "metadata": {},
     "output_type": "display_data"
    },
    {
     "data": {
      "text/html": [
       "<a href='model_nbs/C3030_modeling_template-out_j042408+0204.ipynb' target='_blank'>model_nbs/C3030_modeling_template-out_j042408+0204.ipynb</a><br>"
      ],
      "text/plain": [
       "/Users/mmcintosh/Dropbox/ASTRON2017/C3030/scripts/model_nbs/C3030_modeling_template-out_j042408+0204.ipynb"
      ]
     },
     "metadata": {},
     "output_type": "display_data"
    },
    {
     "name": "stdout",
     "output_type": "stream",
     "text": [
      "Error executing the notebook \"C3030_modeling_template.ipynb\".\n",
      "\n",
      "See notebook \"model_nbs/C3030_modeling_template-out_j014922+0555.ipynb\" for the traceback.\n"
     ]
    },
    {
     "data": {
      "text/html": [
       "<a href='model_nbs/C3030_modeling_template-out_j014922+0555.ipynb' target='_blank'>model_nbs/C3030_modeling_template-out_j014922+0555.ipynb</a><br>"
      ],
      "text/plain": [
       "/Users/mmcintosh/Dropbox/ASTRON2017/C3030/scripts/model_nbs/C3030_modeling_template-out_j014922+0555.ipynb"
      ]
     },
     "metadata": {},
     "output_type": "display_data"
    },
    {
     "name": "stdout",
     "output_type": "stream",
     "text": [
      "Error executing the notebook \"C3030_modeling_template.ipynb\".\n",
      "\n",
      "See notebook \"model_nbs/C3030_modeling_template-out_j033626+1302.ipynb\" for the traceback.\n"
     ]
    },
    {
     "data": {
      "text/html": [
       "<a href='model_nbs/C3030_modeling_template-out_j033626+1302.ipynb' target='_blank'>model_nbs/C3030_modeling_template-out_j033626+1302.ipynb</a><br>"
      ],
      "text/plain": [
       "/Users/mmcintosh/Dropbox/ASTRON2017/C3030/scripts/model_nbs/C3030_modeling_template-out_j033626+1302.ipynb"
      ]
     },
     "metadata": {},
     "output_type": "display_data"
    },
    {
     "data": {
      "text/html": [
       "<a href='model_nbs/C3030_modeling_template-out_1245-197.ipynb' target='_blank'>model_nbs/C3030_modeling_template-out_1245-197.ipynb</a><br>"
      ],
      "text/plain": [
       "/Users/mmcintosh/Dropbox/ASTRON2017/C3030/scripts/model_nbs/C3030_modeling_template-out_1245-197.ipynb"
      ]
     },
     "metadata": {},
     "output_type": "display_data"
    },
    {
     "data": {
      "text/html": [
       "<a href='model_nbs/C3030_modeling_template-out_1015-314.ipynb' target='_blank'>model_nbs/C3030_modeling_template-out_1015-314.ipynb</a><br>"
      ],
      "text/plain": [
       "/Users/mmcintosh/Dropbox/ASTRON2017/C3030/scripts/model_nbs/C3030_modeling_template-out_1015-314.ipynb"
      ]
     },
     "metadata": {},
     "output_type": "display_data"
    },
    {
     "data": {
      "text/html": [
       "<a href='model_nbs/C3030_modeling_template-out_pks1347-218.ipynb' target='_blank'>model_nbs/C3030_modeling_template-out_pks1347-218.ipynb</a><br>"
      ],
      "text/plain": [
       "/Users/mmcintosh/Dropbox/ASTRON2017/C3030/scripts/model_nbs/C3030_modeling_template-out_pks1347-218.ipynb"
      ]
     },
     "metadata": {},
     "output_type": "display_data"
    },
    {
     "name": "stdout",
     "output_type": "stream",
     "text": [
      "Error executing the notebook \"C3030_modeling_template.ipynb\".\n",
      "\n",
      "See notebook \"model_nbs/C3030_modeling_template-out_pksb1042-269.ipynb\" for the traceback.\n"
     ]
    },
    {
     "data": {
      "text/html": [
       "<a href='model_nbs/C3030_modeling_template-out_pksb1042-269.ipynb' target='_blank'>model_nbs/C3030_modeling_template-out_pksb1042-269.ipynb</a><br>"
      ],
      "text/plain": [
       "/Users/mmcintosh/Dropbox/ASTRON2017/C3030/scripts/model_nbs/C3030_modeling_template-out_pksb1042-269.ipynb"
      ]
     },
     "metadata": {},
     "output_type": "display_data"
    },
    {
     "name": "stdout",
     "output_type": "stream",
     "text": [
      "Error executing the notebook \"C3030_modeling_template.ipynb\".\n",
      "\n",
      "See notebook \"model_nbs/C3030_modeling_template-out_j083639-2016.ipynb\" for the traceback.\n"
     ]
    },
    {
     "data": {
      "text/html": [
       "<a href='model_nbs/C3030_modeling_template-out_j083639-2016.ipynb' target='_blank'>model_nbs/C3030_modeling_template-out_j083639-2016.ipynb</a><br>"
      ],
      "text/plain": [
       "/Users/mmcintosh/Dropbox/ASTRON2017/C3030/scripts/model_nbs/C3030_modeling_template-out_j083639-2016.ipynb"
      ]
     },
     "metadata": {},
     "output_type": "display_data"
    },
    {
     "data": {
      "text/html": [
       "<a href='model_nbs/C3030_modeling_template-out_0834-196.ipynb' target='_blank'>model_nbs/C3030_modeling_template-out_0834-196.ipynb</a><br>"
      ],
      "text/plain": [
       "/Users/mmcintosh/Dropbox/ASTRON2017/C3030/scripts/model_nbs/C3030_modeling_template-out_0834-196.ipynb"
      ]
     },
     "metadata": {},
     "output_type": "display_data"
    },
    {
     "data": {
      "text/html": [
       "<a href='model_nbs/C3030_modeling_template-out_j103152-222823.ipynb' target='_blank'>model_nbs/C3030_modeling_template-out_j103152-222823.ipynb</a><br>"
      ],
      "text/plain": [
       "/Users/mmcintosh/Dropbox/ASTRON2017/C3030/scripts/model_nbs/C3030_modeling_template-out_j103152-222823.ipynb"
      ]
     },
     "metadata": {},
     "output_type": "display_data"
    },
    {
     "data": {
      "text/html": [
       "<a href='model_nbs/C3030_modeling_template-out_pks1503-091.ipynb' target='_blank'>model_nbs/C3030_modeling_template-out_pks1503-091.ipynb</a><br>"
      ],
      "text/plain": [
       "/Users/mmcintosh/Dropbox/ASTRON2017/C3030/scripts/model_nbs/C3030_modeling_template-out_pks1503-091.ipynb"
      ]
     },
     "metadata": {},
     "output_type": "display_data"
    },
    {
     "data": {
      "text/html": [
       "<a href='model_nbs/C3030_modeling_template-out_j124025-1717.ipynb' target='_blank'>model_nbs/C3030_modeling_template-out_j124025-1717.ipynb</a><br>"
      ],
      "text/plain": [
       "/Users/mmcintosh/Dropbox/ASTRON2017/C3030/scripts/model_nbs/C3030_modeling_template-out_j124025-1717.ipynb"
      ]
     },
     "metadata": {},
     "output_type": "display_data"
    },
    {
     "data": {
      "text/html": [
       "<a href='model_nbs/C3030_modeling_template-out_0859-140.ipynb' target='_blank'>model_nbs/C3030_modeling_template-out_0859-140.ipynb</a><br>"
      ],
      "text/plain": [
       "/Users/mmcintosh/Dropbox/ASTRON2017/C3030/scripts/model_nbs/C3030_modeling_template-out_0859-140.ipynb"
      ]
     },
     "metadata": {},
     "output_type": "display_data"
    },
    {
     "data": {
      "text/html": [
       "<a href='model_nbs/C3030_modeling_template-out_pks0941-080.ipynb' target='_blank'>model_nbs/C3030_modeling_template-out_pks0941-080.ipynb</a><br>"
      ],
      "text/plain": [
       "/Users/mmcintosh/Dropbox/ASTRON2017/C3030/scripts/model_nbs/C3030_modeling_template-out_pks0941-080.ipynb"
      ]
     },
     "metadata": {},
     "output_type": "display_data"
    },
    {
     "name": "stdout",
     "output_type": "stream",
     "text": [
      "Error executing the notebook \"C3030_modeling_template.ipynb\".\n",
      "\n",
      "See notebook \"model_nbs/C3030_modeling_template-out_4c-00.45.ipynb\" for the traceback.\n"
     ]
    },
    {
     "data": {
      "text/html": [
       "<a href='model_nbs/C3030_modeling_template-out_4c-00.45.ipynb' target='_blank'>model_nbs/C3030_modeling_template-out_4c-00.45.ipynb</a><br>"
      ],
      "text/plain": [
       "/Users/mmcintosh/Dropbox/ASTRON2017/C3030/scripts/model_nbs/C3030_modeling_template-out_4c-00.45.ipynb"
      ]
     },
     "metadata": {},
     "output_type": "display_data"
    },
    {
     "data": {
      "text/html": [
       "<a href='model_nbs/C3030_modeling_template-out_pks1200+045.ipynb' target='_blank'>model_nbs/C3030_modeling_template-out_pks1200+045.ipynb</a><br>"
      ],
      "text/plain": [
       "/Users/mmcintosh/Dropbox/ASTRON2017/C3030/scripts/model_nbs/C3030_modeling_template-out_pks1200+045.ipynb"
      ]
     },
     "metadata": {},
     "output_type": "display_data"
    },
    {
     "data": {
      "text/html": [
       "<a href='model_nbs/C3030_modeling_template-out_4c+12.50.ipynb' target='_blank'>model_nbs/C3030_modeling_template-out_4c+12.50.ipynb</a><br>"
      ],
      "text/plain": [
       "/Users/mmcintosh/Dropbox/ASTRON2017/C3030/scripts/model_nbs/C3030_modeling_template-out_4c+12.50.ipynb"
      ]
     },
     "metadata": {},
     "output_type": "display_data"
    },
    {
     "data": {
      "text/html": [
       "<a href='model_nbs/C3030_modeling_template-out_pks0910+151.ipynb' target='_blank'>model_nbs/C3030_modeling_template-out_pks0910+151.ipynb</a><br>"
      ],
      "text/plain": [
       "/Users/mmcintosh/Dropbox/ASTRON2017/C3030/scripts/model_nbs/C3030_modeling_template-out_pks0910+151.ipynb"
      ]
     },
     "metadata": {},
     "output_type": "display_data"
    },
    {
     "data": {
      "text/html": [
       "<a href='model_nbs/C3030_modeling_template-out_1549-790.ipynb' target='_blank'>model_nbs/C3030_modeling_template-out_1549-790.ipynb</a><br>"
      ],
      "text/plain": [
       "/Users/mmcintosh/Dropbox/ASTRON2017/C3030/scripts/model_nbs/C3030_modeling_template-out_1549-790.ipynb"
      ]
     },
     "metadata": {},
     "output_type": "display_data"
    },
    {
     "data": {
      "text/html": [
       "<a href='model_nbs/C3030_modeling_template-out_j194025-6907.ipynb' target='_blank'>model_nbs/C3030_modeling_template-out_j194025-6907.ipynb</a><br>"
      ],
      "text/plain": [
       "/Users/mmcintosh/Dropbox/ASTRON2017/C3030/scripts/model_nbs/C3030_modeling_template-out_j194025-6907.ipynb"
      ]
     },
     "metadata": {},
     "output_type": "display_data"
    },
    {
     "data": {
      "text/html": [
       "<a href='model_nbs/C3030_modeling_template-out_j202100-6124.ipynb' target='_blank'>model_nbs/C3030_modeling_template-out_j202100-6124.ipynb</a><br>"
      ],
      "text/plain": [
       "/Users/mmcintosh/Dropbox/ASTRON2017/C3030/scripts/model_nbs/C3030_modeling_template-out_j202100-6124.ipynb"
      ]
     },
     "metadata": {},
     "output_type": "display_data"
    },
    {
     "data": {
      "text/html": [
       "<a href='model_nbs/C3030_modeling_template-out_j185841-6313.ipynb' target='_blank'>model_nbs/C3030_modeling_template-out_j185841-6313.ipynb</a><br>"
      ],
      "text/plain": [
       "/Users/mmcintosh/Dropbox/ASTRON2017/C3030/scripts/model_nbs/C3030_modeling_template-out_j185841-6313.ipynb"
      ]
     },
     "metadata": {},
     "output_type": "display_data"
    },
    {
     "data": {
      "text/html": [
       "<a href='model_nbs/C3030_modeling_template-out_pks1814-637.ipynb' target='_blank'>model_nbs/C3030_modeling_template-out_pks1814-637.ipynb</a><br>"
      ],
      "text/plain": [
       "/Users/mmcintosh/Dropbox/ASTRON2017/C3030/scripts/model_nbs/C3030_modeling_template-out_pks1814-637.ipynb"
      ]
     },
     "metadata": {},
     "output_type": "display_data"
    },
    {
     "data": {
      "text/html": [
       "<a href='model_nbs/C3030_modeling_template-out_j172650-5529.ipynb' target='_blank'>model_nbs/C3030_modeling_template-out_j172650-5529.ipynb</a><br>"
      ],
      "text/plain": [
       "/Users/mmcintosh/Dropbox/ASTRON2017/C3030/scripts/model_nbs/C3030_modeling_template-out_j172650-5529.ipynb"
      ]
     },
     "metadata": {},
     "output_type": "display_data"
    },
    {
     "data": {
      "text/html": [
       "<a href='model_nbs/C3030_modeling_template-out_pks1953-42.ipynb' target='_blank'>model_nbs/C3030_modeling_template-out_pks1953-42.ipynb</a><br>"
      ],
      "text/plain": [
       "/Users/mmcintosh/Dropbox/ASTRON2017/C3030/scripts/model_nbs/C3030_modeling_template-out_pks1953-42.ipynb"
      ]
     },
     "metadata": {},
     "output_type": "display_data"
    },
    {
     "data": {
      "text/html": [
       "<a href='model_nbs/C3030_modeling_template-out_j145706-3604.ipynb' target='_blank'>model_nbs/C3030_modeling_template-out_j145706-3604.ipynb</a><br>"
      ],
      "text/plain": [
       "/Users/mmcintosh/Dropbox/ASTRON2017/C3030/scripts/model_nbs/C3030_modeling_template-out_j145706-3604.ipynb"
      ]
     },
     "metadata": {},
     "output_type": "display_data"
    },
    {
     "data": {
      "text/html": [
       "<a href='model_nbs/C3030_modeling_template-out_pks1444-339.ipynb' target='_blank'>model_nbs/C3030_modeling_template-out_pks1444-339.ipynb</a><br>"
      ],
      "text/plain": [
       "/Users/mmcintosh/Dropbox/ASTRON2017/C3030/scripts/model_nbs/C3030_modeling_template-out_pks1444-339.ipynb"
      ]
     },
     "metadata": {},
     "output_type": "display_data"
    },
    {
     "data": {
      "text/html": [
       "<a href='model_nbs/C3030_modeling_template-out_j145402-3400.ipynb' target='_blank'>model_nbs/C3030_modeling_template-out_j145402-3400.ipynb</a><br>"
      ],
      "text/plain": [
       "/Users/mmcintosh/Dropbox/ASTRON2017/C3030/scripts/model_nbs/C3030_modeling_template-out_j145402-3400.ipynb"
      ]
     },
     "metadata": {},
     "output_type": "display_data"
    },
    {
     "data": {
      "text/html": [
       "<a href='model_nbs/C3030_modeling_template-out_pks1601-222.ipynb' target='_blank'>model_nbs/C3030_modeling_template-out_pks1601-222.ipynb</a><br>"
      ],
      "text/plain": [
       "/Users/mmcintosh/Dropbox/ASTRON2017/C3030/scripts/model_nbs/C3030_modeling_template-out_pks1601-222.ipynb"
      ]
     },
     "metadata": {},
     "output_type": "display_data"
    },
    {
     "data": {
      "text/html": [
       "<a href='model_nbs/C3030_modeling_template-out_pks1545-120.ipynb' target='_blank'>model_nbs/C3030_modeling_template-out_pks1545-120.ipynb</a><br>"
      ],
      "text/plain": [
       "/Users/mmcintosh/Dropbox/ASTRON2017/C3030/scripts/model_nbs/C3030_modeling_template-out_pks1545-120.ipynb"
      ]
     },
     "metadata": {},
     "output_type": "display_data"
    },
    {
     "data": {
      "text/html": [
       "<a href='model_nbs/C3030_modeling_template-out_pks2127+04.ipynb' target='_blank'>model_nbs/C3030_modeling_template-out_pks2127+04.ipynb</a><br>"
      ],
      "text/plain": [
       "/Users/mmcintosh/Dropbox/ASTRON2017/C3030/scripts/model_nbs/C3030_modeling_template-out_pks2127+04.ipynb"
      ]
     },
     "metadata": {},
     "output_type": "display_data"
    },
    {
     "data": {
      "text/html": [
       "<a href='model_nbs/C3030_modeling_template-out_pks1543+005.ipynb' target='_blank'>model_nbs/C3030_modeling_template-out_pks1543+005.ipynb</a><br>"
      ],
      "text/plain": [
       "/Users/mmcintosh/Dropbox/ASTRON2017/C3030/scripts/model_nbs/C3030_modeling_template-out_pks1543+005.ipynb"
      ]
     },
     "metadata": {},
     "output_type": "display_data"
    },
    {
     "data": {
      "text/html": [
       "<a href='model_nbs/C3030_modeling_template-out_4c+02.43.ipynb' target='_blank'>model_nbs/C3030_modeling_template-out_4c+02.43.ipynb</a><br>"
      ],
      "text/plain": [
       "/Users/mmcintosh/Dropbox/ASTRON2017/C3030/scripts/model_nbs/C3030_modeling_template-out_4c+02.43.ipynb"
      ]
     },
     "metadata": {},
     "output_type": "display_data"
    },
    {
     "data": {
      "text/html": [
       "<a href='model_nbs/C3030_modeling_template-out_j210700-6547.ipynb' target='_blank'>model_nbs/C3030_modeling_template-out_j210700-6547.ipynb</a><br>"
      ],
      "text/plain": [
       "/Users/mmcintosh/Dropbox/ASTRON2017/C3030/scripts/model_nbs/C3030_modeling_template-out_j210700-6547.ipynb"
      ]
     },
     "metadata": {},
     "output_type": "display_data"
    },
    {
     "data": {
      "text/html": [
       "<a href='model_nbs/C3030_modeling_template-out_j233612-5236.ipynb' target='_blank'>model_nbs/C3030_modeling_template-out_j233612-5236.ipynb</a><br>"
      ],
      "text/plain": [
       "/Users/mmcintosh/Dropbox/ASTRON2017/C3030/scripts/model_nbs/C3030_modeling_template-out_j233612-5236.ipynb"
      ]
     },
     "metadata": {},
     "output_type": "display_data"
    },
    {
     "data": {
      "text/html": [
       "<a href='model_nbs/C3030_modeling_template-out_j231255-4126.ipynb' target='_blank'>model_nbs/C3030_modeling_template-out_j231255-4126.ipynb</a><br>"
      ],
      "text/plain": [
       "/Users/mmcintosh/Dropbox/ASTRON2017/C3030/scripts/model_nbs/C3030_modeling_template-out_j231255-4126.ipynb"
      ]
     },
     "metadata": {},
     "output_type": "display_data"
    },
    {
     "data": {
      "text/html": [
       "<a href='model_nbs/C3030_modeling_template-out_mwacsj2153.5-3445.ipynb' target='_blank'>model_nbs/C3030_modeling_template-out_mwacsj2153.5-3445.ipynb</a><br>"
      ],
      "text/plain": [
       "/Users/mmcintosh/Dropbox/ASTRON2017/C3030/scripts/model_nbs/C3030_modeling_template-out_mwacsj2153.5-3445.ipynb"
      ]
     },
     "metadata": {},
     "output_type": "display_data"
    },
    {
     "data": {
      "text/html": [
       "<a href='model_nbs/C3030_modeling_template-out_2135-209.ipynb' target='_blank'>model_nbs/C3030_modeling_template-out_2135-209.ipynb</a><br>"
      ],
      "text/plain": [
       "/Users/mmcintosh/Dropbox/ASTRON2017/C3030/scripts/model_nbs/C3030_modeling_template-out_2135-209.ipynb"
      ]
     },
     "metadata": {},
     "output_type": "display_data"
    },
    {
     "data": {
      "text/html": [
       "<a href='model_nbs/C3030_modeling_template-out_j231117-1038.ipynb' target='_blank'>model_nbs/C3030_modeling_template-out_j231117-1038.ipynb</a><br>"
      ],
      "text/plain": [
       "/Users/mmcintosh/Dropbox/ASTRON2017/C3030/scripts/model_nbs/C3030_modeling_template-out_j231117-1038.ipynb"
      ]
     },
     "metadata": {},
     "output_type": "display_data"
    },
    {
     "data": {
      "text/html": [
       "<a href='model_nbs/C3030_modeling_template-out_j015955-7430.ipynb' target='_blank'>model_nbs/C3030_modeling_template-out_j015955-7430.ipynb</a><br>"
      ],
      "text/plain": [
       "/Users/mmcintosh/Dropbox/ASTRON2017/C3030/scripts/model_nbs/C3030_modeling_template-out_j015955-7430.ipynb"
      ]
     },
     "metadata": {},
     "output_type": "display_data"
    },
    {
     "data": {
      "text/html": [
       "<a href='model_nbs/C3030_modeling_template-out_j000253-5621.ipynb' target='_blank'>model_nbs/C3030_modeling_template-out_j000253-5621.ipynb</a><br>"
      ],
      "text/plain": [
       "/Users/mmcintosh/Dropbox/ASTRON2017/C3030/scripts/model_nbs/C3030_modeling_template-out_j000253-5621.ipynb"
      ]
     },
     "metadata": {},
     "output_type": "display_data"
    },
    {
     "data": {
      "text/html": [
       "<a href='model_nbs/C3030_modeling_template-out_j041022-5232.ipynb' target='_blank'>model_nbs/C3030_modeling_template-out_j041022-5232.ipynb</a><br>"
      ],
      "text/plain": [
       "/Users/mmcintosh/Dropbox/ASTRON2017/C3030/scripts/model_nbs/C3030_modeling_template-out_j041022-5232.ipynb"
      ]
     },
     "metadata": {},
     "output_type": "display_data"
    },
    {
     "data": {
      "text/html": [
       "<a href='model_nbs/C3030_modeling_template-out_j044033-4229.ipynb' target='_blank'>model_nbs/C3030_modeling_template-out_j044033-4229.ipynb</a><br>"
      ],
      "text/plain": [
       "/Users/mmcintosh/Dropbox/ASTRON2017/C3030/scripts/model_nbs/C3030_modeling_template-out_j044033-4229.ipynb"
      ]
     },
     "metadata": {},
     "output_type": "display_data"
    },
    {
     "data": {
      "text/html": [
       "<a href='model_nbs/C3030_modeling_template-out_j010837-2851.ipynb' target='_blank'>model_nbs/C3030_modeling_template-out_j010837-2851.ipynb</a><br>"
      ],
      "text/plain": [
       "/Users/mmcintosh/Dropbox/ASTRON2017/C3030/scripts/model_nbs/C3030_modeling_template-out_j010837-2851.ipynb"
      ]
     },
     "metadata": {},
     "output_type": "display_data"
    },
    {
     "data": {
      "text/html": [
       "<a href='model_nbs/C3030_modeling_template-out_j003830-2119.ipynb' target='_blank'>model_nbs/C3030_modeling_template-out_j003830-2119.ipynb</a><br>"
      ],
      "text/plain": [
       "/Users/mmcintosh/Dropbox/ASTRON2017/C3030/scripts/model_nbs/C3030_modeling_template-out_j003830-2119.ipynb"
      ]
     },
     "metadata": {},
     "output_type": "display_data"
    },
    {
     "data": {
      "text/html": [
       "<a href='model_nbs/C3030_modeling_template-out_pks0207-224.ipynb' target='_blank'>model_nbs/C3030_modeling_template-out_pks0207-224.ipynb</a><br>"
      ],
      "text/plain": [
       "/Users/mmcintosh/Dropbox/ASTRON2017/C3030/scripts/model_nbs/C3030_modeling_template-out_pks0207-224.ipynb"
      ]
     },
     "metadata": {},
     "output_type": "display_data"
    },
    {
     "data": {
      "text/html": [
       "<a href='model_nbs/C3030_modeling_template-out_pks0105-122.ipynb' target='_blank'>model_nbs/C3030_modeling_template-out_pks0105-122.ipynb</a><br>"
      ],
      "text/plain": [
       "/Users/mmcintosh/Dropbox/ASTRON2017/C3030/scripts/model_nbs/C3030_modeling_template-out_pks0105-122.ipynb"
      ]
     },
     "metadata": {},
     "output_type": "display_data"
    },
    {
     "data": {
      "text/html": [
       "<a href='model_nbs/C3030_modeling_template-out_4c+00.02.ipynb' target='_blank'>model_nbs/C3030_modeling_template-out_4c+00.02.ipynb</a><br>"
      ],
      "text/plain": [
       "/Users/mmcintosh/Dropbox/ASTRON2017/C3030/scripts/model_nbs/C3030_modeling_template-out_4c+00.02.ipynb"
      ]
     },
     "metadata": {},
     "output_type": "display_data"
    },
    {
     "data": {
      "text/html": [
       "<a href='model_nbs/C3030_modeling_template-out_pks0500+019.ipynb' target='_blank'>model_nbs/C3030_modeling_template-out_pks0500+019.ipynb</a><br>"
      ],
      "text/plain": [
       "/Users/mmcintosh/Dropbox/ASTRON2017/C3030/scripts/model_nbs/C3030_modeling_template-out_pks0500+019.ipynb"
      ]
     },
     "metadata": {},
     "output_type": "display_data"
    },
    {
     "data": {
      "text/html": [
       "<a href='model_nbs/C3030_modeling_template-out_4c+05.14.ipynb' target='_blank'>model_nbs/C3030_modeling_template-out_4c+05.14.ipynb</a><br>"
      ],
      "text/plain": [
       "/Users/mmcintosh/Dropbox/ASTRON2017/C3030/scripts/model_nbs/C3030_modeling_template-out_4c+05.14.ipynb"
      ]
     },
     "metadata": {},
     "output_type": "display_data"
    },
    {
     "data": {
      "text/html": [
       "<a href='model_nbs/C3030_modeling_template-out_pks1151-348.ipynb' target='_blank'>model_nbs/C3030_modeling_template-out_pks1151-348.ipynb</a><br>"
      ],
      "text/plain": [
       "/Users/mmcintosh/Dropbox/ASTRON2017/C3030/scripts/model_nbs/C3030_modeling_template-out_pks1151-348.ipynb"
      ]
     },
     "metadata": {},
     "output_type": "display_data"
    },
    {
     "data": {
      "text/html": [
       "<a href='model_nbs/C3030_modeling_template-out_j144815-1620.ipynb' target='_blank'>model_nbs/C3030_modeling_template-out_j144815-1620.ipynb</a><br>"
      ],
      "text/plain": [
       "/Users/mmcintosh/Dropbox/ASTRON2017/C3030/scripts/model_nbs/C3030_modeling_template-out_j144815-1620.ipynb"
      ]
     },
     "metadata": {},
     "output_type": "display_data"
    },
    {
     "data": {
      "text/html": [
       "<a href='model_nbs/C3030_modeling_template-out_1354-174.ipynb' target='_blank'>model_nbs/C3030_modeling_template-out_1354-174.ipynb</a><br>"
      ],
      "text/plain": [
       "/Users/mmcintosh/Dropbox/ASTRON2017/C3030/scripts/model_nbs/C3030_modeling_template-out_1354-174.ipynb"
      ]
     },
     "metadata": {},
     "output_type": "display_data"
    },
    {
     "data": {
      "text/html": [
       "<a href='model_nbs/C3030_modeling_template-out_j124824-1959.ipynb' target='_blank'>model_nbs/C3030_modeling_template-out_j124824-1959.ipynb</a><br>"
      ],
      "text/plain": [
       "/Users/mmcintosh/Dropbox/ASTRON2017/C3030/scripts/model_nbs/C3030_modeling_template-out_j124824-1959.ipynb"
      ]
     },
     "metadata": {},
     "output_type": "display_data"
    },
    {
     "data": {
      "text/html": [
       "<a href='model_nbs/C3030_modeling_template-out_pks1107-187.ipynb' target='_blank'>model_nbs/C3030_modeling_template-out_pks1107-187.ipynb</a><br>"
      ],
      "text/plain": [
       "/Users/mmcintosh/Dropbox/ASTRON2017/C3030/scripts/model_nbs/C3030_modeling_template-out_pks1107-187.ipynb"
      ]
     },
     "metadata": {},
     "output_type": "display_data"
    },
    {
     "data": {
      "text/html": [
       "<a href='model_nbs/C3030_modeling_template-out_pks1349+027.ipynb' target='_blank'>model_nbs/C3030_modeling_template-out_pks1349+027.ipynb</a><br>"
      ],
      "text/plain": [
       "/Users/mmcintosh/Dropbox/ASTRON2017/C3030/scripts/model_nbs/C3030_modeling_template-out_pks1349+027.ipynb"
      ]
     },
     "metadata": {},
     "output_type": "display_data"
    },
    {
     "data": {
      "text/html": [
       "<a href='model_nbs/C3030_modeling_template-out_4c+11.46.ipynb' target='_blank'>model_nbs/C3030_modeling_template-out_4c+11.46.ipynb</a><br>"
      ],
      "text/plain": [
       "/Users/mmcintosh/Dropbox/ASTRON2017/C3030/scripts/model_nbs/C3030_modeling_template-out_4c+11.46.ipynb"
      ]
     },
     "metadata": {},
     "output_type": "display_data"
    },
    {
     "data": {
      "text/html": [
       "<a href='model_nbs/C3030_modeling_template-out_4c+14.41.ipynb' target='_blank'>model_nbs/C3030_modeling_template-out_4c+14.41.ipynb</a><br>"
      ],
      "text/plain": [
       "/Users/mmcintosh/Dropbox/ASTRON2017/C3030/scripts/model_nbs/C3030_modeling_template-out_4c+14.41.ipynb"
      ]
     },
     "metadata": {},
     "output_type": "display_data"
    },
    {
     "data": {
      "text/html": [
       "<a href='model_nbs/C3030_modeling_template-out_j185958-6615.ipynb' target='_blank'>model_nbs/C3030_modeling_template-out_j185958-6615.ipynb</a><br>"
      ],
      "text/plain": [
       "/Users/mmcintosh/Dropbox/ASTRON2017/C3030/scripts/model_nbs/C3030_modeling_template-out_j185958-6615.ipynb"
      ]
     },
     "metadata": {},
     "output_type": "display_data"
    },
    {
     "data": {
      "text/html": [
       "<a href='model_nbs/C3030_modeling_template-out_pks1740-649.ipynb' target='_blank'>model_nbs/C3030_modeling_template-out_pks1740-649.ipynb</a><br>"
      ],
      "text/plain": [
       "/Users/mmcintosh/Dropbox/ASTRON2017/C3030/scripts/model_nbs/C3030_modeling_template-out_pks1740-649.ipynb"
      ]
     },
     "metadata": {},
     "output_type": "display_data"
    },
    {
     "data": {
      "text/html": [
       "<a href='model_nbs/C3030_modeling_template-out_j174425-5144.ipynb' target='_blank'>model_nbs/C3030_modeling_template-out_j174425-5144.ipynb</a><br>"
      ],
      "text/plain": [
       "/Users/mmcintosh/Dropbox/ASTRON2017/C3030/scripts/model_nbs/C3030_modeling_template-out_j174425-5144.ipynb"
      ]
     },
     "metadata": {},
     "output_type": "display_data"
    },
    {
     "data": {
      "text/html": [
       "<a href='model_nbs/C3030_modeling_template-out_pks1343-300.ipynb' target='_blank'>model_nbs/C3030_modeling_template-out_pks1343-300.ipynb</a><br>"
      ],
      "text/plain": [
       "/Users/mmcintosh/Dropbox/ASTRON2017/C3030/scripts/model_nbs/C3030_modeling_template-out_pks1343-300.ipynb"
      ]
     },
     "metadata": {},
     "output_type": "display_data"
    },
    {
     "data": {
      "text/html": [
       "<a href='model_nbs/C3030_modeling_template-out_j201045-2425.ipynb' target='_blank'>model_nbs/C3030_modeling_template-out_j201045-2425.ipynb</a><br>"
      ],
      "text/plain": [
       "/Users/mmcintosh/Dropbox/ASTRON2017/C3030/scripts/model_nbs/C3030_modeling_template-out_j201045-2425.ipynb"
      ]
     },
     "metadata": {},
     "output_type": "display_data"
    },
    {
     "data": {
      "text/html": [
       "<a href='model_nbs/C3030_modeling_template-out_pks1540-077.ipynb' target='_blank'>model_nbs/C3030_modeling_template-out_pks1540-077.ipynb</a><br>"
      ],
      "text/plain": [
       "/Users/mmcintosh/Dropbox/ASTRON2017/C3030/scripts/model_nbs/C3030_modeling_template-out_pks1540-077.ipynb"
      ]
     },
     "metadata": {},
     "output_type": "display_data"
    },
    {
     "data": {
      "text/html": [
       "<a href='model_nbs/C3030_modeling_template-out_pks1518+047.ipynb' target='_blank'>model_nbs/C3030_modeling_template-out_pks1518+047.ipynb</a><br>"
      ],
      "text/plain": [
       "/Users/mmcintosh/Dropbox/ASTRON2017/C3030/scripts/model_nbs/C3030_modeling_template-out_pks1518+047.ipynb"
      ]
     },
     "metadata": {},
     "output_type": "display_data"
    },
    {
     "data": {
      "text/html": [
       "<a href='model_nbs/C3030_modeling_template-out_j211622-5247.ipynb' target='_blank'>model_nbs/C3030_modeling_template-out_j211622-5247.ipynb</a><br>"
      ],
      "text/plain": [
       "/Users/mmcintosh/Dropbox/ASTRON2017/C3030/scripts/model_nbs/C3030_modeling_template-out_j211622-5247.ipynb"
      ]
     },
     "metadata": {},
     "output_type": "display_data"
    },
    {
     "data": {
      "text/html": [
       "<a href='model_nbs/C3030_modeling_template-out_j222947-3823.ipynb' target='_blank'>model_nbs/C3030_modeling_template-out_j222947-3823.ipynb</a><br>"
      ],
      "text/plain": [
       "/Users/mmcintosh/Dropbox/ASTRON2017/C3030/scripts/model_nbs/C3030_modeling_template-out_j222947-3823.ipynb"
      ]
     },
     "metadata": {},
     "output_type": "display_data"
    },
    {
     "data": {
      "text/html": [
       "<a href='model_nbs/C3030_modeling_template-out_mwacsj2157.5-1807.ipynb' target='_blank'>model_nbs/C3030_modeling_template-out_mwacsj2157.5-1807.ipynb</a><br>"
      ],
      "text/plain": [
       "/Users/mmcintosh/Dropbox/ASTRON2017/C3030/scripts/model_nbs/C3030_modeling_template-out_mwacsj2157.5-1807.ipynb"
      ]
     },
     "metadata": {},
     "output_type": "display_data"
    },
    {
     "data": {
      "text/html": [
       "<a href='model_nbs/C3030_modeling_template-out_pks0252-71.ipynb' target='_blank'>model_nbs/C3030_modeling_template-out_pks0252-71.ipynb</a><br>"
      ],
      "text/plain": [
       "/Users/mmcintosh/Dropbox/ASTRON2017/C3030/scripts/model_nbs/C3030_modeling_template-out_pks0252-71.ipynb"
      ]
     },
     "metadata": {},
     "output_type": "display_data"
    },
    {
     "data": {
      "text/html": [
       "<a href='model_nbs/C3030_modeling_template-out_pks0201-44.ipynb' target='_blank'>model_nbs/C3030_modeling_template-out_pks0201-44.ipynb</a><br>"
      ],
      "text/plain": [
       "/Users/mmcintosh/Dropbox/ASTRON2017/C3030/scripts/model_nbs/C3030_modeling_template-out_pks0201-44.ipynb"
      ]
     },
     "metadata": {},
     "output_type": "display_data"
    },
    {
     "data": {
      "text/html": [
       "<a href='model_nbs/C3030_modeling_template-out_pks0204-306.ipynb' target='_blank'>model_nbs/C3030_modeling_template-out_pks0204-306.ipynb</a><br>"
      ],
      "text/plain": [
       "/Users/mmcintosh/Dropbox/ASTRON2017/C3030/scripts/model_nbs/C3030_modeling_template-out_pks0204-306.ipynb"
      ]
     },
     "metadata": {},
     "output_type": "display_data"
    },
    {
     "data": {
      "text/html": [
       "<a href='model_nbs/C3030_modeling_template-out_pks0240-217.ipynb' target='_blank'>model_nbs/C3030_modeling_template-out_pks0240-217.ipynb</a><br>"
      ],
      "text/plain": [
       "/Users/mmcintosh/Dropbox/ASTRON2017/C3030/scripts/model_nbs/C3030_modeling_template-out_pks0240-217.ipynb"
      ]
     },
     "metadata": {},
     "output_type": "display_data"
    },
    {
     "data": {
      "text/html": [
       "<a href='model_nbs/C3030_modeling_template-out_4c-02.17.ipynb' target='_blank'>model_nbs/C3030_modeling_template-out_4c-02.17.ipynb</a><br>"
      ],
      "text/plain": [
       "/Users/mmcintosh/Dropbox/ASTRON2017/C3030/scripts/model_nbs/C3030_modeling_template-out_4c-02.17.ipynb"
      ]
     },
     "metadata": {},
     "output_type": "display_data"
    },
    {
     "data": {
      "text/html": [
       "<a href='model_nbs/C3030_modeling_template-out_j040501+1610.ipynb' target='_blank'>model_nbs/C3030_modeling_template-out_j040501+1610.ipynb</a><br>"
      ],
      "text/plain": [
       "/Users/mmcintosh/Dropbox/ASTRON2017/C3030/scripts/model_nbs/C3030_modeling_template-out_j040501+1610.ipynb"
      ]
     },
     "metadata": {},
     "output_type": "display_data"
    },
    {
     "data": {
      "text/html": [
       "<a href='model_nbs/C3030_modeling_template-out_3c283.ipynb' target='_blank'>model_nbs/C3030_modeling_template-out_3c283.ipynb</a><br>"
      ],
      "text/plain": [
       "/Users/mmcintosh/Dropbox/ASTRON2017/C3030/scripts/model_nbs/C3030_modeling_template-out_3c283.ipynb"
      ]
     },
     "metadata": {},
     "output_type": "display_data"
    },
    {
     "data": {
      "text/html": [
       "<a href='model_nbs/C3030_modeling_template-out_j135152-1449.ipynb' target='_blank'>model_nbs/C3030_modeling_template-out_j135152-1449.ipynb</a><br>"
      ],
      "text/plain": [
       "/Users/mmcintosh/Dropbox/ASTRON2017/C3030/scripts/model_nbs/C3030_modeling_template-out_j135152-1449.ipynb"
      ]
     },
     "metadata": {},
     "output_type": "display_data"
    },
    {
     "data": {
      "text/html": [
       "<a href='model_nbs/C3030_modeling_template-out_pks1054+004.ipynb' target='_blank'>model_nbs/C3030_modeling_template-out_pks1054+004.ipynb</a><br>"
      ],
      "text/plain": [
       "/Users/mmcintosh/Dropbox/ASTRON2017/C3030/scripts/model_nbs/C3030_modeling_template-out_pks1054+004.ipynb"
      ]
     },
     "metadata": {},
     "output_type": "display_data"
    },
    {
     "data": {
      "text/html": [
       "<a href='model_nbs/C3030_modeling_template-out_j183538-7149.ipynb' target='_blank'>model_nbs/C3030_modeling_template-out_j183538-7149.ipynb</a><br>"
      ],
      "text/plain": [
       "/Users/mmcintosh/Dropbox/ASTRON2017/C3030/scripts/model_nbs/C3030_modeling_template-out_j183538-7149.ipynb"
      ]
     },
     "metadata": {},
     "output_type": "display_data"
    },
    {
     "data": {
      "text/html": [
       "<a href='model_nbs/C3030_modeling_template-out_pmnj1726-6427.ipynb' target='_blank'>model_nbs/C3030_modeling_template-out_pmnj1726-6427.ipynb</a><br>"
      ],
      "text/plain": [
       "/Users/mmcintosh/Dropbox/ASTRON2017/C3030/scripts/model_nbs/C3030_modeling_template-out_pmnj1726-6427.ipynb"
      ]
     },
     "metadata": {},
     "output_type": "display_data"
    },
    {
     "data": {
      "text/html": [
       "<a href='model_nbs/C3030_modeling_template-out_j183059-3602.ipynb' target='_blank'>model_nbs/C3030_modeling_template-out_j183059-3602.ipynb</a><br>"
      ],
      "text/plain": [
       "/Users/mmcintosh/Dropbox/ASTRON2017/C3030/scripts/model_nbs/C3030_modeling_template-out_j183059-3602.ipynb"
      ]
     },
     "metadata": {},
     "output_type": "display_data"
    },
    {
     "data": {
      "text/html": [
       "<a href='model_nbs/C3030_modeling_template-out_pks1557-00.ipynb' target='_blank'>model_nbs/C3030_modeling_template-out_pks1557-00.ipynb</a><br>"
      ],
      "text/plain": [
       "/Users/mmcintosh/Dropbox/ASTRON2017/C3030/scripts/model_nbs/C3030_modeling_template-out_pks1557-00.ipynb"
      ]
     },
     "metadata": {},
     "output_type": "display_data"
    },
    {
     "data": {
      "text/html": [
       "<a href='model_nbs/C3030_modeling_template-out_j221655-4521.ipynb' target='_blank'>model_nbs/C3030_modeling_template-out_j221655-4521.ipynb</a><br>"
      ],
      "text/plain": [
       "/Users/mmcintosh/Dropbox/ASTRON2017/C3030/scripts/model_nbs/C3030_modeling_template-out_j221655-4521.ipynb"
      ]
     },
     "metadata": {},
     "output_type": "display_data"
    },
    {
     "data": {
      "text/html": [
       "<a href='model_nbs/C3030_modeling_template-out_pksb2322-040.ipynb' target='_blank'>model_nbs/C3030_modeling_template-out_pksb2322-040.ipynb</a><br>"
      ],
      "text/plain": [
       "/Users/mmcintosh/Dropbox/ASTRON2017/C3030/scripts/model_nbs/C3030_modeling_template-out_pksb2322-040.ipynb"
      ]
     },
     "metadata": {},
     "output_type": "display_data"
    },
    {
     "data": {
      "text/html": [
       "<a href='model_nbs/C3030_modeling_template-out_j023619-3745.ipynb' target='_blank'>model_nbs/C3030_modeling_template-out_j023619-3745.ipynb</a><br>"
      ],
      "text/plain": [
       "/Users/mmcintosh/Dropbox/ASTRON2017/C3030/scripts/model_nbs/C3030_modeling_template-out_j023619-3745.ipynb"
      ]
     },
     "metadata": {},
     "output_type": "display_data"
    },
    {
     "data": {
      "text/html": [
       "<a href='model_nbs/C3030_modeling_template-out_j042553-1612.ipynb' target='_blank'>model_nbs/C3030_modeling_template-out_j042553-1612.ipynb</a><br>"
      ],
      "text/plain": [
       "/Users/mmcintosh/Dropbox/ASTRON2017/C3030/scripts/model_nbs/C3030_modeling_template-out_j042553-1612.ipynb"
      ]
     },
     "metadata": {},
     "output_type": "display_data"
    },
    {
     "data": {
      "text/html": [
       "<a href='model_nbs/C3030_modeling_template-out_j150704-1652.ipynb' target='_blank'>model_nbs/C3030_modeling_template-out_j150704-1652.ipynb</a><br>"
      ],
      "text/plain": [
       "/Users/mmcintosh/Dropbox/ASTRON2017/C3030/scripts/model_nbs/C3030_modeling_template-out_j150704-1652.ipynb"
      ]
     },
     "metadata": {},
     "output_type": "display_data"
    },
    {
     "data": {
      "text/html": [
       "<a href='model_nbs/C3030_modeling_template-out_pks1306-09.ipynb' target='_blank'>model_nbs/C3030_modeling_template-out_pks1306-09.ipynb</a><br>"
      ],
      "text/plain": [
       "/Users/mmcintosh/Dropbox/ASTRON2017/C3030/scripts/model_nbs/C3030_modeling_template-out_pks1306-09.ipynb"
      ]
     },
     "metadata": {},
     "output_type": "display_data"
    },
    {
     "data": {
      "text/html": [
       "<a href='model_nbs/C3030_modeling_template-out_pks1934-638.ipynb' target='_blank'>model_nbs/C3030_modeling_template-out_pks1934-638.ipynb</a><br>"
      ],
      "text/plain": [
       "/Users/mmcintosh/Dropbox/ASTRON2017/C3030/scripts/model_nbs/C3030_modeling_template-out_pks1934-638.ipynb"
      ]
     },
     "metadata": {},
     "output_type": "display_data"
    },
    {
     "data": {
      "text/html": [
       "<a href='model_nbs/C3030_modeling_template-out_pks2008-068.ipynb' target='_blank'>model_nbs/C3030_modeling_template-out_pks2008-068.ipynb</a><br>"
      ],
      "text/plain": [
       "/Users/mmcintosh/Dropbox/ASTRON2017/C3030/scripts/model_nbs/C3030_modeling_template-out_pks2008-068.ipynb"
      ]
     },
     "metadata": {},
     "output_type": "display_data"
    },
    {
     "data": {
      "text/html": [
       "<a href='model_nbs/C3030_modeling_template-out_pks2149-28.ipynb' target='_blank'>model_nbs/C3030_modeling_template-out_pks2149-28.ipynb</a><br>"
      ],
      "text/plain": [
       "/Users/mmcintosh/Dropbox/ASTRON2017/C3030/scripts/model_nbs/C3030_modeling_template-out_pks2149-28.ipynb"
      ]
     },
     "metadata": {},
     "output_type": "display_data"
    },
    {
     "data": {
      "text/html": [
       "<a href='model_nbs/C3030_modeling_template-out_pks0405-280.ipynb' target='_blank'>model_nbs/C3030_modeling_template-out_pks0405-280.ipynb</a><br>"
      ],
      "text/plain": [
       "/Users/mmcintosh/Dropbox/ASTRON2017/C3030/scripts/model_nbs/C3030_modeling_template-out_pks0405-280.ipynb"
      ]
     },
     "metadata": {},
     "output_type": "display_data"
    },
    {
     "data": {
      "text/html": [
       "<a href='model_nbs/C3030_modeling_template-out_j133737-1811.ipynb' target='_blank'>model_nbs/C3030_modeling_template-out_j133737-1811.ipynb</a><br>"
      ],
      "text/plain": [
       "/Users/mmcintosh/Dropbox/ASTRON2017/C3030/scripts/model_nbs/C3030_modeling_template-out_j133737-1811.ipynb"
      ]
     },
     "metadata": {},
     "output_type": "display_data"
    },
    {
     "data": {
      "text/html": [
       "<a href='model_nbs/C3030_modeling_template-out_j150134-3918.ipynb' target='_blank'>model_nbs/C3030_modeling_template-out_j150134-3918.ipynb</a><br>"
      ],
      "text/plain": [
       "/Users/mmcintosh/Dropbox/ASTRON2017/C3030/scripts/model_nbs/C3030_modeling_template-out_j150134-3918.ipynb"
      ]
     },
     "metadata": {},
     "output_type": "display_data"
    },
    {
     "data": {
      "text/html": [
       "<a href='model_nbs/C3030_modeling_template-out_pks0420-62.ipynb' target='_blank'>model_nbs/C3030_modeling_template-out_pks0420-62.ipynb</a><br>"
      ],
      "text/plain": [
       "/Users/mmcintosh/Dropbox/ASTRON2017/C3030/scripts/model_nbs/C3030_modeling_template-out_pks0420-62.ipynb"
      ]
     },
     "metadata": {},
     "output_type": "display_data"
    },
    {
     "data": {
      "text/html": [
       "<a href='model_nbs/C3030_modeling_template-out_pks1107+10.ipynb' target='_blank'>model_nbs/C3030_modeling_template-out_pks1107+10.ipynb</a><br>"
      ],
      "text/plain": [
       "/Users/mmcintosh/Dropbox/ASTRON2017/C3030/scripts/model_nbs/C3030_modeling_template-out_pks1107+10.ipynb"
      ]
     },
     "metadata": {},
     "output_type": "display_data"
    },
    {
     "data": {
      "text/html": [
       "<a href='model_nbs/C3030_modeling_template-out_pks0208+040.ipynb' target='_blank'>model_nbs/C3030_modeling_template-out_pks0208+040.ipynb</a><br>"
      ],
      "text/plain": [
       "/Users/mmcintosh/Dropbox/ASTRON2017/C3030/scripts/model_nbs/C3030_modeling_template-out_pks0208+040.ipynb"
      ]
     },
     "metadata": {},
     "output_type": "display_data"
    },
    {
     "data": {
      "text/html": [
       "<a href='model_nbs/C3030_modeling_template-out_4c+12.60.ipynb' target='_blank'>model_nbs/C3030_modeling_template-out_4c+12.60.ipynb</a><br>"
      ],
      "text/plain": [
       "/Users/mmcintosh/Dropbox/ASTRON2017/C3030/scripts/model_nbs/C3030_modeling_template-out_4c+12.60.ipynb"
      ]
     },
     "metadata": {},
     "output_type": "display_data"
    }
   ],
   "source": [
    "# loop\n",
    "overwrite = True\n",
    "# default args\n",
    "interactive = False\n",
    "nwalkers = 50 \n",
    "nsteps = 2000 \n",
    "burnin = 1000\n",
    "\n",
    "err_arr = []\n",
    "done_arr = []\n",
    "for i in iterlist_all: #iterlist_ATCAonly:\n",
    "   \n",
    "    if not sed_df.loc[i].best_model == '' and overwrite == False:\n",
    "        continue \n",
    "    name = sed_df.loc[i]['name']\n",
    "    nb_kwargs = {'source_index': i, 'interactive': interactive, 'nwalkers':nwalkers, 'nsteps':nsteps, 'burnin':burnin}\n",
    "    nb_suffix='-out_{0}'.format(name)\n",
    "    \n",
    "    try:\n",
    "        run_notebook(nb_name, nb_suffix=nb_suffix, nb_kwargs=nb_kwargs, hide_input=False,insert_pos=3, out_path='model_nbs/')\n",
    "        done_arr.append(name)\n",
    "    except:\n",
    "        err_arr.append(name)"
   ]
  },
  {
   "cell_type": "code",
   "execution_count": 17,
   "metadata": {
    "ExecuteTime": {
     "end_time": "2017-08-02T19:46:34.292039",
     "start_time": "2017-08-02T19:46:34.180006"
    },
    "collapsed": false
   },
   "outputs": [
    {
     "name": "stdout",
     "output_type": "stream",
     "text": [
      "reduced:  ['j231326-5343', 'j213801-4646', 'j221438-3835', 'pks2254-367', 'j221942-2756', 'j212921-1821', 'j225053-1204', 'pks2121-01', 'j031610-6820', 'j040820-6545', '0022-423', 'j011006-3651', 'pks0405-395', '0023-263', 'pks0439-337', 'pks0359-294', 'j011651-2052', 'j024008-2309', 'j040906-1757', 'pks0454-088', 'j012528-0005', 'j033931-0146', 'j042408+0204', '1245-197', '1015-314', 'pks1347-218', '0834-196', 'j103152-222823', 'pks1503-091', 'j124025-1717', '0859-140', 'pks0941-080', 'pks1200+045', '4c+12.50', 'pks0910+151', '1549-790', 'j194025-6907', 'j202100-6124', 'j185841-6313', 'pks1814-637', 'j172650-5529', 'pks1953-42', 'j145706-3604', 'pks1444-339', 'j145402-3400', 'pks1601-222', 'pks1545-120', 'pks2127+04', 'pks1543+005', '4c+02.43', 'j210700-6547', 'j233612-5236', 'j231255-4126', 'mwacsj2153.5-3445', '2135-209', 'j231117-1038', 'j015955-7430', 'j000253-5621', 'j041022-5232', 'j044033-4229', 'j010837-2851', 'j003830-2119', 'pks0207-224', 'pks0105-122', '4c+00.02', 'pks0500+019', '4c+05.14', 'pks1151-348', 'j144815-1620', '1354-174', 'j124824-1959', 'pks1107-187', 'pks1349+027', '4c+11.46', '4c+14.41', 'j185958-6615', 'pks1740-649', 'j174425-5144', 'pks1343-300', 'j201045-2425', 'pks1540-077', 'pks1518+047', 'j211622-5247', 'j222947-3823', 'mwacsj2157.5-1807', 'pks0252-71', 'pks0201-44', 'pks0204-306', 'pks0240-217', '4c-02.17', 'j040501+1610', '3c283', 'j135152-1449', 'pks1054+004', 'j183538-7149', 'pmnj1726-6427', 'j183059-3602', 'pks1557-00', 'j221655-4521', 'pksb2322-040', 'j023619-3745', 'j042553-1612', 'j150704-1652', 'pks1306-09', 'pks1934-638', 'pks2008-068', 'pks2149-28', 'pks0405-280', 'j133737-1811', 'j150134-3918', 'pks0420-62', 'pks1107+10', 'pks0208+040', '4c+12.60']\n",
      "errors on:  ['j212155-6404', '2311-452', 'mwacsj2352.4-3316', '4c-06.76', '0743-673', 'j001052-4153', 'j021622-3009', 'j044737-2203', 'j014922+0555', 'j033626+1302', 'pksb1042-269', 'j083639-2016', '4c-00.45']\n"
     ]
    }
   ],
   "source": [
    "print('reduced: ', len(done_arr))\n",
    "print('errors on: ', err_arr)"
   ]
  },
  {
   "cell_type": "code",
   "execution_count": 29,
   "metadata": {
    "ExecuteTime": {
     "end_time": "2017-08-03T16:00:44.357875",
     "start_time": "2017-08-03T10:20:42.063997"
    },
    "collapsed": false
   },
   "outputs": [
    {
     "data": {
      "text/html": [
       "<a href='model_nbs/C3030_modeling_template-out_j212155-6404.ipynb' target='_blank'>model_nbs/C3030_modeling_template-out_j212155-6404.ipynb</a><br>"
      ],
      "text/plain": [
       "/Users/mmcintosh/Dropbox/ASTRON2017/C3030/scripts/model_nbs/C3030_modeling_template-out_j212155-6404.ipynb"
      ]
     },
     "metadata": {},
     "output_type": "display_data"
    },
    {
     "data": {
      "text/html": [
       "<a href='model_nbs/C3030_modeling_template-out_2311-452.ipynb' target='_blank'>model_nbs/C3030_modeling_template-out_2311-452.ipynb</a><br>"
      ],
      "text/plain": [
       "/Users/mmcintosh/Dropbox/ASTRON2017/C3030/scripts/model_nbs/C3030_modeling_template-out_2311-452.ipynb"
      ]
     },
     "metadata": {},
     "output_type": "display_data"
    },
    {
     "data": {
      "text/html": [
       "<a href='model_nbs/C3030_modeling_template-out_mwacsj2352.4-3316.ipynb' target='_blank'>model_nbs/C3030_modeling_template-out_mwacsj2352.4-3316.ipynb</a><br>"
      ],
      "text/plain": [
       "/Users/mmcintosh/Dropbox/ASTRON2017/C3030/scripts/model_nbs/C3030_modeling_template-out_mwacsj2352.4-3316.ipynb"
      ]
     },
     "metadata": {},
     "output_type": "display_data"
    },
    {
     "name": "stdout",
     "output_type": "stream",
     "text": [
      "Error executing the notebook \"C3030_modeling_template.ipynb\".\n",
      "\n",
      "See notebook \"model_nbs/C3030_modeling_template-out_4c-06.76.ipynb\" for the traceback.\n"
     ]
    },
    {
     "data": {
      "text/html": [
       "<a href='model_nbs/C3030_modeling_template-out_4c-06.76.ipynb' target='_blank'>model_nbs/C3030_modeling_template-out_4c-06.76.ipynb</a><br>"
      ],
      "text/plain": [
       "/Users/mmcintosh/Dropbox/ASTRON2017/C3030/scripts/model_nbs/C3030_modeling_template-out_4c-06.76.ipynb"
      ]
     },
     "metadata": {},
     "output_type": "display_data"
    },
    {
     "name": "stdout",
     "output_type": "stream",
     "text": [
      "Error executing the notebook \"C3030_modeling_template.ipynb\".\n",
      "\n",
      "See notebook \"model_nbs/C3030_modeling_template-out_0743-673.ipynb\" for the traceback.\n"
     ]
    },
    {
     "data": {
      "text/html": [
       "<a href='model_nbs/C3030_modeling_template-out_0743-673.ipynb' target='_blank'>model_nbs/C3030_modeling_template-out_0743-673.ipynb</a><br>"
      ],
      "text/plain": [
       "/Users/mmcintosh/Dropbox/ASTRON2017/C3030/scripts/model_nbs/C3030_modeling_template-out_0743-673.ipynb"
      ]
     },
     "metadata": {},
     "output_type": "display_data"
    },
    {
     "data": {
      "text/html": [
       "<a href='model_nbs/C3030_modeling_template-out_j001052-4153.ipynb' target='_blank'>model_nbs/C3030_modeling_template-out_j001052-4153.ipynb</a><br>"
      ],
      "text/plain": [
       "/Users/mmcintosh/Dropbox/ASTRON2017/C3030/scripts/model_nbs/C3030_modeling_template-out_j001052-4153.ipynb"
      ]
     },
     "metadata": {},
     "output_type": "display_data"
    },
    {
     "data": {
      "text/html": [
       "<a href='model_nbs/C3030_modeling_template-out_j021622-3009.ipynb' target='_blank'>model_nbs/C3030_modeling_template-out_j021622-3009.ipynb</a><br>"
      ],
      "text/plain": [
       "/Users/mmcintosh/Dropbox/ASTRON2017/C3030/scripts/model_nbs/C3030_modeling_template-out_j021622-3009.ipynb"
      ]
     },
     "metadata": {},
     "output_type": "display_data"
    },
    {
     "data": {
      "text/html": [
       "<a href='model_nbs/C3030_modeling_template-out_j044737-2203.ipynb' target='_blank'>model_nbs/C3030_modeling_template-out_j044737-2203.ipynb</a><br>"
      ],
      "text/plain": [
       "/Users/mmcintosh/Dropbox/ASTRON2017/C3030/scripts/model_nbs/C3030_modeling_template-out_j044737-2203.ipynb"
      ]
     },
     "metadata": {},
     "output_type": "display_data"
    },
    {
     "data": {
      "text/html": [
       "<a href='model_nbs/C3030_modeling_template-out_j014922+0555.ipynb' target='_blank'>model_nbs/C3030_modeling_template-out_j014922+0555.ipynb</a><br>"
      ],
      "text/plain": [
       "/Users/mmcintosh/Dropbox/ASTRON2017/C3030/scripts/model_nbs/C3030_modeling_template-out_j014922+0555.ipynb"
      ]
     },
     "metadata": {},
     "output_type": "display_data"
    },
    {
     "data": {
      "text/html": [
       "<a href='model_nbs/C3030_modeling_template-out_j033626+1302.ipynb' target='_blank'>model_nbs/C3030_modeling_template-out_j033626+1302.ipynb</a><br>"
      ],
      "text/plain": [
       "/Users/mmcintosh/Dropbox/ASTRON2017/C3030/scripts/model_nbs/C3030_modeling_template-out_j033626+1302.ipynb"
      ]
     },
     "metadata": {},
     "output_type": "display_data"
    },
    {
     "data": {
      "text/html": [
       "<a href='model_nbs/C3030_modeling_template-out_pksb1042-269.ipynb' target='_blank'>model_nbs/C3030_modeling_template-out_pksb1042-269.ipynb</a><br>"
      ],
      "text/plain": [
       "/Users/mmcintosh/Dropbox/ASTRON2017/C3030/scripts/model_nbs/C3030_modeling_template-out_pksb1042-269.ipynb"
      ]
     },
     "metadata": {},
     "output_type": "display_data"
    },
    {
     "data": {
      "text/html": [
       "<a href='model_nbs/C3030_modeling_template-out_j083639-2016.ipynb' target='_blank'>model_nbs/C3030_modeling_template-out_j083639-2016.ipynb</a><br>"
      ],
      "text/plain": [
       "/Users/mmcintosh/Dropbox/ASTRON2017/C3030/scripts/model_nbs/C3030_modeling_template-out_j083639-2016.ipynb"
      ]
     },
     "metadata": {},
     "output_type": "display_data"
    },
    {
     "name": "stdout",
     "output_type": "stream",
     "text": [
      "Error executing the notebook \"C3030_modeling_template.ipynb\".\n",
      "\n",
      "See notebook \"model_nbs/C3030_modeling_template-out_4c-00.45.ipynb\" for the traceback.\n"
     ]
    },
    {
     "data": {
      "text/html": [
       "<a href='model_nbs/C3030_modeling_template-out_4c-00.45.ipynb' target='_blank'>model_nbs/C3030_modeling_template-out_4c-00.45.ipynb</a><br>"
      ],
      "text/plain": [
       "/Users/mmcintosh/Dropbox/ASTRON2017/C3030/scripts/model_nbs/C3030_modeling_template-out_4c-00.45.ipynb"
      ]
     },
     "metadata": {},
     "output_type": "display_data"
    },
    {
     "ename": "TypeError",
     "evalue": "'in <string>' requires string as left operand, not Series",
     "output_type": "error",
     "traceback": [
      "\u001b[0;31m---------------------------------------------------------------------------\u001b[0m",
      "\u001b[0;31mTypeError\u001b[0m                                 Traceback (most recent call last)",
      "\u001b[0;32m<ipython-input-29-687f5acd4ccd>\u001b[0m in \u001b[0;36m<module>\u001b[0;34m()\u001b[0m\n\u001b[1;32m      1\u001b[0m \u001b[0;32mfor\u001b[0m \u001b[0merr\u001b[0m \u001b[0;32min\u001b[0m \u001b[0merr_arr\u001b[0m\u001b[0;34m:\u001b[0m \u001b[0;31m#iterlist_ATCAonly:\u001b[0m\u001b[0;34m\u001b[0m\u001b[0m\n\u001b[0;32m----> 2\u001b[0;31m     \u001b[0mi\u001b[0m \u001b[0;34m=\u001b[0m \u001b[0;34m[\u001b[0m\u001b[0mind\u001b[0m \u001b[0;32mfor\u001b[0m \u001b[0mind\u001b[0m\u001b[0;34m,\u001b[0m\u001b[0ms\u001b[0m \u001b[0;32min\u001b[0m \u001b[0mtemp\u001b[0m \u001b[0;32mif\u001b[0m \u001b[0merr\u001b[0m \u001b[0;32min\u001b[0m \u001b[0ms\u001b[0m\u001b[0;34m]\u001b[0m\u001b[0;34m[\u001b[0m\u001b[0;36m0\u001b[0m\u001b[0;34m]\u001b[0m\u001b[0;34m\u001b[0m\u001b[0m\n\u001b[0m\u001b[1;32m      3\u001b[0m     \u001b[0mname\u001b[0m \u001b[0;34m=\u001b[0m \u001b[0msed_df\u001b[0m\u001b[0;34m.\u001b[0m\u001b[0mloc\u001b[0m\u001b[0;34m[\u001b[0m\u001b[0mi\u001b[0m\u001b[0;34m]\u001b[0m\u001b[0;34m[\u001b[0m\u001b[0;34m'name'\u001b[0m\u001b[0;34m]\u001b[0m\u001b[0;34m\u001b[0m\u001b[0m\n\u001b[1;32m      4\u001b[0m     \u001b[0mnb_kwargs\u001b[0m \u001b[0;34m=\u001b[0m \u001b[0;34m{\u001b[0m\u001b[0;34m'source_index'\u001b[0m\u001b[0;34m:\u001b[0m \u001b[0mi\u001b[0m\u001b[0;34m,\u001b[0m \u001b[0;34m'interactive'\u001b[0m\u001b[0;34m:\u001b[0m \u001b[0minteractive\u001b[0m\u001b[0;34m,\u001b[0m \u001b[0;34m'nwalkers'\u001b[0m\u001b[0;34m:\u001b[0m\u001b[0mnwalkers\u001b[0m\u001b[0;34m,\u001b[0m \u001b[0;34m'nsteps'\u001b[0m\u001b[0;34m:\u001b[0m\u001b[0mnsteps\u001b[0m\u001b[0;34m,\u001b[0m \u001b[0;34m'burnin'\u001b[0m\u001b[0;34m:\u001b[0m\u001b[0mburnin\u001b[0m\u001b[0;34m}\u001b[0m\u001b[0;34m\u001b[0m\u001b[0m\n\u001b[1;32m      5\u001b[0m     \u001b[0mnb_suffix\u001b[0m\u001b[0;34m=\u001b[0m\u001b[0;34m'-out_{0}'\u001b[0m\u001b[0;34m.\u001b[0m\u001b[0mformat\u001b[0m\u001b[0;34m(\u001b[0m\u001b[0mname\u001b[0m\u001b[0;34m)\u001b[0m\u001b[0;34m\u001b[0m\u001b[0m\n",
      "\u001b[0;32m<ipython-input-29-687f5acd4ccd>\u001b[0m in \u001b[0;36m<listcomp>\u001b[0;34m(.0)\u001b[0m\n\u001b[1;32m      1\u001b[0m \u001b[0;32mfor\u001b[0m \u001b[0merr\u001b[0m \u001b[0;32min\u001b[0m \u001b[0merr_arr\u001b[0m\u001b[0;34m:\u001b[0m \u001b[0;31m#iterlist_ATCAonly:\u001b[0m\u001b[0;34m\u001b[0m\u001b[0m\n\u001b[0;32m----> 2\u001b[0;31m     \u001b[0mi\u001b[0m \u001b[0;34m=\u001b[0m \u001b[0;34m[\u001b[0m\u001b[0mind\u001b[0m \u001b[0;32mfor\u001b[0m \u001b[0mind\u001b[0m\u001b[0;34m,\u001b[0m\u001b[0ms\u001b[0m \u001b[0;32min\u001b[0m \u001b[0mtemp\u001b[0m \u001b[0;32mif\u001b[0m \u001b[0merr\u001b[0m \u001b[0;32min\u001b[0m \u001b[0ms\u001b[0m\u001b[0;34m]\u001b[0m\u001b[0;34m[\u001b[0m\u001b[0;36m0\u001b[0m\u001b[0;34m]\u001b[0m\u001b[0;34m\u001b[0m\u001b[0m\n\u001b[0m\u001b[1;32m      3\u001b[0m     \u001b[0mname\u001b[0m \u001b[0;34m=\u001b[0m \u001b[0msed_df\u001b[0m\u001b[0;34m.\u001b[0m\u001b[0mloc\u001b[0m\u001b[0;34m[\u001b[0m\u001b[0mi\u001b[0m\u001b[0;34m]\u001b[0m\u001b[0;34m[\u001b[0m\u001b[0;34m'name'\u001b[0m\u001b[0;34m]\u001b[0m\u001b[0;34m\u001b[0m\u001b[0m\n\u001b[1;32m      4\u001b[0m     \u001b[0mnb_kwargs\u001b[0m \u001b[0;34m=\u001b[0m \u001b[0;34m{\u001b[0m\u001b[0;34m'source_index'\u001b[0m\u001b[0;34m:\u001b[0m \u001b[0mi\u001b[0m\u001b[0;34m,\u001b[0m \u001b[0;34m'interactive'\u001b[0m\u001b[0;34m:\u001b[0m \u001b[0minteractive\u001b[0m\u001b[0;34m,\u001b[0m \u001b[0;34m'nwalkers'\u001b[0m\u001b[0;34m:\u001b[0m\u001b[0mnwalkers\u001b[0m\u001b[0;34m,\u001b[0m \u001b[0;34m'nsteps'\u001b[0m\u001b[0;34m:\u001b[0m\u001b[0mnsteps\u001b[0m\u001b[0;34m,\u001b[0m \u001b[0;34m'burnin'\u001b[0m\u001b[0;34m:\u001b[0m\u001b[0mburnin\u001b[0m\u001b[0;34m}\u001b[0m\u001b[0;34m\u001b[0m\u001b[0m\n\u001b[1;32m      5\u001b[0m     \u001b[0mnb_suffix\u001b[0m\u001b[0;34m=\u001b[0m\u001b[0;34m'-out_{0}'\u001b[0m\u001b[0;34m.\u001b[0m\u001b[0mformat\u001b[0m\u001b[0;34m(\u001b[0m\u001b[0mname\u001b[0m\u001b[0;34m)\u001b[0m\u001b[0;34m\u001b[0m\u001b[0m\n",
      "\u001b[0;31mTypeError\u001b[0m: 'in <string>' requires string as left operand, not Series"
     ]
    }
   ],
   "source": [
    "for err in err_arr: #iterlist_ATCAonly:\n",
    "    i = [ind for ind,s in temp if err in s][0]\n",
    "    name = sed_df.loc[i]['name']\n",
    "    nb_kwargs = {'source_index': i, 'interactive': interactive, 'nwalkers':nwalkers, 'nsteps':nsteps, 'burnin':burnin}\n",
    "    nb_suffix='-out_{0}'.format(name)\n",
    "    \n",
    "    try:\n",
    "        run_notebook(nb_name, nb_suffix=nb_suffix, nb_kwargs=nb_kwargs, hide_input=False,insert_pos=3, out_path='model_nbs/')\n",
    "        done_arr.append(name)\n",
    "    except:\n",
    "        err_arr.append(name)"
   ]
  },
  {
   "cell_type": "markdown",
   "metadata": {
    "heading_collapsed": true
   },
   "source": [
    "# Playing with error bars"
   ]
  },
  {
   "cell_type": "code",
   "execution_count": 14,
   "metadata": {
    "ExecuteTime": {
     "end_time": "2017-07-31T14:46:28.676688",
     "start_time": "2017-07-31T11:59:02.428555"
    },
    "collapsed": false,
    "hidden": true
   },
   "outputs": [
    {
     "data": {
      "text/html": [
       "<a href='model_nbs/combine_surveys-out_0-03.ipynb' target='_blank'>model_nbs/combine_surveys-out_0-03.ipynb</a><br>"
      ],
      "text/plain": [
       "/Users/mmcintosh/Dropbox/ASTRON2017/C3030/scripts/model_nbs/combine_surveys-out_0-03.ipynb"
      ]
     },
     "metadata": {},
     "output_type": "display_data"
    },
    {
     "data": {
      "text/html": [
       "<a href='model_nbs/C3030_modeling_template-out_j174425-5144_at0-03.ipynb' target='_blank'>model_nbs/C3030_modeling_template-out_j174425-5144_at0-03.ipynb</a><br>"
      ],
      "text/plain": [
       "/Users/mmcintosh/Dropbox/ASTRON2017/C3030/scripts/model_nbs/C3030_modeling_template-out_j174425-5144_at0-03.ipynb"
      ]
     },
     "metadata": {},
     "output_type": "display_data"
    },
    {
     "data": {
      "text/html": [
       "<a href='model_nbs/combine_surveys-out_0-05.ipynb' target='_blank'>model_nbs/combine_surveys-out_0-05.ipynb</a><br>"
      ],
      "text/plain": [
       "/Users/mmcintosh/Dropbox/ASTRON2017/C3030/scripts/model_nbs/combine_surveys-out_0-05.ipynb"
      ]
     },
     "metadata": {},
     "output_type": "display_data"
    },
    {
     "data": {
      "text/html": [
       "<a href='model_nbs/C3030_modeling_template-out_j174425-5144_at0-05.ipynb' target='_blank'>model_nbs/C3030_modeling_template-out_j174425-5144_at0-05.ipynb</a><br>"
      ],
      "text/plain": [
       "/Users/mmcintosh/Dropbox/ASTRON2017/C3030/scripts/model_nbs/C3030_modeling_template-out_j174425-5144_at0-05.ipynb"
      ]
     },
     "metadata": {},
     "output_type": "display_data"
    },
    {
     "data": {
      "text/html": [
       "<a href='model_nbs/combine_surveys-out_0-1.ipynb' target='_blank'>model_nbs/combine_surveys-out_0-1.ipynb</a><br>"
      ],
      "text/plain": [
       "/Users/mmcintosh/Dropbox/ASTRON2017/C3030/scripts/model_nbs/combine_surveys-out_0-1.ipynb"
      ]
     },
     "metadata": {},
     "output_type": "display_data"
    },
    {
     "data": {
      "text/html": [
       "<a href='model_nbs/C3030_modeling_template-out_j174425-5144_at0-1.ipynb' target='_blank'>model_nbs/C3030_modeling_template-out_j174425-5144_at0-1.ipynb</a><br>"
      ],
      "text/plain": [
       "/Users/mmcintosh/Dropbox/ASTRON2017/C3030/scripts/model_nbs/C3030_modeling_template-out_j174425-5144_at0-1.ipynb"
      ]
     },
     "metadata": {},
     "output_type": "display_data"
    }
   ],
   "source": [
    "# model with 3,5, and 10% errors on ATCA data to see if models differ significantly\n",
    "for ATCA_err in [0.03,0.05,0.1]:\n",
    "    errname = str(ATCA_err).replace('.','-')\n",
    "    nb_kwargs = {'ATCA_err': ATCA_err}\n",
    "    nb_suffix='-out_{0}'.format(errname)\n",
    "\n",
    "    nb_name = 'combine_surveys.ipynb'\n",
    "    run_notebook(nb_name, nb_suffix=nb_suffix, nb_kwargs=nb_kwargs, hide_input=False,insert_pos=3, out_path='model_nbs/')\n",
    "\n",
    "    sedfile = 'sed_df.pkl'\n",
    "    sed_loc = os.getcwd()+\"/\"+sedfile\n",
    "    sed_df = pd.read_pickle(sed_loc)\n",
    "    sed_df.to_pickle(model_ev_dir+'modeled_df.pkl')\n",
    "\n",
    "    source_index, name = [(i, name) for i,name in enumerate(sed_df.name.values) if '1744' in name][0]\n",
    "    # default args\n",
    "    interactive = False\n",
    "    nwalkers = 50 \n",
    "    nsteps = 1000 \n",
    "    burnin = 500\n",
    "\n",
    "    nb_name = 'C3030_modeling_template.ipynb'\n",
    "    nb_kwargs = {'source_index': source_index, 'interactive': interactive, 'nwalkers':nwalkers, 'nsteps':nsteps, 'burnin':burnin}\n",
    "    nb_suffix='-out_{0}_at{1}'.format(name, errname)\n",
    "\n",
    "    run_notebook(nb_name, nb_suffix=nb_suffix, nb_kwargs=nb_kwargs, hide_input=False,insert_pos=3, out_path='model_nbs/')"
   ]
  },
  {
   "cell_type": "code",
   "execution_count": null,
   "metadata": {
    "collapsed": true,
    "hidden": true
   },
   "outputs": [],
   "source": [
    "# we concluded that 0.05 was good"
   ]
  }
 ],
 "metadata": {
  "hide_input": false,
  "kernelspec": {
   "display_name": "Python 3",
   "language": "python",
   "name": "python3"
  },
  "language_info": {
   "codemirror_mode": {
    "name": "ipython",
    "version": 3
   },
   "file_extension": ".py",
   "mimetype": "text/x-python",
   "name": "python",
   "nbconvert_exporter": "python",
   "pygments_lexer": "ipython3",
   "version": "3.4.5"
  },
  "latex_envs": {
   "bibliofile": "biblio.bib",
   "cite_by": "apalike",
   "current_citInitial": 1,
   "eqLabelWithNumbers": true,
   "eqNumInitial": 0
  },
  "toc": {
   "colors": {
    "hover_highlight": "#DAA520",
    "running_highlight": "#FF0000",
    "selected_highlight": "#FFD700"
   },
   "moveMenuLeft": true,
   "nav_menu": {
    "height": "66px",
    "width": "252px"
   },
   "navigate_menu": true,
   "number_sections": true,
   "sideBar": true,
   "threshold": 4,
   "toc_cell": false,
   "toc_section_display": "block",
   "toc_window_display": false,
   "widenNotebook": false
  }
 },
 "nbformat": 4,
 "nbformat_minor": 2
}
